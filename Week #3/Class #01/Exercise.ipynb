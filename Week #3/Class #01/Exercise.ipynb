{
 "cells": [
  {
   "cell_type": "markdown",
   "metadata": {},
   "source": [
    "# Task: Exploring and Cleaning Historical Rainfall Data\n",
    "\n",
    "## Objective:\n",
    "The goal of this task is to guide you through data cleaning, visualization, and advanced operations using pandas, numpy, and matplotlib. You will work with a historical rainfall dataset to clean the data, create visualizations, and perform advanced operations such as grouping, aggregating, hierarchical indexing, and joining datasets.\n",
    "\n",
    "---\n",
    "\n",
    "## 1. Data Cleaning and Inspection:\n",
    "- Load the dataset and examine its structure using `.info()` and `.describe()`. \n",
    "- Identify any columns with missing values and inspect their distribution.\n",
    "- Check for duplicate entries and handle them appropriately (if any).\n",
    "  \n",
    "**Instructions**:\n",
    "- Print the number of missing values in each column.\n",
    "- Print the number of duplicate rows in the dataset.\n",
    "\n",
    "## 2. Handling Missing Values:\n",
    "- The \"NAME\" column has some missing values. Explore the rows with missing \"NAME\" values and decide on an appropriate strategy to fill them.\n",
    "- Fill the missing values in the \"NAME\" column using forward fill or another appropriate method.\n",
    "- Verify that there are no remaining missing values in the \"NAME\" column after filling.\n",
    "\n",
    "**Instructions**:\n",
    "- Fill the missing values and print the number of missing values in each column before and after filling.\n",
    "\n",
    "## 3. Data Visualization:\n",
    "- Create a histogram of the \"RAINFALL\" column to visualize its distribution.\n",
    "- Plot a time series line chart showing the average rainfall per year.\n",
    "- Create a box plot to visualize the distribution of rainfall by \"CHANNEL\".\n",
    "- Plot the average rainfall per year using a bar chart.\n",
    "\n",
    "**Instructions**:\n",
    "- Use matplotlib to create and display the plots mentioned above.\n",
    "- Comment on the distribution patterns you observe in the histogram and the time series chart.\n",
    "\n",
    "## 4. GroupBy and Aggregation:\n",
    "- Group the data by the \"CHANNEL\" column and compute the mean, median, and total rainfall for each channel.\n",
    "\n",
    "**Instructions**:\n",
    "- Use `groupby()` to calculate and print the mean, median, and total rainfall per channel.\n",
    "\n",
    "## 5. Hierarchical Indexing:\n",
    "- Set a multi-level index using \"YEAR\" and \"CHANNEL\".\n",
    "- Perform a query to find the rainfall for a specific year and channel using `.loc[]`.\n",
    "- Reset the index to return to a flat structure and demonstrate the difference between hierarchical and flat indexing.\n",
    "\n",
    "**Instructions**:\n",
    "- Set the multi-level index and use `.loc[]` to retrieve data for year 2021 and channel 44.\n",
    "- Reset the index and show how the structure of the data changes.\n",
    "\n",
    "## 6. Join Operations (Simulating Metadata Join):\n",
    "- Imagine you have a separate dataset with metadata about each channel, such as the region and description of the location. Perform a `join` operation to combine this metadata with the rainfall dataset based on the \"CHANNEL\" column.\n",
    "\n",
    "**Instructions**:\n",
    "- Create a small sample metadata dataframe with \"CHANNEL\", \"Region\", and \"Description\" columns.\n",
    "- Merge the rainfall data with the metadata and display a sample of the merged dataset.\n",
    "\n",
    "---\n"
   ]
  },
  {
   "cell_type": "markdown",
   "metadata": {},
   "source": []
  }
 ],
 "metadata": {
  "language_info": {
   "name": "python"
  }
 },
 "nbformat": 4,
 "nbformat_minor": 2
}
