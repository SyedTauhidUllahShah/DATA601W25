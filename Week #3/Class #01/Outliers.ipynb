{
 "cells": [
  {
   "cell_type": "markdown",
   "metadata": {},
   "source": [
    "# Outliers in Pandas\n",
    "Outliers are data points that significantly deviate from the majority of the dataset. They can occur due to variability in data, measurement errors, or other factors. Detecting and handling outliers is crucial in data analysis because they can skew statistical results, affect model accuracy, and provide important insights.\n",
    "\n",
    "### Characteristics of Outliers\n",
    "\n",
    "- Extreme Values: Data points that are unusually high or low compared to the rest of the data.\n",
    "- Skewed Distribution: Outliers can cause data to become non-normally distributed.\n",
    "- Impact on Metrics: Mean, variance, and standard deviation are particularly sensitive to outliers."
   ]
  },
  {
   "cell_type": "markdown",
   "metadata": {},
   "source": []
  },
  {
   "cell_type": "code",
   "execution_count": 18,
   "metadata": {},
   "outputs": [],
   "source": [
    "#Step 1: Importing Necessary Libraries\n",
    "import pandas as pd\n",
    "import matplotlib.pyplot as plt\n",
    "import seaborn as sns\n",
    "\n",
    "# For better visualization aesthetics\n",
    "sns.set(style=\"whitegrid\")\n"
   ]
  },
  {
   "cell_type": "code",
   "execution_count": 16,
   "metadata": {},
   "outputs": [
    {
     "data": {
      "text/html": [
       "<div>\n",
       "<style scoped>\n",
       "    .dataframe tbody tr th:only-of-type {\n",
       "        vertical-align: middle;\n",
       "    }\n",
       "\n",
       "    .dataframe tbody tr th {\n",
       "        vertical-align: top;\n",
       "    }\n",
       "\n",
       "    .dataframe thead th {\n",
       "        text-align: right;\n",
       "    }\n",
       "</style>\n",
       "<table border=\"1\" class=\"dataframe\">\n",
       "  <thead>\n",
       "    <tr style=\"text-align: right;\">\n",
       "      <th></th>\n",
       "      <th>PassengerId</th>\n",
       "      <th>Survived</th>\n",
       "      <th>Pclass</th>\n",
       "      <th>Name</th>\n",
       "      <th>Sex</th>\n",
       "      <th>Age</th>\n",
       "      <th>SibSp</th>\n",
       "      <th>Parch</th>\n",
       "      <th>Ticket</th>\n",
       "      <th>Fare</th>\n",
       "      <th>Cabin</th>\n",
       "      <th>Embarked</th>\n",
       "    </tr>\n",
       "  </thead>\n",
       "  <tbody>\n",
       "    <tr>\n",
       "      <th>0</th>\n",
       "      <td>1</td>\n",
       "      <td>0</td>\n",
       "      <td>3</td>\n",
       "      <td>Braund, Mr. Owen Harris</td>\n",
       "      <td>male</td>\n",
       "      <td>22.0</td>\n",
       "      <td>1</td>\n",
       "      <td>0</td>\n",
       "      <td>A/5 21171</td>\n",
       "      <td>7.2500</td>\n",
       "      <td>NaN</td>\n",
       "      <td>S</td>\n",
       "    </tr>\n",
       "    <tr>\n",
       "      <th>1</th>\n",
       "      <td>2</td>\n",
       "      <td>1</td>\n",
       "      <td>1</td>\n",
       "      <td>Cumings, Mrs. John Bradley (Florence Briggs Th...</td>\n",
       "      <td>female</td>\n",
       "      <td>38.0</td>\n",
       "      <td>1</td>\n",
       "      <td>0</td>\n",
       "      <td>PC 17599</td>\n",
       "      <td>71.2833</td>\n",
       "      <td>C85</td>\n",
       "      <td>C</td>\n",
       "    </tr>\n",
       "    <tr>\n",
       "      <th>2</th>\n",
       "      <td>3</td>\n",
       "      <td>1</td>\n",
       "      <td>3</td>\n",
       "      <td>Heikkinen, Miss. Laina</td>\n",
       "      <td>female</td>\n",
       "      <td>26.0</td>\n",
       "      <td>0</td>\n",
       "      <td>0</td>\n",
       "      <td>STON/O2. 3101282</td>\n",
       "      <td>7.9250</td>\n",
       "      <td>NaN</td>\n",
       "      <td>S</td>\n",
       "    </tr>\n",
       "    <tr>\n",
       "      <th>3</th>\n",
       "      <td>4</td>\n",
       "      <td>1</td>\n",
       "      <td>1</td>\n",
       "      <td>Futrelle, Mrs. Jacques Heath (Lily May Peel)</td>\n",
       "      <td>female</td>\n",
       "      <td>35.0</td>\n",
       "      <td>1</td>\n",
       "      <td>0</td>\n",
       "      <td>113803</td>\n",
       "      <td>53.1000</td>\n",
       "      <td>C123</td>\n",
       "      <td>S</td>\n",
       "    </tr>\n",
       "    <tr>\n",
       "      <th>4</th>\n",
       "      <td>5</td>\n",
       "      <td>0</td>\n",
       "      <td>3</td>\n",
       "      <td>Allen, Mr. William Henry</td>\n",
       "      <td>male</td>\n",
       "      <td>35.0</td>\n",
       "      <td>0</td>\n",
       "      <td>0</td>\n",
       "      <td>373450</td>\n",
       "      <td>8.0500</td>\n",
       "      <td>NaN</td>\n",
       "      <td>S</td>\n",
       "    </tr>\n",
       "  </tbody>\n",
       "</table>\n",
       "</div>"
      ],
      "text/plain": [
       "   PassengerId  Survived  Pclass  \\\n",
       "0            1         0       3   \n",
       "1            2         1       1   \n",
       "2            3         1       3   \n",
       "3            4         1       1   \n",
       "4            5         0       3   \n",
       "\n",
       "                                                Name     Sex   Age  SibSp  \\\n",
       "0                            Braund, Mr. Owen Harris    male  22.0      1   \n",
       "1  Cumings, Mrs. John Bradley (Florence Briggs Th...  female  38.0      1   \n",
       "2                             Heikkinen, Miss. Laina  female  26.0      0   \n",
       "3       Futrelle, Mrs. Jacques Heath (Lily May Peel)  female  35.0      1   \n",
       "4                           Allen, Mr. William Henry    male  35.0      0   \n",
       "\n",
       "   Parch            Ticket     Fare Cabin Embarked  \n",
       "0      0         A/5 21171   7.2500   NaN        S  \n",
       "1      0          PC 17599  71.2833   C85        C  \n",
       "2      0  STON/O2. 3101282   7.9250   NaN        S  \n",
       "3      0            113803  53.1000  C123        S  \n",
       "4      0            373450   8.0500   NaN        S  "
      ]
     },
     "metadata": {},
     "output_type": "display_data"
    }
   ],
   "source": [
    "\n",
    "# Load the Titanic dataset from GitHub\n",
    "url = \"https://raw.githubusercontent.com/datasciencedojo/datasets/master/titanic.csv\"\n",
    "df_titanic = pd.read_csv(url)\n",
    "\n",
    "# Display the first few rows\n",
    "display(df_titanic.head())\n"
   ]
  },
  {
   "cell_type": "code",
   "execution_count": 19,
   "metadata": {},
   "outputs": [
    {
     "name": "stdout",
     "output_type": "stream",
     "text": [
      "<class 'pandas.core.frame.DataFrame'>\n",
      "RangeIndex: 891 entries, 0 to 890\n",
      "Data columns (total 12 columns):\n",
      " #   Column       Non-Null Count  Dtype  \n",
      "---  ------       --------------  -----  \n",
      " 0   PassengerId  891 non-null    int64  \n",
      " 1   Survived     891 non-null    int64  \n",
      " 2   Pclass       891 non-null    int64  \n",
      " 3   Name         891 non-null    object \n",
      " 4   Sex          891 non-null    object \n",
      " 5   Age          714 non-null    float64\n",
      " 6   SibSp        891 non-null    int64  \n",
      " 7   Parch        891 non-null    int64  \n",
      " 8   Ticket       891 non-null    object \n",
      " 9   Fare         891 non-null    float64\n",
      " 10  Cabin        204 non-null    object \n",
      " 11  Embarked     889 non-null    object \n",
      "dtypes: float64(2), int64(5), object(5)\n",
      "memory usage: 83.7+ KB\n"
     ]
    },
    {
     "data": {
      "text/plain": [
       "None"
      ]
     },
     "metadata": {},
     "output_type": "display_data"
    },
    {
     "data": {
      "text/html": [
       "<div>\n",
       "<style scoped>\n",
       "    .dataframe tbody tr th:only-of-type {\n",
       "        vertical-align: middle;\n",
       "    }\n",
       "\n",
       "    .dataframe tbody tr th {\n",
       "        vertical-align: top;\n",
       "    }\n",
       "\n",
       "    .dataframe thead th {\n",
       "        text-align: right;\n",
       "    }\n",
       "</style>\n",
       "<table border=\"1\" class=\"dataframe\">\n",
       "  <thead>\n",
       "    <tr style=\"text-align: right;\">\n",
       "      <th></th>\n",
       "      <th>PassengerId</th>\n",
       "      <th>Survived</th>\n",
       "      <th>Pclass</th>\n",
       "      <th>Age</th>\n",
       "      <th>SibSp</th>\n",
       "      <th>Parch</th>\n",
       "      <th>Fare</th>\n",
       "    </tr>\n",
       "  </thead>\n",
       "  <tbody>\n",
       "    <tr>\n",
       "      <th>count</th>\n",
       "      <td>891.000000</td>\n",
       "      <td>891.000000</td>\n",
       "      <td>891.000000</td>\n",
       "      <td>714.000000</td>\n",
       "      <td>891.000000</td>\n",
       "      <td>891.000000</td>\n",
       "      <td>891.000000</td>\n",
       "    </tr>\n",
       "    <tr>\n",
       "      <th>mean</th>\n",
       "      <td>446.000000</td>\n",
       "      <td>0.383838</td>\n",
       "      <td>2.308642</td>\n",
       "      <td>29.699118</td>\n",
       "      <td>0.523008</td>\n",
       "      <td>0.381594</td>\n",
       "      <td>32.204208</td>\n",
       "    </tr>\n",
       "    <tr>\n",
       "      <th>std</th>\n",
       "      <td>257.353842</td>\n",
       "      <td>0.486592</td>\n",
       "      <td>0.836071</td>\n",
       "      <td>14.526497</td>\n",
       "      <td>1.102743</td>\n",
       "      <td>0.806057</td>\n",
       "      <td>49.693429</td>\n",
       "    </tr>\n",
       "    <tr>\n",
       "      <th>min</th>\n",
       "      <td>1.000000</td>\n",
       "      <td>0.000000</td>\n",
       "      <td>1.000000</td>\n",
       "      <td>0.420000</td>\n",
       "      <td>0.000000</td>\n",
       "      <td>0.000000</td>\n",
       "      <td>0.000000</td>\n",
       "    </tr>\n",
       "    <tr>\n",
       "      <th>25%</th>\n",
       "      <td>223.500000</td>\n",
       "      <td>0.000000</td>\n",
       "      <td>2.000000</td>\n",
       "      <td>20.125000</td>\n",
       "      <td>0.000000</td>\n",
       "      <td>0.000000</td>\n",
       "      <td>7.910400</td>\n",
       "    </tr>\n",
       "    <tr>\n",
       "      <th>50%</th>\n",
       "      <td>446.000000</td>\n",
       "      <td>0.000000</td>\n",
       "      <td>3.000000</td>\n",
       "      <td>28.000000</td>\n",
       "      <td>0.000000</td>\n",
       "      <td>0.000000</td>\n",
       "      <td>14.454200</td>\n",
       "    </tr>\n",
       "    <tr>\n",
       "      <th>75%</th>\n",
       "      <td>668.500000</td>\n",
       "      <td>1.000000</td>\n",
       "      <td>3.000000</td>\n",
       "      <td>38.000000</td>\n",
       "      <td>1.000000</td>\n",
       "      <td>0.000000</td>\n",
       "      <td>31.000000</td>\n",
       "    </tr>\n",
       "    <tr>\n",
       "      <th>max</th>\n",
       "      <td>891.000000</td>\n",
       "      <td>1.000000</td>\n",
       "      <td>3.000000</td>\n",
       "      <td>80.000000</td>\n",
       "      <td>8.000000</td>\n",
       "      <td>6.000000</td>\n",
       "      <td>512.329200</td>\n",
       "    </tr>\n",
       "  </tbody>\n",
       "</table>\n",
       "</div>"
      ],
      "text/plain": [
       "       PassengerId    Survived      Pclass         Age       SibSp  \\\n",
       "count   891.000000  891.000000  891.000000  714.000000  891.000000   \n",
       "mean    446.000000    0.383838    2.308642   29.699118    0.523008   \n",
       "std     257.353842    0.486592    0.836071   14.526497    1.102743   \n",
       "min       1.000000    0.000000    1.000000    0.420000    0.000000   \n",
       "25%     223.500000    0.000000    2.000000   20.125000    0.000000   \n",
       "50%     446.000000    0.000000    3.000000   28.000000    0.000000   \n",
       "75%     668.500000    1.000000    3.000000   38.000000    1.000000   \n",
       "max     891.000000    1.000000    3.000000   80.000000    8.000000   \n",
       "\n",
       "            Parch        Fare  \n",
       "count  891.000000  891.000000  \n",
       "mean     0.381594   32.204208  \n",
       "std      0.806057   49.693429  \n",
       "min      0.000000    0.000000  \n",
       "25%      0.000000    7.910400  \n",
       "50%      0.000000   14.454200  \n",
       "75%      0.000000   31.000000  \n",
       "max      6.000000  512.329200  "
      ]
     },
     "metadata": {},
     "output_type": "display_data"
    }
   ],
   "source": [
    "# Step 3: Understanding the Dataset\n",
    "# Get summary of the dataset\n",
    "display(df_titanic.info())\n",
    "\n",
    "# Get statistical summary of numerical columns\n",
    "display(df_titanic.describe())\n"
   ]
  },
  {
   "cell_type": "markdown",
   "metadata": {},
   "source": [
    "### Step 4: Visualizing Outliers\n",
    "Visualization is a powerful tool to detect outliers. We will use boxplots and scatter plots to identify outliers in numerical variables."
   ]
  },
  {
   "cell_type": "code",
   "execution_count": 20,
   "metadata": {},
   "outputs": [
    {
     "data": {
      "image/png": "[encoded data removed]",
      "text/plain": [
       "<Figure size 1000x600 with 1 Axes>"
      ]
     },
     "metadata": {},
     "output_type": "display_data"
    }
   ],
   "source": [
    "# Boxplot for Fare\n",
    "plt.figure(figsize=(10, 6))\n",
    "sns.boxplot(x=df_titanic['Fare'])\n",
    "plt.title('Boxplot of Fare')\n",
    "plt.xlabel('Fare')\n",
    "plt.show()\n"
   ]
  },
  {
   "cell_type": "code",
   "execution_count": 21,
   "metadata": {},
   "outputs": [
    {
     "data": {
      "image/png": "[encoded data removed]",
      "text/plain": [
       "<Figure size 1000x600 with 1 Axes>"
      ]
     },
     "metadata": {},
     "output_type": "display_data"
    }
   ],
   "source": [
    "# Scatter plot of Age vs. Fare\n",
    "plt.figure(figsize=(10, 6))\n",
    "sns.scatterplot(x='Age', y='Fare', data=df_titanic)\n",
    "plt.title('Scatter Plot of Age vs. Fare')\n",
    "plt.xlabel('Age')\n",
    "plt.ylabel('Fare')\n",
    "plt.show()\n"
   ]
  },
  {
   "cell_type": "markdown",
   "metadata": {},
   "source": [
    "### Step 5: Statistical Methods for Outlier Detection\n",
    "- 5.1 Interquartile Range (IQR) Method\n",
    "\n",
    "    * The IQR method identifies outliers by calculating the range between the first quartile (Q1) and the third quartile (Q3). \n",
    "    \n",
    "    * Any data point below Q1 - 1.5 * IQR or above Q3 + 1.5 * IQR is considered an outlier.\n",
    "\n",
    "- Steps:\n",
    "\n",
    "    * Calculate Q1 (25th percentile) and Q3 (75th percentile).\n",
    "\n",
    "    * Compute IQR = Q3 - Q1.\n",
    "    \n",
    "    * Determine the lower bound: Q1 - 1.5 * IQR.\n",
    "    \n",
    "    * Determine the upper bound: Q3 + 1.5 * IQR.\n",
    "    \n",
    "    * Identify data points outside these bounds."
   ]
  },
  {
   "cell_type": "code",
   "execution_count": 22,
   "metadata": {},
   "outputs": [
    {
     "name": "stdout",
     "output_type": "stream",
     "text": [
      "Q1: 7.9104\n",
      "Q3: 31.0\n",
      "IQR: 23.0896\n",
      "Lower Bound: -26.724\n",
      "Upper Bound: 65.6344\n",
      "Number of outliers in Fare: 116\n"
     ]
    }
   ],
   "source": [
    "# Calculate Q1 and Q3\n",
    "Q1 = df_titanic['Fare'].quantile(0.25)\n",
    "Q3 = df_titanic['Fare'].quantile(0.75)\n",
    "IQR = Q3 - Q1\n",
    "\n",
    "print(f\"Q1: {Q1}\")\n",
    "print(f\"Q3: {Q3}\")\n",
    "print(f\"IQR: {IQR}\")\n",
    "\n",
    "# Calculate lower and upper bounds\n",
    "lower_bound = Q1 - 1.5 * IQR\n",
    "upper_bound = Q3 + 1.5 * IQR\n",
    "\n",
    "print(f\"Lower Bound: {lower_bound}\")\n",
    "print(f\"Upper Bound: {upper_bound}\")\n",
    "\n",
    "# Identify outliers\n",
    "outliers = df_titanic[(df_titanic['Fare'] < lower_bound) | (df_titanic['Fare'] > upper_bound)]\n",
    "print(f\"Number of outliers in Fare: {outliers.shape[0]}\")\n"
   ]
  },
  {
   "cell_type": "markdown",
   "metadata": {},
   "source": [
    "### 5.2 Z-Score Method\n",
    "\n",
    "The Z-score method measures how many standard deviations a data point is from the mean. Typically, a Z-score above 3 or below -3 is considered an outlier.\n",
    "\n",
    "#### Steps:\n",
    "1. **Calculate the mean** and **standard deviation** of the dataset.\n",
    "2. **Compute the Z-score** for each data point using the formula:\n",
    "\n",
    "   $$ Z = \\frac{X - \\mu}{\\sigma} $$\n",
    "\n",
    "   Where:\n",
    "   - \\( X \\) is the data point,\n",
    "   - \\( \\mu \\) is the mean of the dataset,\n",
    "   - \\( \\sigma \\) is the standard deviation of the dataset.\n",
    "\n",
    "3. **Identify data points** with \\( |Z| > 3 \\), as these are considered outliers.\n"
   ]
  },
  {
   "cell_type": "code",
   "execution_count": 23,
   "metadata": {},
   "outputs": [
    {
     "name": "stdout",
     "output_type": "stream",
     "text": [
      "Number of outliers in Age: 2\n",
      "630    80.0\n",
      "851    74.0\n",
      "Name: Age, dtype: float64\n"
     ]
    }
   ],
   "source": [
    "# Drop missing values in 'Age'\n",
    "age = df_titanic['Age'].dropna()\n",
    "\n",
    "# Calculate the mean and standard deviation\n",
    "mean_age = age.mean()\n",
    "std_age = age.std()\n",
    "\n",
    "# Calculate Z-scores manually\n",
    "z_scores = (age - mean_age) / std_age\n",
    "\n",
    "# Identify outliers (Z-score > 3 or Z-score < -3)\n",
    "outliers_z = age[(z_scores > 3) | (z_scores < -3)]\n",
    "\n",
    "print(f\"Number of outliers in Age: {outliers_z.shape[0]}\")\n",
    "print(outliers_z)"
   ]
  },
  {
   "cell_type": "markdown",
   "metadata": {},
   "source": [
    "## Step 6: Handling Outliers\n",
    "\n",
    "Once outliers are detected, you have several options to handle them:\n",
    "\n",
    "- **Removal**: Exclude outliers from the dataset.\n",
    "- **Transformation**: Apply mathematical transformations to reduce the impact of outliers.\n",
    "- **Imputation**: Replace outliers with a more reasonable value (e.g., mean or median).\n",
    "\n",
    "### 6.1 Removing Outliers Using IQR\n",
    "\n",
    "Let's remove outliers in the **Fare** column using the **IQR (Interquartile Range)** method. "
   ]
  },
  {
   "cell_type": "code",
   "execution_count": 24,
   "metadata": {},
   "outputs": [
    {
     "name": "stdout",
     "output_type": "stream",
     "text": [
      "Original dataset size: (891, 12)\n",
      "Dataset size after removing Fare outliers: (775, 12)\n"
     ]
    }
   ],
   "source": [
    "# Remove outliers based on Fare\n",
    "df_cleaned = df_titanic[(df_titanic['Fare'] >= lower_bound) & (df_titanic['Fare'] <= upper_bound)]\n",
    "\n",
    "print(f\"Original dataset size: {df_titanic.shape}\")\n",
    "print(f\"Dataset size after removing Fare outliers: {df_cleaned.shape}\")\n"
   ]
  },
  {
   "cell_type": "markdown",
   "metadata": {},
   "source": [
    "### 6.2 Transforming Data Using Log Transformation\n",
    "\n",
    "Transforming data can reduce the skewness caused by outliers. \n",
    "\n",
    "A common transformation is the **logarithmic transformation**, which is especially useful when data is positively skewed. The log transformation helps to compress the scale of larger values and brings the data closer to a normal distribution.\n"
   ]
  },
  {
   "cell_type": "code",
   "execution_count": 25,
   "metadata": {},
   "outputs": [
    {
     "name": "stderr",
     "output_type": "stream",
     "text": [
      "/var/folders/xm/dtk1g2nx457gfkp94_xvn6bm0000gn/T/ipykernel_49592/63363736.py:2: SettingWithCopyWarning: \n",
      "A value is trying to be set on a copy of a slice from a DataFrame.\n",
      "Try using .loc[row_indexer,col_indexer] = value instead\n",
      "\n",
      "See the caveats in the documentation: https://pandas.pydata.org/pandas-docs/stable/user_guide/indexing.html#returning-a-view-versus-a-copy\n",
      "  df_cleaned['Fare_log'] = np.log1p(df_cleaned['Fare'])  # log1p handles zero values\n"
     ]
    },
    {
     "data": {
      "image/png": "[encoded data removed]",
      "text/plain": [
       "<Figure size 1000x600 with 1 Axes>"
      ]
     },
     "metadata": {},
     "output_type": "display_data"
    }
   ],
   "source": [
    "# Apply log transformation to Fare\n",
    "df_cleaned['Fare_log'] = np.log1p(df_cleaned['Fare'])  # log1p handles zero values\n",
    "\n",
    "# Visualize the transformed Fare\n",
    "plt.figure(figsize=(10, 6))\n",
    "sns.boxplot(x=df_cleaned['Fare_log'])\n",
    "plt.title('Boxplot of Log-Transformed Fare')\n",
    "plt.xlabel('Log(Fare + 1)')\n",
    "plt.show()"
   ]
  },
  {
   "cell_type": "markdown",
   "metadata": {},
   "source": [
    "### 6.3 Imputing Outliers\n",
    "Instead of removing outliers, you can replace them with the median or mean."
   ]
  },
  {
   "cell_type": "code",
   "execution_count": 29,
   "metadata": {},
   "outputs": [
    {
     "name": "stdout",
     "output_type": "stream",
     "text": [
      "    Age  Age_cleaned\n",
      "0  22.0         22.0\n",
      "1  38.0         38.0\n",
      "2  26.0         26.0\n",
      "3  35.0         35.0\n",
      "4  35.0         35.0\n"
     ]
    }
   ],
   "source": [
    "# Calculate median age\n",
    "median_age = df_titanic['Age'].median()\n",
    "\n",
    "# Replace outliers with median\n",
    "df_titanic['Age_cleaned'] = df_titanic['Age']\n",
    "\n",
    "# Calculate Z-scores \n",
    "mean_age = df_titanic['Age'].mean()\n",
    "std_age = df_titanic['Age'].std()\n",
    "\n",
    "z_scores_age = (df_titanic['Age'] - mean_age) / std_age\n",
    "\n",
    "# Replace outliers based on Z-score threshold\n",
    "df_titanic.loc[(z_scores_age > 3) | (z_scores_age < -3), 'Age_cleaned'] = median_age\n",
    "\n",
    "print(df_titanic[['Age', 'Age_cleaned']].head())\n"
   ]
  },
  {
   "cell_type": "code",
   "execution_count": null,
   "metadata": {},
   "outputs": [],
   "source": []
  }
 ],
 "metadata": {
  "kernelspec": {
   "display_name": "nlp",
   "language": "python",
   "name": "python3"
  },
  "language_info": {
   "codemirror_mode": {
    "name": "ipython",
    "version": 3
   },
   "file_extension": ".py",
   "mimetype": "text/x-python",
   "name": "python",
   "nbconvert_exporter": "python",
   "pygments_lexer": "ipython3",
   "version": "3.12.7"
  }
 },
 "nbformat": 4,
 "nbformat_minor": 2
}
