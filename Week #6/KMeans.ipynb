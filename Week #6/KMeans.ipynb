{
    "cells": [
        {
            "cell_type": "markdown",
            "metadata": {},
            "source": [
                "# K-Means Clustering Demonstration\n",
                "\n",
                "This notebook demonstrates the basic process of applying K-Means clustering using scikit-learn on a synthetic dataset. In this example, we:\n",
                "\n",
                "- Generate a synthetic dataset using `make_blobs`.\n",
                "- Apply K-Means clustering to partition the data into clusters.\n",
                "- Visualize the resulting clusters along with their centroids.\n",
                "\n",
                "Let's get started!"
            ]
        },
        {
            "cell_type": "code",
            "execution_count": null,
            "metadata": {},
            "source": [
                "import numpy as np\n",
                "import matplotlib.pyplot as plt\n",
                "from sklearn.datasets import make_blobs\n",
                "from sklearn.cluster import KMeans\n",
                "\n",
                "# Set random seed for reproducibility\n",
                "np.random.seed(42)\n",
                "\n",
                "# Generate a synthetic dataset with 4 clusters\n",
                "X, _ = make_blobs(n_samples=300, centers=4, cluster_std=1.0, random_state=42)\n",
                "\n",
                "# Visualize the synthetic data\n",
                "plt.figure(figsize=(8, 6))\n",
                "plt.scatter(X[:, 0], X[:, 1], s=50, c='gray', alpha=0.6)\n",
                "plt.title('Synthetic Data')\n",
                "plt.xlabel('Feature 1')\n",
                "plt.ylabel('Feature 2')\n",
                "plt.show()"
            ]
        },
        {
            "cell_type": "markdown",
            "metadata": {},
            "source": [
                "## Applying K-Means Clustering\n",
                "\n",
                "Next, we apply the K-Means algorithm to partition the data into 4 clusters. Note that even though we know the true number of clusters from our data generation, K-Means is an unsupervised algorithm."
            ]
        },
        {
            "cell_type": "code",
            "execution_count": null,
            "metadata": {},
            "source": [
                "# Define the number of clusters\n",
                "K = 4\n",
                "\n",
                "# Initialize and fit K-Means\n",
                "kmeans = KMeans(n_clusters=K, random_state=42)\n",
                "cluster_labels = kmeans.fit_predict(X)\n",
                "\n",
                "# Display the cluster centers\n",
                "print('Cluster Centers:')\n",
                "print(kmeans.cluster_centers_)"
            ]
        },
        {
            "cell_type": "code",
            "execution_count": null,
            "metadata": {},
            "source": [
                "# Visualize the clusters and their centroids\n",
                "plt.figure(figsize=(8, 6))\n",
                "plt.scatter(X[:, 0], X[:, 1], c=cluster_labels, s=50, cmap='viridis', alpha=0.6)\n",
                "plt.scatter(kmeans.cluster_centers_[:, 0], kmeans.cluster_centers_[:, 1], \n",
                "            c='red', s=200, marker='X')\n",
                "plt.title('K-Means Clustering Results')\n",
                "plt.xlabel('Feature 1')\n",
                "plt.ylabel('Feature 2')\n",
                "plt.show()"
            ]
        },
        {
            "cell_type": "markdown",
            "metadata": {},
            "source": [
                "## Summary\n",
                "\n",
                "In this notebook, we:\n",
                "\n",
                "- Generated a synthetic dataset using `make_blobs`.\n",
                "- Applied K-Means clustering to partition the data into clusters.\n",
                "- Visualized the clustering results along with the cluster centroids.\n",
                "\n",
                "This straightforward example focuses solely on the K-Means process."
            ]
        }
    ],
    "metadata": {
        "kernelspec": {
            "display_name": "Python 3",
            "language": "python",
            "name": "python3"
        },
        "language_info": {
            "file_extension": ".py",
            "mimetype": "text/x-python",
            "name": "python",
            "version": "3.x"
        }
    },
    "nbformat": 4,
    "nbformat_minor": 5
}