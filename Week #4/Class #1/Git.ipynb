{
 "cells": [
  {
   "cell_type": "markdown",
   "metadata": {},
   "source": [
    "# Git and GitHub Overview\n",
    "\n",
    "Welcome to this comprehensive set of notes on **Git** and **GitHub**. \n",
    "\n",
    "Feel free to run the code cells, modify them, or experiment with your own Git and GitHub projects.\n",
    "\n",
    "## Learn Git and GitHub resources \n",
    "\n",
    "- **Official Git documentation**: [Git documentation](https://git-scm.com/doc)\n",
    "- **GitHub Guides**: [GitHub Guides](https://guides.github.com/)\n",
    "- **Pro Git Book** (free): [Pro Git Book](https://git-scm.com/book/en/v2)\n",
    "- **Atlassian Git Tutorials**: [Atlassian Git Tutorials](https://www.atlassian.com/git)\n",
    "\n",
    "\n",
    "> **Practice**: The best way to master Git and GitHub is to use them daily on real or mock projects. Experiment with branching, merging, stashing, reverting, and use pull requests with teammates or friends.\n"
   ]
  },
  {
   "cell_type": "markdown",
   "metadata": {},
   "source": [
    "## Table of Contents\n",
    "\n",
    "1. [Difference between Git and GitHub](#difference-between-git-and-github)\n",
    "2. [What is a Git repository](#what-is-a-git-repository)\n",
    "3. [Create a Git & GitHub repo](#create-a-git--github-repo)\n",
    "4. [Create files on GitHub](#create-files-on-github)\n",
    "5. [GitHub commit history](#github-commit-history)\n",
    "6. [GitHub URL](#github-url)\n",
    "7. [Clone a GitHub repo](#clone-a-github-repo)\n",
    "8. [Git status command](#git-status-command)\n",
    "9. [Git add command](#git-add-command)\n",
    "10. [Git config name and email](#git-config-name-and-email)\n",
    "11. [Git commit on command line](#git-commit-on-command-line)\n",
    "12. [Git log](#git-log)\n",
    "13. [Git push origin](#git-push-origin)\n",
    "14. [Git pull](#git-pull)\n",
    "15. [Git fetch](#git-fetch)\n",
    "16. [Git commit all](#git-commit-all)\n",
    "17. [Git reflog](#git-reflog)\n",
    "18. [Git cheat sheet](#git-cheat-sheet)\n",
    "19. [Git & GitHub commit history](#git--github-commit-history)\n",
    "20. [Git reset hard](#git-reset-hard)\n",
    "21. [Commit, add, revert, reset](#commit-add-revert-reset)\n",
    "22. [Git reset a commit](#git-reset-a-commit)\n",
    "23. [Revert a commit](#revert-a-commit)\n",
    "24. [Git cherry-pick](#git-cherry-pick)\n",
    "25. [Push project to GitHub](#push-project-to-github)\n",
    "26. [Git remote add](#git-remote-add)\n",
    "27. [Git push upstream](#git-push-upstream)\n",
    "28. [Git branching](#git-branching)\n",
    "29. [Git init](#git-init)\n",
    "30. [Create a Git branch](#create-a-git-branch)\n",
    "31. [Switch branches](#switch-branches)\n",
    "32. [Git merge branches](#git-merge-branches)\n",
    "33. [Git merge vs rebase](#git-merge-vs-rebase)\n",
    "34. [GitHub merge into Master](#github-merge-into-master)\n",
    "35. [GitHub pull requests](#github-pull-requests)\n",
    "36. [Merge GitHub pull requests](#merge-github-pull-requests)\n",
    "37. [Git rebase command](#git-rebase-command)\n",
    "38. [Use Git and GitHub together](#use-git-and-github-together)\n",
    "39. [Git merge conflicts](#git-merge-conflicts)\n",
    "40. [Resolve GitHub merge conflicts](#resolve-github-merge-conflicts)\n",
    "41. [Squash Git commits](#squash-git-commits)\n",
    "42. [Git stash](#git-stash)\n",
    "43. [Git stash pop & apply](#git-stash-pop--apply)\n",
    "---\n"
   ]
  },
  {
   "cell_type": "markdown",
   "metadata": {},
   "source": [
    "## Difference between Git and GitHub \n",
    "\n",
    "**Git**:\n",
    "- Git is a **distributed version control system** (DVCS).\n",
    "- It manages and tracks changes in your code (or any file) over time.\n",
    "- It allows you to **commit** changes locally, revert to older versions, and collaborate with others without losing track of individual contributions.\n",
    "- Git is installed and runs locally on your computer.\n",
    "\n",
    "**GitHub**:\n",
    "- GitHub is a **web-based hosting service** for Git repositories.\n",
    "- It provides a centralized place to store and collaborate on Git repos.\n",
    "- It includes additional features like:\n",
    "  - Issue tracking\n",
    "  - Pull requests\n",
    "  - Continuous Integration (CI) workflows\n",
    "  - Wikis and project management\n",
    "  - Social coding aspects (following projects, starring repositories)\n",
    "- Essentially, GitHub is the cloud service that hosts your Git repository so others can access it.\n",
    "\n",
    "> **Key takeaway**: Git is the tool for version control; GitHub is a platform that hosts Git repositories and adds collaboration features.\n"
   ]
  },
  {
   "cell_type": "markdown",
   "metadata": {},
   "source": [
    "## What is a Git repository \n",
    "\n",
    "A **Git repository** (often abbreviated as \"repo\") is a directory or storage space where your project’s files and the history of all changes (commits) are tracked by Git.\n",
    "\n",
    "- When you run `git init` in a folder, Git creates a hidden folder named `.git` which stores all the version history and configuration for that repository.\n",
    "- Any changes you make inside that directory can be tracked by Git if you choose to add and commit those changes.\n",
    "\n",
    "> **Example**: If you have a folder called `my-awesome-project`, turning it into a Git repository is as simple as:\n",
    "> ```bash\n",
    "> cd my-awesome-project\n",
    "> git init\n",
    "> ```\n",
    "> Now `my-awesome-project` is a Git repository.\n"
   ]
  },
  {
   "cell_type": "markdown",
   "metadata": {},
   "source": [
    "## Create a Git & GitHub Repo \n",
    "\n",
    "### Creating a New Repo on GitHub\n",
    "\n",
    "1. Go to [GitHub](https://github.com) and log in to your account.\n",
    "2. Click on the **New** (or **+** sign) to create a new repository.\n",
    "3. Provide:\n",
    "   - A repository name (e.g., `awesome-repo`)\n",
    "   - An optional description\n",
    "   - Choose public or private\n",
    "4. (Optional) Initialize with a README file.\n",
    "5. Click **Create Repository**.\n",
    "\n",
    "### Cloning or Creating Locally\n",
    "\n",
    "- After the GitHub repo is created, you can clone it locally or initialize a local repo and connect it to GitHub.\n",
    "\n",
    "```bash\n",
    "# Cloning from GitHub\n",
    "git clone https://github.com/your-username/awesome-repo.git\n",
    "```\n",
    "\n",
    "- Tip: You can also create a new local repo with git init and then push it to GitHub once it’s ready.\n"
   ]
  },
  {
   "cell_type": "markdown",
   "metadata": {},
   "source": [
    "\n",
    "## Create files on GitHub \n",
    "\n",
    "You can directly create or edit files in the GitHub interface:\n",
    "1. Open your repository on GitHub.\n",
    "2. Click **Add file** > **Create new file**.\n",
    "3. Name your file (for example, `hello.md`) and add content in the editor.\n",
    "4. Scroll down, enter a commit message, and click **Commit new file**.\n",
    "\n",
    "> **Pros**:\n",
    "> - Quick updates without using the command line.\n",
    "> - Good for small fixes or documentation updates.\n",
    "\n",
    "> **Cons**:\n",
    "> - Not great for large changes or complicated merges.\n",
    "> - You typically want to manage your files locally, then push changes, especially if you’re working on code or big projects.\n"
   ]
  },
  {
   "cell_type": "markdown",
   "metadata": {},
   "source": [
    "## GitHub commit history \n",
    "\n",
    "- Every time you commit changes (locally or through GitHub’s editor), a **commit** with a unique **SHA-1 hash** is created.\n",
    "- This commit history is visible in the \"Commits\" tab in your GitHub repository.\n",
    "- Each commit includes:\n",
    "  - The author name and email\n",
    "  - The commit message\n",
    "  - The timestamp\n",
    "  - The changes (diff) made\n",
    "\n",
    "> **Usage**: This allows you to see who made what changes and when.\n"
   ]
  },
  {
   "cell_type": "markdown",
   "metadata": {},
   "source": [
    "## GitHub URL \n",
    "\n",
    "- Every repository on GitHub has its own unique URL, e.g. `https://github.com/username/repo-name`.\n",
    "- This URL can be used for:\n",
    "  - Sharing your project with others\n",
    "  - Cloning the repository (`git clone https://github.com/...`)\n",
    "  - Adding as a remote to an existing local repository\n",
    "\n"
   ]
  },
  {
   "cell_type": "markdown",
   "metadata": {},
   "source": [
    "## Clone a GitHub repo \n",
    "\n",
    "To **clone** means to create a local copy of a remote Git repository. \n",
    "\n",
    "```bash\n",
    "git clone https://github.com/username/repo-name.git\n",
    "```\n",
    "\n",
    "- This command:\n",
    "\n",
    "    Downloads the entire repository including all branches, commits, and files.\n",
    "    \n",
    "    Creates a new folder with the same name as the repo (unless you specify a different folder name at the end).\n"
   ]
  },
  {
   "cell_type": "markdown",
   "metadata": {},
   "source": [
    "\n",
    "```markdown\n",
    "## Git status command \n",
    "\n",
    "`git status` shows the state of the working directory and staging area:\n",
    "- Tells you which files **are** and **aren’t** tracked by Git.\n",
    "- Shows changes that have been staged, changes that haven’t been staged, and files that aren’t tracked.\n",
    "\n",
    "> **Example**:\n",
    "> ```bash\n",
    "> git status\n",
    "> ```\n",
    "> You might see output like:\n",
    "> ```\n",
    "> On branch main\n",
    "> Your branch is up to date with 'origin/main'.\n",
    "> \n",
    "> Untracked files:\n",
    ">   (use \"git add <file>...\" to include in what will be committed)\n",
    ">         newfile.txt\n",
    "> \n",
    "> no changes added to commit (use \"git add\" and/or \"git commit -a\")\n",
    "> ```\n"
   ]
  },
  {
   "cell_type": "markdown",
   "metadata": {},
   "source": [
    "## Git add command \n",
    "\n",
    "`git add` stages changes to be committed. You can add specific files, or add everything:\n",
    "- `git add <file>`: stage a specific file.\n",
    "- `git add .`: stage all modified and untracked files in the current directory.\n",
    "- `git add -A`: stage all changes, including deletions.\n",
    "\n",
    "> **Example**:\n",
    "> ```bash\n",
    "> git add index.html\n",
    "> git status  # now index.html is staged\n",
    "> ```\n"
   ]
  },
  {
   "cell_type": "markdown",
   "metadata": {},
   "source": [
    "## Git config name and email \n",
    "\n",
    "You should configure your Git username and email **once**, so commits are attributed to you:\n",
    "\n",
    "```bash\n",
    "git config --global user.name \"Your Name\"\n",
    "git config --global user.email \"youremail@example.com\"\n",
    "```\n",
    "\n",
    "The --global flag sets these configs for all future Git repos on your system.\n",
    "\n",
    "You can omit --global to configure them on a per-repo basis."
   ]
  },
  {
   "cell_type": "markdown",
   "metadata": {},
   "source": [
    "\n",
    "```markdown\n",
    "## Git commit on command line \n",
    "\n",
    "After staging your files with `git add`, you create a **commit** to record a snapshot of your changes:\n",
    "\n",
    "```bash\n",
    "git commit -m \"Add initial project files\"\n",
    "```\n",
    "\n",
    "The -m flag specifies the commit message inline.\n",
    "\n",
    "Alternatively, you can just run git commit and Git will open your default text editor to type a message.\n",
    "\n"
   ]
  },
  {
   "cell_type": "markdown",
   "metadata": {},
   "source": [
    "\n",
    "## Git log \n",
    "\n",
    "`git log` shows the history of commits. By default, you’ll see:\n",
    "- Commit hash (SHA-1)\n",
    "- Author\n",
    "- Date\n",
    "- Commit message\n",
    "\n",
    "> **Example**:\n",
    "> ```bash\n",
    "> git log\n",
    "> ```\n",
    "> ```\n",
    "> commit f3ad35c8a5aebb80afcddd80f2f3ef1a5a811c2b\n",
    "> Author: Your Name <youremail@example.com>\n",
    "> Date:   Mon Jan 27 09:13:00 2025 +0100\n",
    ">\n",
    ">     Add initial project files\n",
    "> ```\n"
   ]
  },
  {
   "cell_type": "markdown",
   "metadata": {},
   "source": [
    "## Git push origin \n",
    "\n",
    "`git push origin <branch>` uploads your local commits to the remote repository named **origin** on the specified branch.\n",
    "\n",
    "- Usually, `origin` is the default name given to the remote repo when you clone.\n",
    "- Common usage for the main branch (often called `main` or `master`):\n",
    "  ```bash\n",
    "  git push origin main\n",
    "```\n",
    "\n",
    " If the branch does not exist yet on the remote, you may need to set the upstream:\n",
    "\n",
    "  git push -u origin main\n",
    "\n"
   ]
  },
  {
   "cell_type": "markdown",
   "metadata": {},
   "source": [
    "\n",
    "## Git pull \n",
    "\n",
    "`git pull` updates your local repository with changes from the remote repository. Under the hood, `git pull` does two operations:\n",
    "1. `git fetch`\n",
    "2. `git merge` (or `git rebase` if configured)\n",
    "\n",
    "> **Example**:\n",
    "> ```bash\n",
    "> git pull origin main\n",
    "> ```\n",
    "> This grabs the latest changes from the `origin/main` branch and merges them into your local `main` branch.\n"
   ]
  },
  {
   "cell_type": "markdown",
   "metadata": {},
   "source": [
    "## Git fetch \n",
    "\n",
    "`git fetch` retrieves the new commits, branches, and tags from the remote repository, **but** it **does not** merge them into your local branches automatically.\n",
    "\n",
    "- You can inspect the new changes first and decide how to integrate them.\n",
    "- Often used to see what others have committed without automatically merging.\n",
    "\n",
    "> **Example**:\n",
    "> ```bash\n",
    "> git fetch origin\n",
    "> git log origin/main\n",
    "> ```\n"
   ]
  },
  {
   "cell_type": "markdown",
   "metadata": {},
   "source": [
    "## Git commit all \n",
    "\n",
    "You can commit **all** changes in tracked files with:\n",
    "```bash\n",
    "git commit -a -m \"Commit message\"\n",
    "\n",
    "The -a flag stages only the modified tracked files automatically.\n",
    "It does not stage newly created untracked files. Those must be added with git add first."
   ]
  },
  {
   "cell_type": "markdown",
   "metadata": {},
   "source": [
    "\n",
    "```markdown\n",
    "## Git reflog \n",
    "\n",
    "`git reflog` (reference log) shows the **history of your local HEAD**. This includes commits you’ve checked out or moved to, even if they’re not visible in the normal `git log`. \n",
    "\n",
    "- Helpful for recovering lost commits.\n",
    "- If you accidentally detach HEAD or reset in a strange way, `git reflog` can help you find the commit hash to restore.\n",
    "\n",
    "> **Example**:\n",
    "> ```bash\n",
    "> git reflog\n",
    "> ```\n",
    "> ```\n",
    "> f3ad35c (HEAD -> main) HEAD@{0}: commit: Add initial project files\n",
    "> ...\n",
    "> ```\n"
   ]
  },
  {
   "cell_type": "markdown",
   "metadata": {},
   "source": [
    "## Git cheat sheet \n",
    "\n",
    "A **cheat sheet** is a quick reference for common commands:\n",
    "- `git init` – Initialize a local Git repo\n",
    "- `git clone <url>` – Clone a repo\n",
    "- `git status` – Show current repo status\n",
    "- `git add <file>` – Stage changes\n",
    "- `git commit -m \"message\"` – Commit staged changes\n",
    "- `git log` – See commit history\n",
    "- `git push origin <branch>` – Push changes to remote\n",
    "- `git pull origin <branch>` – Pull changes from remote\n",
    "- `git checkout <branch>` – Switch branches\n",
    "- `git merge <branch>` – Merge another branch into current\n",
    "- `git branch <new-branch>` – Create new branch\n",
    "- `git reflog` – Reference log (local head changes)\n",
    "- `git stash` – Temporarily save changes\n",
    "- `git stash pop` – Reapply stashed changes\n",
    "- `git revert <commit>` – Create a new commit that undoes a previous commit\n",
    "- `git reset <commit>` – Move HEAD pointer to a specific commit\n",
    "- `git cherry-pick <commit>` – Apply a specific commit from another branch\n"
   ]
  },
  {
   "cell_type": "markdown",
   "metadata": {},
   "source": [
    "## Git & GitHub commit history \n",
    "\n",
    "- On **GitHub**, you can view commit history by clicking on the \"**Commits**\" link in your repository.\n",
    "- Locally, `git log` (and variants like `git log --oneline --graph`) show you the commit history.\n",
    "- The local and remote histories should match after you push or pull, assuming no divergence or complex merges.\n"
   ]
  },
  {
   "cell_type": "markdown",
   "metadata": {},
   "source": [
    "## Git reset hard \n",
    "\n",
    "`git reset --hard <commit>` discards all local changes and resets your current branch to a specific commit.\n",
    "\n",
    "- **Danger**: This can destroy local uncommitted work. Use it carefully.\n",
    "- If you want to keep the changes for potential future use, commit or stash them before resetting.\n",
    "\n",
    "> **Example**:\n",
    "> ```bash\n",
    "> git reset --hard HEAD~1\n",
    "> ```\n",
    "> This resets your branch to the commit before the current one.\n"
   ]
  },
  {
   "cell_type": "markdown",
   "metadata": {},
   "source": [
    "## Commit, add, revert, reset \n",
    "\n",
    "### Commit vs. Add\n",
    "- **Add**: Stage changes that you want to go into the next commit.\n",
    "- **Commit**: Make a permanent snapshot of the staged changes.\n",
    "\n",
    "### Revert\n",
    "- `git revert <commit>`: Creates a new commit that undoes the changes from a specific commit without rewriting the commit history.\n",
    "\n",
    "### Reset\n",
    "- `git reset <commit>`: Moves the current branch HEAD to a specified commit.\n",
    "  - `--soft`: Keep changes in the staging area.\n",
    "  - `--mixed` (default): Keep changes in the working directory, clear staging.\n",
    "  - `--hard`: Discard all changes.\n"
   ]
  },
  {
   "cell_type": "markdown",
   "metadata": {},
   "source": [
    "## Git reset a commit \n",
    "\n",
    "When you need to \"undo\" a commit by removing it from the history (for example, you accidentally committed secrets or large files), you can:\n",
    "\n",
    "```bash\n",
    "git reset --mixed HEAD~1\n",
    "\n",
    "\n",
    "This moves the HEAD to the previous commit and keeps the changes in the working directory. You can fix them, re-stage, and re-commit.\n",
    "If you use --hard, it will discard those changes entirely."
   ]
  },
  {
   "cell_type": "markdown",
   "metadata": {},
   "source": [
    "\n",
    "```markdown\n",
    "## Revert a commit \n",
    "\n",
    "`git revert` is safer than `git reset` because it does **not** rewrite commit history. Instead, it creates a new commit that undoes the changes in a target commit.\n",
    "\n",
    "```bash\n",
    "git revert <commit-hash>\n",
    "\n",
    "\n",
    "Useful if you have already pushed a commit to the remote and want to undo it in a traceable way.\n",
    "This is especially important in collaborative settings, to avoid rewriting shared commit history.\n",
    "\n",
    "\n"
   ]
  },
  {
   "cell_type": "markdown",
   "metadata": {},
   "source": [
    "\n",
    "## Git cherry-pick \n",
    "\n",
    "`git cherry-pick <commit-hash>` copies a commit from one branch and applies it to another branch.\n",
    "\n",
    "> **Use Case**:\n",
    "> - You have a specific bug fix commit in a feature branch that you need to apply to the `main` branch without merging the entire feature branch.\n",
    "\n",
    "> **Example**:\n",
    "> ```bash\n",
    "> # Switch to main (where you want the commit to appear)\n",
    "> git checkout main\n",
    "> git cherry-pick abcdef1234567\n",
    "> ```\n"
   ]
  },
  {
   "cell_type": "markdown",
   "metadata": {},
   "source": [
    "## Push project to GitHub (57:01)\n",
    "\n",
    "If you have a local project without a GitHub repo:\n",
    "1. Initialize Git locally: `git init`\n",
    "2. Stage and commit your files: \n",
    "   ```bash\n",
    "   git add .\n",
    "   git commit -m \"Initial commit\"\n",
    "\n",
    "\n",
    "Go to GitHub and create a new repo (without a README if your local has one already).\n",
    "\n",
    "\n",
    "Link your local repo to the new GitHub repo and push it."
   ]
  },
  {
   "cell_type": "markdown",
   "metadata": {},
   "source": [
    "\n",
    "## Git remote add \n",
    "\n",
    "`git remote add <name> <url>` tells your local repository about a remote repository.\n",
    "\n",
    "> **Example**:\n",
    "> ```bash\n",
    "> git remote add origin https://github.com/username/my-project.git\n",
    "> ```\n",
    "> - `origin` is a commonly used name for the remote repo.\n",
    "> - Then you can push/pull from `origin`.\n"
   ]
  },
  {
   "cell_type": "markdown",
   "metadata": {},
   "source": [
    "## Git push upstream \n",
    "\n",
    "If you have a brand-new local branch, you can set the remote tracking branch like this:\n",
    "\n",
    "```bash\n",
    "git push --set-upstream origin my-new-feature\n",
    "or shorter:\n",
    "git push -u origin my-new-feature\n",
    "\n",
    "\n",
    "This tells Git that in the future, when you run git push or git pull, it should track origin/my-new-feature.\n"
   ]
  },
  {
   "cell_type": "markdown",
   "metadata": {},
   "source": [
    "\n",
    "## Git branching\n",
    "\n",
    "**Branching** allows you to diverge from the main line of development and continue to work without messing with that main line. You can:\n",
    "- Create a new branch (for a feature or bug fix).\n",
    "- Commit changes on that branch.\n",
    "- Merge or rebase the branch back into `main` when you’re done.\n",
    "\n",
    "> **Benefits**:\n",
    "> - Isolates changes for specific features.\n",
    "> - Facilitates pull requests and code reviews.\n"
   ]
  },
  {
   "cell_type": "markdown",
   "metadata": {},
   "source": [
    "## Git init \n",
    "\n",
    "`git init` creates a new Git repository in your current directory by setting up a `.git` folder. Use it for new projects that aren’t tracked by Git yet.\n",
    "\n",
    "```bash\n",
    "mkdir brand-new-project\n",
    "cd brand-new-project\n",
    "git init\n",
    "\n",
    "\n"
   ]
  },
  {
   "cell_type": "markdown",
   "metadata": {},
   "source": [
    "\n",
    "\n",
    "## Create a Git branch \n",
    "\n",
    "```bash\n",
    "git branch my-new-feature\n",
    "\n",
    "Creates a new branch called my-new-feature.\n",
    "Does not automatically switch you to that branch.\n",
    "\n",
    "\n",
    "Shortcut: git checkout -b my-new-feature both creates and switches to the new branch."
   ]
  },
  {
   "cell_type": "markdown",
   "metadata": {},
   "source": [
    "\n",
    "## Switch branches \n",
    "Use `git checkout <branch>` (Git versions <2.23) or the newer `git switch <branch>`:\n",
    "\n",
    "```bash\n",
    "# Older approach:\n",
    "git checkout my-new-feature\n",
    "\n",
    "# New approach (Git ≥ 2.23):\n",
    "git switch my-new-feature\n"
   ]
  },
  {
   "cell_type": "markdown",
   "metadata": {},
   "source": [
    "Switching branches changes what files are in your working directory to match the snapshot of that branch.\n",
    "\n",
    "\n",
    "\n",
    "## Git merge branches \n",
    "\n",
    "To merge `my-new-feature` branch into `main`:\n",
    "\n",
    "```bash\n",
    "git checkout main\n",
    "git merge my-new-feature\n",
    "\n",
    "\n",
    "This performs a merge commit unless Git can do a fast-forward merge (if main has not diverged).\n",
    "Always check for merge conflicts (files that can’t automatically be combined).\n"
   ]
  },
  {
   "cell_type": "markdown",
   "metadata": {},
   "source": [
    "\n",
    "\n",
    "## Git merge vs rebase \n",
    "\n",
    "- **Merge**: \n",
    "  - Combines branches, preserving each commit’s history.\n",
    "  - Often creates a merge commit to tie the histories together.\n",
    "\n",
    "- **Rebase**:\n",
    "  - Moves or reapplies commits on top of a new base commit.\n",
    "  - Creates a linear history without merge commits.\n",
    "  - Can rewrite commit hashes (be cautious when rebasing commits that others have already pulled!).\n",
    "\n",
    "> **General advice**: \n",
    "> - Merge is safer for shared branches, because it doesn’t rewrite history.\n",
    "> - Rebase is helpful for maintaining a clean, linear history in a private or feature branch before it’s shared.\n"
   ]
  },
  {
   "cell_type": "markdown",
   "metadata": {},
   "source": [
    "## GitHub merge into Master \n",
    "\n",
    "On GitHub, you can:\n",
    "1. Open a **pull request** comparing your feature branch to the `master` or `main` branch.\n",
    "2. Review changes, discuss in the PR.\n",
    "3. Merge via the GitHub UI (creating a merge commit, or optionally squash/rebase if you have those settings enabled).\n",
    "\n",
    "> This is the typical workflow in teams: \n",
    "> - Branch → PR → Code review → Merge → (optionally) delete branch.\n"
   ]
  },
  {
   "cell_type": "markdown",
   "metadata": {},
   "source": [
    "## GitHub pull requests (1:18:15)\n",
    "\n",
    "A **pull request (PR)** is a feature on GitHub to:\n",
    "- Show changes from one branch that you want to merge into another (e.g., from a fork or a branch within the same repo).\n",
    "- Invite collaborators to **review** and comment.\n",
    "- Discuss modifications, track review status, and eventually merge.\n",
    "\n",
    "> **Basic steps**:\n",
    "> 1. Push your branch to GitHub.\n",
    "> 2. Click \"Compare & pull request.\"\n",
    "> 3. Fill the PR description.\n",
    "> 4. Request reviewers or mention team members.\n",
    "> 5. Merge when approved.\n"
   ]
  },
  {
   "cell_type": "markdown",
   "metadata": {},
   "source": [
    "## Merge GitHub pull requests \n",
    "\n",
    "Once a pull request is approved:\n",
    "- Click the **Merge** button (variants: \"Merge commit,\" \"Squash and merge,\" \"Rebase and merge,\" depending on settings).\n",
    "- After successful merge, you can delete the feature branch if you no longer need it.\n",
    "\n",
    "> The PR will be marked as merged. The resulting commit merges the branch into `main` (or whichever base branch you selected).\n"
   ]
  },
  {
   "cell_type": "markdown",
   "metadata": {},
   "source": [
    "## Git rebase command \n",
    "\n",
    "`git rebase` replays commits on top of another branch (or commit). For example, if you have a feature branch based on an older `main`, you can:\n",
    "\n",
    "```bash\n",
    "git checkout my-feature\n",
    "git rebase main\n",
    "\n",
    "\n",
    "This will take your commits on my-feature and re-apply them on top of main.\n",
    "\n",
    "Creates a linear sequence of commits.\n",
    "Be cautious rebase can rewrite commit IDs, so only do it with local or private branches if other people have not based work on them."
   ]
  },
  {
   "attachments": {
    "image.png": {
     "image/png": "[encoded data removed]"
    }
   },
   "cell_type": "markdown",
   "metadata": {},
   "source": [
    "## Git merge conflicts \n",
    "\n",
    "A **merge conflict** occurs when Git can’t automatically combine changes from two commits. For example:\n",
    "- Two people edited the same lines in a file, or\n",
    "- You edited a file in different branches in incompatible ways.\n",
    "\n",
    "Git will mark the conflict in the file like:\n",
    "\n",
    "\n",
    "![image.png](attachment:image.png)\n",
    "\n",
    "You must manually resolve the conflict, then `git add` and commit the resolution.\n"
   ]
  },
  {
   "cell_type": "markdown",
   "metadata": {},
   "source": [
    "## Resolve GitHub merge conflicts \n",
    "\n",
    "If conflicts occur during a pull request on GitHub, you can:\n",
    "- Use GitHub’s in-browser conflict editor (for small conflicts).\n",
    "- Or pull the branch locally, resolve the conflicts in your code editor, push the resolved changes back to the PR branch, and merge once resolved.\n",
    "\n",
    "> The key is to carefully merge the changes so both sets of changes can coexist or choose the correct version if they are mutually exclusive.\n"
   ]
  },
  {
   "cell_type": "markdown",
   "metadata": {},
   "source": [
    "## Squash Git commits \n",
    "\n",
    "**Squashing** commits means combining multiple commits into a single commit, often to clean up your commit history. Using `git rebase -i` (interactive rebase), you can squash:\n",
    "\n",
    "```bash\n",
    "git checkout my-feature\n",
    "git rebase -i main\n",
    "# Mark commits with \"s\" to squash them into the previous commit\n"
   ]
  },
  {
   "cell_type": "markdown",
   "metadata": {},
   "source": [
    "You then edit the commit message, and once complete, you’ll have fewer, more meaningful commits.\n",
    "\n",
    "\n",
    "## Git stash\n",
    "\n",
    "`git stash` saves your uncommitted changes away so you can switch branches or pull new changes without committing incomplete work.\n",
    "\n",
    "```bash\n",
    "git stash\n"
   ]
  },
  {
   "cell_type": "markdown",
   "metadata": {},
   "source": [
    "This takes your working directory changes and stores them on a stack of stashes.\n",
    "Your working directory is now clean (as if you never made those changes)."
   ]
  },
  {
   "cell_type": "markdown",
   "metadata": {},
   "source": [
    "\n",
    "## Git stash pop & apply\n",
    "\n",
    "- `git stash pop`: Applies the most recent stash and removes it from the stash list.\n",
    "- `git stash apply`: Applies the stash but keeps it in the stash list so you can apply it again if needed.\n",
    "\n",
    "> **Example**:\n",
    "> ```bash\n",
    "> git stash list\n",
    "> # stash@{0}: WIP on main: ...\n",
    "> \n",
    "> git stash pop\n",
    "> # merges your stashed changes into your working directory\n",
    "> ```\n"
   ]
  },
  {
   "cell_type": "markdown",
   "metadata": {},
   "source": []
  }
 ],
 "metadata": {
  "language_info": {
   "name": "python"
  }
 },
 "nbformat": 4,
 "nbformat_minor": 2
}
