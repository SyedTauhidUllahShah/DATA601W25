{
 "cells": [
  {
   "cell_type": "markdown",
   "metadata": {
    "slideshow": {
     "slide_type": "slide"
    }
   },
   "source": [
    "# Hands-on Introduction to Regular Expressions\n",
    "\n",
    "### DATA 601\n",
    "\n",
    "\n",
    "\n",
    "Further Reading:\n",
    "\n",
    "For a 'Pythonic' introduction to regular expressions, please see:   \n",
    "- [Regular Expression HOWTO](https://docs.python.org/3/howto/regex.html), a Python HOWTO by *A.M. Kuchling*.\n",
    "- [Regular expression operations](https://docs.python.org/3/library/re.html), official documentation of the `re` module.\n",
    "\n"
   ]
  },
  {
   "cell_type": "markdown",
   "metadata": {
    "slideshow": {
     "slide_type": "slide"
    }
   },
   "source": [
    "## Bit of Background\n",
    "\n",
    "- Informally, a regular expression (a.k.a regex or regexp) is a way to specify a pattern that is to be searched for within a string. \n",
    "- Formally, they are studied in theoretical computer science in sub-areas that are cocerned with the syntax and semantics of (programming) languages (formal language theory, compilers etc.).\n",
    "- Many programming languages (including Python) are able to efficiently search within strings via the use of regular expressions. This is usually done at a lower-level via a regular expression engine.\n",
    "- The Unix operating system comes with various text processing utilities that support regular expressions (e.g. sed, awk, grep). This means that a lot of text processing can be done at the OS level to clean/organize data.\n",
    "- Again, our focus is on the use of regular expressions and we won't be concerned with the internals of how the matching is actually performed."
   ]
  },
  {
   "cell_type": "markdown",
   "metadata": {
    "slideshow": {
     "slide_type": "slide"
    }
   },
   "source": [
    "## Raw Strings in Python\n",
    "\n",
    "- The backslash character (`\\`) in Python strings has a special meaning; it is used as an escape character, and is also used to specify special characters (such as the newline characters`\\n` or the tab character `\\t`).   \n",
    "  E.g. if we wanted a quote character (`'`) inside a string that is also demarcated via single quotes (`'...'`), we'd need to escape it:  \n",
    "  `'Python's magic'` (incorrect) vs. `'Python\\'s magic'` (correct). \n",
    "- What if we want a backslash character (`\\`) in a string? One way to do that would be to escape it via another backslash, so we'd type `'\\\\'`.\n",
    "- Another method is to use _raw strings_. This is done by preceding the string with an `r`. In a raw string, a backslash is interpreted as a normal character rather than an escape character.\n",
    "- Regular expressions make heavy use of the backslash character. In order to avoid escaping it every time one wants to use it, and __for better readability__, it is more convenient to use raw strings. \n",
    "- For more details, please see the [Literals](https://docs.python.org/3/reference/lexical_analysis.html#literals) section in the Python Language Reference."
   ]
  },
  {
   "cell_type": "code",
   "execution_count": 1,
   "metadata": {
    "slideshow": {
     "slide_type": "slide"
    }
   },
   "outputs": [
    {
     "name": "stdout",
     "output_type": "stream",
     "text": [
      "This is a regular string with two backslash \\\\ characters\n",
      "This is a raw string with two backslash \\\\ characters\n",
      "\n",
      "\n",
      "A backslash followed by an n in a regular string is treated as a newline character \n",
      " newline\n",
      "A backslash followed by an n in a raw string is treated as two separate characters \\n\n"
     ]
    }
   ],
   "source": [
    "# Regular vs. raw strings\n",
    "\n",
    "print( 'This is a regular string with two backslash \\\\\\\\ characters' )\n",
    "print( r\"This is a raw string with two backslash \\\\ characters\" )\n",
    "print(\"\\n\")\n",
    " \n",
    "print( \"A backslash followed by an n in a regular string is treated as a newline character \\n newline\" )\n",
    "print( r\"A backslash followed by an n in a raw string is treated as two separate characters \\n\" )\n"
   ]
  },
  {
   "cell_type": "code",
   "execution_count": 2,
   "metadata": {
    "slideshow": {
     "slide_type": "slide"
    }
   },
   "outputs": [
    {
     "name": "stdout",
     "output_type": "stream",
     "text": [
      "['the']\n",
      "['The', 'the']\n"
     ]
    }
   ],
   "source": [
    "# Simple character/string matching\n",
    "\n",
    "# The simplest match is to look for a substring within a string.\n",
    "\n",
    "import re\n",
    "\n",
    "str = \"The quick brown fox jumps over the lazy dog\"\n",
    "pattern = r'the'\n",
    "\n",
    "print( re.findall( pattern, str) ) # case sensitive\n",
    "print( re.findall( pattern, str, flags=re.IGNORECASE) ) # case insensitive\n",
    "\n",
    "# We can also replace the substring\n",
    "# print( re.sub(pattern, '---', str ) )\n",
    "# print( re.sub(pattern, '---', str, flags=re.IGNORECASE) )"
   ]
  },
  {
   "cell_type": "markdown",
   "metadata": {
    "slideshow": {
     "slide_type": "slide"
    }
   },
   "source": [
    "## Metacharacters\n",
    "\n",
    "- More interesting patterns are specified via the following metacharacters which are put together to form regular expressions.\n",
    "\n",
    "  - `.` - match any character except for the new line character.\n",
    "  - `[ ]` - will match a class of characters (alphabets, numbers, ranges etc.),\n",
    "  - `\\` - used to specify a class of special characters (whitespace, non-whitespace etc.),\n",
    "  - `*` - used to match _zero_ or more occurrences of a pattern,\n",
    "  - `+` - used to match _one_ or more occurrences of a pattern.,\n",
    "  - `?` - match either zero times or once, \n",
    "  - `{ }` - used to specify the number of occurrences (at least and at most),\n",
    "  - `|` - 'OR' operator,\n",
    "  - `^` - match at the beginning of string (or lines), also used at the beginning of class specification (`[ ]`) to indicate a complement,\n",
    "  - `$` - match at the end of string (or lines),\n",
    "  - `( )` - used for grouping matches that can then be further processed."
   ]
  },
  {
   "cell_type": "code",
   "execution_count": 3,
   "metadata": {
    "slideshow": {
     "slide_type": "slide"
    }
   },
   "outputs": [
    {
     "name": "stdout",
     "output_type": "stream",
     "text": [
      "['T', 'h', 'i', 's', ' ', 'i', 's', ' ', 'a', 'n', ' ', 'e', 'x', 'a', 'm', 'p', 'l', 'e', 'o', 'f', ' ', 'a', ' ', 'm', 'u', 'l', 't', 'i', '_', 'l', 'i', 'n', 'e', ' ', '(', 'm', 'u', 'l', 't', 'i', 'l', 'i', 'n', 'e', ')', 's', 't', 'r', 'i', 'n', 'g', ' ', ' ', 't', 'h', 'a', 't', ' ', ' ', 's', 'p', 'a', 'n', 's', 'F', 'O', 'U', 'R', ' ', '(', '4', ')', ' ', 'l', 'i', 'n', 'e', 's', '.']\n",
      "\n",
      "\n",
      "['multi_line', 'multiline']\n",
      "\n",
      "\n",
      "['T', 'F', 'O', 'U', 'R']\n"
     ]
    }
   ],
   "source": [
    "# Let's look at some examples of matching - first without repetitions\n",
    "\n",
    "str = '''This is an example\n",
    "of a multi_line (multiline)\n",
    "string  that  spans\n",
    "FOUR (4) lines.\n",
    "'''\n",
    "\n",
    "print( re.findall(r'.', str) )\n",
    "print(\"\\n\")\n",
    "#print( re.findall(r'.', str, flags=re.DOTALL) ) # make '.' match newline characters also\n",
    "#print( \"\\n\" )\n",
    "#print( re.findall(r'\\.', str) ) # Need to escape when matching a metacharacter \n",
    "#print(\"\\n\")\n",
    "\n",
    "print( re.findall(r'multi_?line', str) )\n",
    "print( \"\\n\" )\n",
    "\n",
    "\n",
    "print(re.findall( r'[A-Z]' , str ) ) # Any uppercase character\n",
    "#print(re.findall( r'[A-Z][A-Z]', str ) ) # Two consecutive upper-case characters.\n",
    "#print(re.findall( r'.[0-9].', str  ) ) # Any numeric character along-with the previous and next characters"
   ]
  },
  {
   "cell_type": "markdown",
   "metadata": {},
   "source": [
    "### `[ ]` (Character Class) → Matches Any One Character from the Set\n",
    "\n",
    "Square brackets (`[ ]`) allow defining a set of characters to match.\n",
    "\n",
    "\n"
   ]
  },
  {
   "cell_type": "code",
   "execution_count": 4,
   "metadata": {},
   "outputs": [
    {
     "name": "stdout",
     "output_type": "stream",
     "text": [
      "['e', 'o', 'o']\n"
     ]
    }
   ],
   "source": [
    "print(re.findall(\"[aeiou]\", \"hello world\"))\n"
   ]
  },
  {
   "cell_type": "markdown",
   "metadata": {},
   "source": [
    "Ranges can be specified inside [ ]:"
   ]
  },
  {
   "cell_type": "code",
   "execution_count": 5,
   "metadata": {},
   "outputs": [
    {
     "name": "stdout",
     "output_type": "stream",
     "text": [
      "['y', 't', 'h', 'o', 'n']\n",
      "['2', '0', '2', '4']\n"
     ]
    }
   ],
   "source": [
    "print(re.findall(\"[a-z]\", \"Python3\"))  # Matches lowercase letters\n",
    "print(re.findall(\"[0-9]\", \"Year 2024\"))  # Matches digits\n"
   ]
  },
  {
   "cell_type": "markdown",
   "metadata": {},
   "source": [
    "Negation (^) inside [ ]:\n"
   ]
  },
  {
   "cell_type": "code",
   "execution_count": 6,
   "metadata": {},
   "outputs": [
    {
     "name": "stdout",
     "output_type": "stream",
     "text": [
      "['h', 'l', 'l']\n"
     ]
    }
   ],
   "source": [
    "print(re.findall(\"[^aeiou]\", \"hello\"))  # Matches everything except vowels\n",
    "# Output: ['h', 'l', 'l']\n"
   ]
  },
  {
   "cell_type": "markdown",
   "metadata": {},
   "source": [
    "### `\\` (Backslash) → Used for Special Character Classes\n",
    "\n",
    "Backslash (`\\`) is used for predefined character sets:\n",
    "\n",
    "| Pattern | Description |\n",
    "|---------|-------------|\n",
    "| `\\d` | Matches any digit (0-9) |\n",
    "| `\\D` | Matches any non-digit |\n",
    "| `\\s` | Matches whitespace (space, tab, newline) |\n",
    "| `\\S` | Matches non-whitespace |\n",
    "| `\\w` | Matches word characters (letters, numbers, underscore) |\n",
    "| `\\W` | Matches non-word characters |\n",
    "\n",
    "\n"
   ]
  },
  {
   "cell_type": "markdown",
   "metadata": {},
   "source": [
    "#### `\\d` → Matches any digit (0-9)"
   ]
  },
  {
   "cell_type": "code",
   "execution_count": 7,
   "metadata": {},
   "outputs": [
    {
     "name": "stdout",
     "output_type": "stream",
     "text": [
      "['1', '2', '3', '4', '5', '6', '7', '8', '9', '0']\n"
     ]
    },
    {
     "name": "stderr",
     "output_type": "stream",
     "text": [
      "<>:1: SyntaxWarning: invalid escape sequence '\\d'\n",
      "<>:1: SyntaxWarning: invalid escape sequence '\\d'\n",
      "/var/folders/xm/dtk1g2nx457gfkp94_xvn6bm0000gn/T/ipykernel_16443/2757590916.py:1: SyntaxWarning: invalid escape sequence '\\d'\n",
      "  print(re.findall(\"\\d\", \"Phone number: 123-456-7890\"))\n"
     ]
    }
   ],
   "source": [
    "\n",
    "print(re.findall(\"\\d\", \"Phone number: 123-456-7890\"))\n"
   ]
  },
  {
   "cell_type": "markdown",
   "metadata": {},
   "source": [
    "#### \\D → Matches any non-digi"
   ]
  },
  {
   "cell_type": "code",
   "execution_count": 10,
   "metadata": {},
   "outputs": [
    {
     "name": "stdout",
     "output_type": "stream",
     "text": [
      "['R', 'o', 'o', 'm', ' ', 'B']\n"
     ]
    },
    {
     "name": "stderr",
     "output_type": "stream",
     "text": [
      "<>:1: SyntaxWarning: invalid escape sequence '\\D'\n",
      "<>:1: SyntaxWarning: invalid escape sequence '\\D'\n",
      "/var/folders/xm/dtk1g2nx457gfkp94_xvn6bm0000gn/T/ipykernel_16443/1544328276.py:1: SyntaxWarning: invalid escape sequence '\\D'\n",
      "  print(re.findall(\"\\D\", \"Room 305B\"))\n"
     ]
    }
   ],
   "source": [
    "print(re.findall(\"\\D\", \"Room 305B\"))\n"
   ]
  },
  {
   "cell_type": "markdown",
   "metadata": {},
   "source": [
    "####  \\s → Matches whitespace (space, tab, newline)"
   ]
  },
  {
   "cell_type": "code",
   "execution_count": 12,
   "metadata": {},
   "outputs": [
    {
     "name": "stdout",
     "output_type": "stream",
     "text": [
      "[' ', '\\n', ' ']\n"
     ]
    },
    {
     "name": "stderr",
     "output_type": "stream",
     "text": [
      "<>:1: SyntaxWarning: invalid escape sequence '\\s'\n",
      "<>:1: SyntaxWarning: invalid escape sequence '\\s'\n",
      "/var/folders/xm/dtk1g2nx457gfkp94_xvn6bm0000gn/T/ipykernel_16443/3404335720.py:1: SyntaxWarning: invalid escape sequence '\\s'\n",
      "  print(re.findall(\"\\s\", \"Hello World!\\nNew Line\"))\n"
     ]
    }
   ],
   "source": [
    "print(re.findall(\"\\s\", \"Hello World!\\nNew Line\"))"
   ]
  },
  {
   "cell_type": "markdown",
   "metadata": {},
   "source": [
    "#### \\S → Matches non-whitespace"
   ]
  },
  {
   "cell_type": "code",
   "execution_count": 14,
   "metadata": {},
   "outputs": [
    {
     "name": "stdout",
     "output_type": "stream",
     "text": [
      "['H', 'e', 'l', 'l', 'o', 'W', 'o', 'r', 'l', 'd', '!', 'N', 'e', 'w', 'L', 'i', 'n', 'e']\n"
     ]
    },
    {
     "name": "stderr",
     "output_type": "stream",
     "text": [
      "<>:1: SyntaxWarning: invalid escape sequence '\\S'\n",
      "<>:1: SyntaxWarning: invalid escape sequence '\\S'\n",
      "/var/folders/xm/dtk1g2nx457gfkp94_xvn6bm0000gn/T/ipykernel_16443/3336169036.py:1: SyntaxWarning: invalid escape sequence '\\S'\n",
      "  print(re.findall(\"\\S\", \"Hello World!\\nNew Line\"))\n"
     ]
    }
   ],
   "source": [
    "print(re.findall(\"\\S\", \"Hello World!\\nNew Line\"))\n"
   ]
  },
  {
   "cell_type": "markdown",
   "metadata": {},
   "source": [
    "#### \\w → Matches word characters (letters, numbers, underscore)"
   ]
  },
  {
   "cell_type": "code",
   "execution_count": 16,
   "metadata": {},
   "outputs": [
    {
     "name": "stdout",
     "output_type": "stream",
     "text": [
      "['P', 'y', 't', 'h', 'o', 'n', '_', '3', '9', 'i', 's', 'c', 'o', 'o', 'l']\n"
     ]
    },
    {
     "name": "stderr",
     "output_type": "stream",
     "text": [
      "<>:1: SyntaxWarning: invalid escape sequence '\\w'\n",
      "<>:1: SyntaxWarning: invalid escape sequence '\\w'\n",
      "/var/folders/xm/dtk1g2nx457gfkp94_xvn6bm0000gn/T/ipykernel_16443/1304716139.py:1: SyntaxWarning: invalid escape sequence '\\w'\n",
      "  print(re.findall(\"\\w\", \"Python_3.9 is cool!\"))\n"
     ]
    }
   ],
   "source": [
    "print(re.findall(\"\\w\", \"Python_3.9 is cool!\"))\n",
    "# Output: ['P', 'y', 't', 'h', 'o', 'n', '_', '3', '9', 'i', 's', 'c', 'o', 'o', 'l']\n"
   ]
  },
  {
   "cell_type": "markdown",
   "metadata": {},
   "source": [
    "#### \\W → Matches non-word characters"
   ]
  },
  {
   "cell_type": "code",
   "execution_count": 17,
   "metadata": {},
   "outputs": [
    {
     "name": "stdout",
     "output_type": "stream",
     "text": [
      "['.', ' ', ' ', '!']\n"
     ]
    },
    {
     "name": "stderr",
     "output_type": "stream",
     "text": [
      "<>:1: SyntaxWarning: invalid escape sequence '\\W'\n",
      "<>:1: SyntaxWarning: invalid escape sequence '\\W'\n",
      "/var/folders/xm/dtk1g2nx457gfkp94_xvn6bm0000gn/T/ipykernel_16443/2662696083.py:1: SyntaxWarning: invalid escape sequence '\\W'\n",
      "  print(re.findall(\"\\W\", \"Python_3.9 is cool!\"))\n"
     ]
    }
   ],
   "source": [
    "print(re.findall(\"\\W\", \"Python_3.9 is cool!\"))\n",
    "# Output: ['.', ' ', ' ', '!']\n"
   ]
  },
  {
   "cell_type": "markdown",
   "metadata": {},
   "source": [
    "#### `*` (Asterisk) → Matches Zero or More Occurrences\n",
    "\n",
    "The asterisk (`*`) allows matching the preceding character **zero or more times**."
   ]
  },
  {
   "cell_type": "code",
   "execution_count": 19,
   "metadata": {},
   "outputs": [
    {
     "name": "stdout",
     "output_type": "stream",
     "text": [
      "['ct', 'cat', 'caat', 'caaat']\n"
     ]
    }
   ],
   "source": [
    "print(re.findall(\"ca*t\", \"ct cat caat caaat\"))  \n",
    "# Output: ['ct', 'cat', 'caat', 'caaat'] (matches 'c' followed by zero or more 'a', and 't')\n"
   ]
  },
  {
   "cell_type": "markdown",
   "metadata": {},
   "source": [
    "####  `+` (Plus) → Matches One or More Occurrences\n",
    "\n",
    "The plus sign (`+`) allows matching the preceding character **one or more times** (unlike `*`, which allows zero or more matches).\n"
   ]
  },
  {
   "cell_type": "code",
   "execution_count": 20,
   "metadata": {},
   "outputs": [
    {
     "name": "stdout",
     "output_type": "stream",
     "text": [
      "['cat', 'caat', 'caaat']\n"
     ]
    }
   ],
   "source": [
    "print(re.findall(\"ca+t\", \"ct cat caat caaat\"))  \n"
   ]
  },
  {
   "cell_type": "markdown",
   "metadata": {},
   "source": [
    "####  `?` (Question Mark) → Matches Zero or One Time\n",
    "\n",
    "The question mark (`?`) means that the preceding character or pattern is **optional** (i.e., it can appear either **zero or one time**).\n"
   ]
  },
  {
   "cell_type": "code",
   "execution_count": 21,
   "metadata": {},
   "outputs": [
    {
     "name": "stdout",
     "output_type": "stream",
     "text": [
      "['color', 'colour']\n"
     ]
    }
   ],
   "source": [
    "print(re.findall(\"colou?r\", \"color, colour, colouur\"))  \n"
   ]
  },
  {
   "cell_type": "markdown",
   "metadata": {},
   "source": [
    "####  `{}` (Curly Braces) → Matches Specific Number of Occurrences\n",
    "\n",
    "Curly braces `{}` define the **exact** or **range** of occurrences to match.\n"
   ]
  },
  {
   "cell_type": "code",
   "execution_count": 22,
   "metadata": {},
   "outputs": [
    {
     "name": "stdout",
     "output_type": "stream",
     "text": [
      "['aa', 'aa', 'aa', 'aa', 'aa']\n"
     ]
    }
   ],
   "source": [
    "print(re.findall(\"a{2}\", \"aa aaaa a aaaa\"))  "
   ]
  },
  {
   "cell_type": "markdown",
   "metadata": {},
   "source": [
    "Range Match "
   ]
  },
  {
   "cell_type": "code",
   "execution_count": 24,
   "metadata": {},
   "outputs": [
    {
     "name": "stdout",
     "output_type": "stream",
     "text": [
      "['aaaa', 'aaaa', 'aa', 'aaaa']\n"
     ]
    }
   ],
   "source": [
    "print(re.findall(\"a{2,4}\", \"aaaa aaaa a aa aaaa\"))  "
   ]
  },
  {
   "cell_type": "markdown",
   "metadata": {},
   "source": [
    "####  `|` (Pipe) → OR Operator\n",
    "\n",
    "The **pipe (`|`)** acts as a **logical OR**, allowing multiple patterns to be matched.\n",
    "\n"
   ]
  },
  {
   "cell_type": "code",
   "execution_count": 26,
   "metadata": {},
   "outputs": [
    {
     "name": "stdout",
     "output_type": "stream",
     "text": [
      "['cat', 'dog']\n"
     ]
    }
   ],
   "source": [
    "\n",
    "print(re.findall(\"cat|dog\", \"I love cats and dogs.\"))  \n"
   ]
  },
  {
   "cell_type": "markdown",
   "metadata": {},
   "source": [
    "####  `^` (Caret) → Matches Start of a String\n",
    "\n",
    "The **caret (`^`)** is used to match a pattern **only if it appears at the start** of a string.\n",
    "\n",
    "\n",
    "\n"
   ]
  },
  {
   "cell_type": "code",
   "execution_count": 27,
   "metadata": {},
   "outputs": [
    {
     "name": "stdout",
     "output_type": "stream",
     "text": [
      "['Hello']\n"
     ]
    }
   ],
   "source": [
    "print(re.findall(\"^Hello\", \"Hello World!\"))  \n"
   ]
  },
  {
   "cell_type": "code",
   "execution_count": null,
   "metadata": {},
   "outputs": [],
   "source": [
    "print(re.findall(\"^World\", \"Hello World!\"))  "
   ]
  },
  {
   "cell_type": "markdown",
   "metadata": {},
   "source": [
    "#### ^ Inside Character Classes ([^...]) → Negates the Pattern\n",
    "Inside square brackets ([^...]), the ^ negates the character class, meaning it matches everything except the specified characters."
   ]
  },
  {
   "cell_type": "code",
   "execution_count": 29,
   "metadata": {},
   "outputs": [
    {
     "name": "stdout",
     "output_type": "stream",
     "text": [
      "['P', 'r', 'i', 'c', 'e', ':', ' ', ' ', 'd', 'o', 'l', 'l', 'a', 'r', 's']\n"
     ]
    }
   ],
   "source": [
    "print(re.findall(\"[^0-9]\", \"Price: 123 dollars\"))  \n"
   ]
  },
  {
   "cell_type": "markdown",
   "metadata": {},
   "source": [
    "#### `$` (Dollar) → Matches End of a String\n",
    "\n",
    "The **dollar sign (`$`)** is used to match a pattern **only if it appears at the end** of a string.\n"
   ]
  },
  {
   "cell_type": "code",
   "execution_count": null,
   "metadata": {},
   "outputs": [],
   "source": [
    "print(re.findall(\"end$\", \"This is the end\"))  "
   ]
  },
  {
   "cell_type": "markdown",
   "metadata": {},
   "source": []
  },
  {
   "cell_type": "markdown",
   "metadata": {
    "slideshow": {
     "slide_type": "slide"
    }
   },
   "source": [
    "## Regular Expression Objects, Grouping\n",
    "\n",
    "- When the same regular expression is to be used on several strings, it is better to declare a regular expression object (via `re.compile()`) and then invoke it on the target strings.\n",
    "\n",
    "- For more control over the matched strings, we can use parentheses in the regular expression to segment the matches into groups. "
   ]
  },
  {
   "cell_type": "markdown",
   "metadata": {},
   "source": [
    "### `()` (Parentheses) → Grouping and Capturing\n",
    "\n",
    "**Parentheses `()`** are used to **group** parts of a regex and **capture** matched subpatterns.\n"
   ]
  },
  {
   "cell_type": "code",
   "execution_count": 31,
   "metadata": {},
   "outputs": [
    {
     "name": "stdout",
     "output_type": "stream",
     "text": [
      "Hello\n",
      "World\n"
     ]
    }
   ],
   "source": [
    "match = re.search(\"(Hello) (World)\", \"Hello World!\") # It returns a match object if it finds a match.\n",
    "print(match.group(1))  # Output: Hello\n",
    "print(match.group(2))  # Output: World"
   ]
  },
  {
   "cell_type": "code",
   "execution_count": 35,
   "metadata": {},
   "outputs": [
    {
     "name": "stdout",
     "output_type": "stream",
     "text": [
      "Hello World\n"
     ]
    }
   ],
   "source": [
    "print(match.group(0))  "
   ]
  },
  {
   "attachments": {
    "image.png": {
     "image/png": "[encoded data removed]"
    }
   },
   "cell_type": "markdown",
   "metadata": {},
   "source": [
    "![image.png](attachment:image.png)"
   ]
  },
  {
   "cell_type": "code",
   "execution_count": 37,
   "metadata": {},
   "outputs": [
    {
     "name": "stdout",
     "output_type": "stream",
     "text": [
      "('Hello', 'World')\n"
     ]
    }
   ],
   "source": [
    "print(match.group(1, 2))  # Output: ('Hello', 'World')\n"
   ]
  },
  {
   "cell_type": "code",
   "execution_count": 38,
   "metadata": {},
   "outputs": [
    {
     "name": "stdout",
     "output_type": "stream",
     "text": [
      "None\n"
     ]
    },
    {
     "ename": "AttributeError",
     "evalue": "'NoneType' object has no attribute 'group'",
     "output_type": "error",
     "traceback": [
      "\u001b[0;31m---------------------------------------------------------------------------\u001b[0m",
      "\u001b[0;31mAttributeError\u001b[0m                            Traceback (most recent call last)",
      "Cell \u001b[0;32mIn[38], line 3\u001b[0m\n\u001b[1;32m      1\u001b[0m match \u001b[38;5;241m=\u001b[39m re\u001b[38;5;241m.\u001b[39msearch(\u001b[38;5;124m\"\u001b[39m\u001b[38;5;124m(Hello) (World)\u001b[39m\u001b[38;5;124m\"\u001b[39m, \u001b[38;5;124m\"\u001b[39m\u001b[38;5;124mGoodbye Universe!\u001b[39m\u001b[38;5;124m\"\u001b[39m)\n\u001b[1;32m      2\u001b[0m \u001b[38;5;28mprint\u001b[39m(match)  \u001b[38;5;66;03m# Output: None\u001b[39;00m\n\u001b[0;32m----> 3\u001b[0m \u001b[38;5;28mprint\u001b[39m(match\u001b[38;5;241m.\u001b[39mgroup(\u001b[38;5;241m1\u001b[39m))\n",
      "\u001b[0;31mAttributeError\u001b[0m: 'NoneType' object has no attribute 'group'"
     ]
    }
   ],
   "source": [
    "match = re.search(\"(Hello) (World)\", \"Goodbye Universe!\")\n",
    "print(match)  # Output: None\n",
    "print(match.group(1))  # ❌ Error: 'NoneType' object has no attribute 'group'\n"
   ]
  },
  {
   "cell_type": "markdown",
   "metadata": {},
   "source": []
  },
  {
   "cell_type": "code",
   "execution_count": 32,
   "metadata": {},
   "outputs": [
    {
     "name": "stdout",
     "output_type": "stream",
     "text": [
      "Hello\n",
      "World\n"
     ]
    }
   ],
   "source": [
    "match = re.search(\"(hello) (world)\", \"Hello World!\", re.IGNORECASE)\n",
    "print(match.group(1))  # Output: Hello\n",
    "print(match.group(2))  # Output: World\n"
   ]
  },
  {
   "cell_type": "code",
   "execution_count": 41,
   "metadata": {
    "slideshow": {
     "slide_type": "slide"
    }
   },
   "outputs": [
    {
     "name": "stdout",
     "output_type": "stream",
     "text": [
      "<re.Match object; span=(0, 4), match='1.23'>\n",
      "Group 0: 1.23, Group 1: 1, Group 2 : 23\n",
      "<re.Match object; span=(5, 11), match='12.356'>\n",
      "Group 0: 12.356, Group 1: 12, Group 2 : 356\n",
      "<re.Match object; span=(12, 21), match='100.78963'>\n",
      "Group 0: 100.78963, Group 1: 100, Group 2 : 78963\n",
      "<re.Match object; span=(22, 25), match='.42'>\n",
      "Group 0: .42, Group 1: , Group 2 : 42\n",
      "<re.Match object; span=(26, 32), match='3.1412'>\n",
      "Group 0: 3.1412, Group 1: 3, Group 2 : 1412\n",
      "<re.Match object; span=(33, 41), match='83.92837'>\n",
      "Group 0: 83.92837, Group 1: 83, Group 2 : 92837\n",
      "\n",
      "\n"
     ]
    }
   ],
   "source": [
    "# An example with groups\n",
    "\n",
    "# Suppose we have a text string consisting of decimal numbers one per line\n",
    "# and we wish to break it up into the integer part and the decimal part.\n",
    "# This can be done via groups that are demarcated by '( )' in the regular \n",
    "# expression\n",
    "\n",
    "num_str = '''1.23\n",
    "12.356\n",
    "100.78963\n",
    ".42\n",
    "3.1412\n",
    "83.92837\n",
    "'''\n",
    "\n",
    "p1 = re.compile( r'(\\d*)\\.(\\d*)' )\n",
    "for m in p1.finditer(num_str): # re.finditer() returns an iterator of match objects, allowing us to process all matches in the string.\n",
    "    print(m)\n",
    "    print( \"Group 0: {0}, Group 1: {1}, Group 2 : {2}\".format( m.group(0), m.group(1), m.group(2) ) )\n",
    "    \n",
    "print(\"\\n\")\n"
   ]
  },
  {
   "cell_type": "markdown",
   "metadata": {},
   "source": [
    "The $(?P<name>...)$ syntax in Python's re module is used for named capturing groups. It allows us to assign a name  to a capturing group, making it easier to reference."
   ]
  },
  {
   "cell_type": "code",
   "execution_count": 34,
   "metadata": {},
   "outputs": [
    {
     "name": "stdout",
     "output_type": "stream",
     "text": [
      "\n",
      "\n",
      "1 23\n",
      "12 356\n",
      "100 78963\n",
      " 42\n",
      "3 1412\n",
      "83 92837\n"
     ]
    }
   ],
   "source": [
    "# Groups can also be named, this is Python specific\n",
    "\n",
    "p2 = re.compile( r'(?P<Int>\\d*)\\.(?P<Frac>\\d*)' )\n",
    "for m in p2.finditer(num_str):\n",
    "    # Groups are returned as a dictionary which can be indexed via the specified names.\n",
    "    print( m['Int'], m['Frac'] )"
   ]
  },
  {
   "cell_type": "markdown",
   "metadata": {
    "slideshow": {
     "slide_type": "slide"
    }
   },
   "source": [
    "## Using Regular Expressions in Pandas\n",
    "\n",
    "- Once you know how regular expressions work, it's fairly straightofrward to use them in pandas. A number of string functions will accept regular expressions as input.\n",
    "\n",
    "- We also get the benefit of vectorization, i.e. the functions are called once per entry in the series.\n",
    "\n",
    "- For further details, please see the [Working with text data](https://pandas.pydata.org/pandas-docs/stable/user_guide/text.html) section in the pandas user guide."
   ]
  },
  {
   "cell_type": "code",
   "execution_count": 42,
   "metadata": {
    "slideshow": {
     "slide_type": "slide"
    }
   },
   "outputs": [
    {
     "name": "stdout",
     "output_type": "stream",
     "text": [
      "Intel MKL WARNING: Support of Intel(R) Streaming SIMD Extensions 4.2 (Intel(R) SSE4.2) enabled only processors has been deprecated. Intel oneAPI Math Kernel Library 2025.0 will require Intel(R) Advanced Vector Extensions (Intel(R) AVX) instructions.\n",
      "Intel MKL WARNING: Support of Intel(R) Streaming SIMD Extensions 4.2 (Intel(R) SSE4.2) enabled only processors has been deprecated. Intel oneAPI Math Kernel Library 2025.0 will require Intel(R) Advanced Vector Extensions (Intel(R) AVX) instructions.\n",
      "0    3.9845460025841346\n",
      "1     75.03892518982853\n",
      "2      82.5240835597419\n",
      "3     82.76367670014234\n",
      "4     65.95090157118028\n",
      "5    30.573801235089597\n",
      "6     80.43633176384877\n",
      "7     32.48590462577794\n",
      "8    60.706003733316656\n",
      "9     90.37977443517995\n",
      "dtype: string\n"
     ]
    },
    {
     "data": {
      "text/html": [
       "<div>\n",
       "<style scoped>\n",
       "    .dataframe tbody tr th:only-of-type {\n",
       "        vertical-align: middle;\n",
       "    }\n",
       "\n",
       "    .dataframe tbody tr th {\n",
       "        vertical-align: top;\n",
       "    }\n",
       "\n",
       "    .dataframe thead th {\n",
       "        text-align: right;\n",
       "    }\n",
       "</style>\n",
       "<table border=\"1\" class=\"dataframe\">\n",
       "  <thead>\n",
       "    <tr style=\"text-align: right;\">\n",
       "      <th></th>\n",
       "      <th></th>\n",
       "      <th>Int</th>\n",
       "      <th>Frac</th>\n",
       "    </tr>\n",
       "    <tr>\n",
       "      <th></th>\n",
       "      <th>match</th>\n",
       "      <th></th>\n",
       "      <th></th>\n",
       "    </tr>\n",
       "  </thead>\n",
       "  <tbody>\n",
       "    <tr>\n",
       "      <th>0</th>\n",
       "      <th>0</th>\n",
       "      <td>3</td>\n",
       "      <td>9845460025841346</td>\n",
       "    </tr>\n",
       "    <tr>\n",
       "      <th>1</th>\n",
       "      <th>0</th>\n",
       "      <td>75</td>\n",
       "      <td>03892518982853</td>\n",
       "    </tr>\n",
       "    <tr>\n",
       "      <th>2</th>\n",
       "      <th>0</th>\n",
       "      <td>82</td>\n",
       "      <td>5240835597419</td>\n",
       "    </tr>\n",
       "    <tr>\n",
       "      <th>3</th>\n",
       "      <th>0</th>\n",
       "      <td>82</td>\n",
       "      <td>76367670014234</td>\n",
       "    </tr>\n",
       "    <tr>\n",
       "      <th>4</th>\n",
       "      <th>0</th>\n",
       "      <td>65</td>\n",
       "      <td>95090157118028</td>\n",
       "    </tr>\n",
       "    <tr>\n",
       "      <th>5</th>\n",
       "      <th>0</th>\n",
       "      <td>30</td>\n",
       "      <td>573801235089597</td>\n",
       "    </tr>\n",
       "    <tr>\n",
       "      <th>6</th>\n",
       "      <th>0</th>\n",
       "      <td>80</td>\n",
       "      <td>43633176384877</td>\n",
       "    </tr>\n",
       "    <tr>\n",
       "      <th>7</th>\n",
       "      <th>0</th>\n",
       "      <td>32</td>\n",
       "      <td>48590462577794</td>\n",
       "    </tr>\n",
       "    <tr>\n",
       "      <th>8</th>\n",
       "      <th>0</th>\n",
       "      <td>60</td>\n",
       "      <td>706003733316656</td>\n",
       "    </tr>\n",
       "    <tr>\n",
       "      <th>9</th>\n",
       "      <th>0</th>\n",
       "      <td>90</td>\n",
       "      <td>37977443517995</td>\n",
       "    </tr>\n",
       "  </tbody>\n",
       "</table>\n",
       "</div>"
      ],
      "text/plain": [
       "        Int              Frac\n",
       "  match                      \n",
       "0 0       3  9845460025841346\n",
       "1 0      75    03892518982853\n",
       "2 0      82     5240835597419\n",
       "3 0      82    76367670014234\n",
       "4 0      65    95090157118028\n",
       "5 0      30   573801235089597\n",
       "6 0      80    43633176384877\n",
       "7 0      32    48590462577794\n",
       "8 0      60   706003733316656\n",
       "9 0      90    37977443517995"
      ]
     },
     "execution_count": 42,
     "metadata": {},
     "output_type": "execute_result"
    }
   ],
   "source": [
    "# Previous example on a pandas series\n",
    "\n",
    "import numpy as np\n",
    "import pandas as pd\n",
    "\n",
    "narr = np.random.randint(0,100, 10) + np.random.rand(10)\n",
    "narr = narr.astype('str')\n",
    "\n",
    "data = pd.Series( narr, dtype='string' )\n",
    "print(data)\n",
    "\n",
    "# The following syntax uses named groups, this syntax is specific to Python\n",
    "data.str.extractall( r'(?P<Int>\\d*)\\.(?P<Frac>\\d*)' )"
   ]
  },
  {
   "cell_type": "markdown",
   "metadata": {
    "slideshow": {
     "slide_type": "slide"
    }
   },
   "source": [
    "## Exercise\n",
    "\n",
    "1. Listed below are some regular expressions (some we have already seen). What kinds of strings will they match? Try them out on sample strings.\n",
    "\n",
    "    - `r\"[,\\r\\n]+\"`\n",
    "    - `r\"([a-zA-Z0-9_]+)@\"`\n",
    "    - `r\"\\(\\d\\d\\d\\) \\d\\d\\d-?\\d\\d\\d\\d\"`\n",
    "    - `r\"[0-9]?[0-9]:[0-9][0-9]\"`\n",
    "    - `r\"^.+\"` (assume matching at the beginning of a string)\n",
    "\n",
    "\n",
    "2. Recall the Calgary Historical Rainfall dataset. Use a regular expression to parse out month and date from the `TIMESTAMP` column into separate columns.\n"
   ]
  },
  {
   "cell_type": "code",
   "execution_count": null,
   "metadata": {},
   "outputs": [],
   "source": []
  }
 ],
 "metadata": {
  "celltoolbar": "Slideshow",
  "kernelspec": {
   "display_name": "Python 3 (ipykernel)",
   "language": "python",
   "name": "python3"
  },
  "language_info": {
   "codemirror_mode": {
    "name": "ipython",
    "version": 3
   },
   "file_extension": ".py",
   "mimetype": "text/x-python",
   "name": "python",
   "nbconvert_exporter": "python",
   "pygments_lexer": "ipython3",
   "version": "3.12.7"
  }
 },
 "nbformat": 4,
 "nbformat_minor": 4
}
