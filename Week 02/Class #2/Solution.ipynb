{
 "cells": [
  {
   "cell_type": "code",
   "execution_count": null,
   "metadata": {},
   "outputs": [],
   "source": []
  },
  {
   "cell_type": "markdown",
   "metadata": {},
   "source": []
  },
  {
   "cell_type": "markdown",
   "metadata": {},
   "source": [
    "Exercise #2\n"
   ]
  },
  {
   "cell_type": "code",
   "execution_count": null,
   "metadata": {},
   "outputs": [],
   "source": [
    "streamer = pd.read_csv(URL_base + ex6, chunksize=100)\n",
    "tots = pd.Series([])\n",
    "nums = 0\n",
    "for chunk in streamer:\n",
    "    tots = tots.add(chunk[['one','two','three','four']].sum(), fill_value=0.0)\n",
    "    nums = nums + len(chunk.index)\n",
    "print(nums)\n",
    "    \n",
    "print(tots)\n",
    "print(\"\\n\")\n",
    "print(tots / nums)\n",
    "\n",
    "print(\"\\n\")\n",
    "display(pd.read_csv(URL_base + ex6)[['one', 'two', 'three', 'four']].mean())"
   ]
  },
  {
   "cell_type": "markdown",
   "metadata": {},
   "source": []
  }
 ],
 "metadata": {
  "kernelspec": {
   "display_name": "nlp",
   "language": "python",
   "name": "python3"
  },
  "language_info": {
   "codemirror_mode": {
    "name": "ipython",
    "version": 3
   },
   "file_extension": ".py",
   "mimetype": "text/x-python",
   "name": "python",
   "nbconvert_exporter": "python",
   "pygments_lexer": "ipython3",
   "version": "3.12.7"
  }
 },
 "nbformat": 4,
 "nbformat_minor": 2
}
