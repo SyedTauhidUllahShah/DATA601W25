{
 "cells": [
  {
   "cell_type": "markdown",
   "id": "e877d341",
   "metadata": {},
   "source": [
    "# DATA 601\n",
    "\n",
    "## HW1\n",
    "\n",
    "\n",
    "**Learning Objectives**\n",
    "\n",
    "- Explore built-in data types in Python.\n",
    "- Review fundamental programming and problem solving concepts with Python.\n",
    "- Implement functions based on mathematical concepts and definitions.\n",
    "- Gain experience working with the Jupyter notebook environment.\n",
    "\n",
    "_This is an individual homework assignment._ \n",
    "\n",
    "Please complete this homework assignment within the Jupypter notebook environment.  \n",
    "\n",
    "#### Submission \n",
    "\n",
    "In order to ensure that the submission and grading process goes smoothly, please follow these instructions:\n",
    "\n",
    "- Please provide your solutions where asked; please do not alter any other parts of this notebook.\n",
    "\n",
    "- Save your notebook in its original IPYNB format and submit it to the dropbox folder.\n"
   ]
  },
  {
   "cell_type": "code",
   "execution_count": null,
   "id": "7f15ca9e",
   "metadata": {},
   "outputs": [],
   "source": [
    "# Check that we are using a recent version of Jupyter.\n",
    "import IPython\n",
    "assert IPython.version_info[0] >= 3, \"Your version of IPython is too old, please update it.\""
   ]
  },
  {
   "cell_type": "markdown",
   "id": "11d7dab4",
   "metadata": {},
   "source": [
    "## Part A\n",
    "\n",
    "This part focuses on scalar types. You should be able to complete the following questions without using any collection types."
   ]
  },
  {
   "cell_type": "markdown",
   "id": "8e2e5479",
   "metadata": {
    "deletable": false,
    "editable": false
   },
   "source": [
    "### Question 1\n",
    "\n",
    "The central bionomial coefficients form a vertical row down the middle of Pascal's triangle. They can be calculated via the following formula:\n",
    "\n",
    "$$\n",
    "{2n\\choose n} = \\frac{(2n)!}{(n!)^2} = \\prod_{k=1}^{n} \\frac{n+k}{k}  \n",
    "$$\n",
    "\n",
    "Write a function that calculates the nth central bionomial coefficient. You may use in-built functions to calculate the factorials.\n",
    "\n"
   ]
  },
  {
   "cell_type": "code",
   "execution_count": null,
   "id": "189fd796",
   "metadata": {
    "tags": []
   },
   "outputs": [],
   "source": [
    "def cent_binomial_coef(n):\n",
    "    '''Returns the n-th binomial coefficient for an input\n",
    "    integer n.\n",
    "    '''\n",
    "    ..."
   ]
  },
  {
   "cell_type": "markdown",
   "id": "3b54a704",
   "metadata": {
    "deletable": false,
    "editable": false,
    "tags": []
   },
   "source": [
    "##### Question 2\n",
    "\n",
    "\n",
    "\n",
    "Many things in nature can be modeled by the exponential growth function: \n",
    "$$\n",
    "P(t) = \\alpha \\beta^{\\frac{t}{\\tau}},\n",
    "$$\n",
    "where $\\alpha$ is the initial population, $\\beta$ is the growth rate factor, t is the time passed, and $\\tau$ is the time constant. \n",
    "\n",
    "Imagine that you are an entomologist on the plant Zergo. There is a small insect of interest to you on this planet which has an exponential growth rate. From experimentation you determine that: \n",
    "$\\beta= \\sqrt\\frac{5}{4}$,  and $\\tau= 2^{\\frac{1}{3}}$.\n",
    "\n",
    "Starting with a population $\\alpha$ of 10, use this formula to compute $P(t)$ in the function `population(t)` below. \n"
   ]
  },
  {
   "cell_type": "code",
   "execution_count": null,
   "id": "1cf240eb",
   "metadata": {
    "tags": []
   },
   "outputs": [],
   "source": [
    "import math\n",
    "def population(t):\n",
    "    '''Computes the population at time t, where t is a positive float, \n",
    "    and returns the population as an integer (floor value). \n",
    "    It is assumed that time is in minutes and that all parameters\n",
    "    are correct for this assumption.\n",
    "    '''\n",
    "    ..."
   ]
  },
  {
   "cell_type": "markdown",
   "id": "b841011d",
   "metadata": {},
   "source": [
    "## Part B\n",
    "\n",
    "Questions in this part rely on strings, lists, and tuples."
   ]
  },
  {
   "cell_type": "markdown",
   "id": "73cc3506",
   "metadata": {
    "deletable": false,
    "editable": false
   },
   "source": [
    "### Question 1\n",
    "\n",
    "Consider the lists $a=[2,1,2,5,3,1]$ and $b=[2,1,7,1]$. The intersection of these lists, $a \\cap b$, is $[1,1,2]$. Write a function that returns the intersection of two arbitrary lists. You may not use built-in set operations, and should pay attention to duplicates.\n",
    "\n",
    "(5 points)\n"
   ]
  },
  {
   "cell_type": "code",
   "execution_count": null,
   "id": "84f0d940",
   "metadata": {
    "tags": []
   },
   "outputs": [],
   "source": [
    "def intersection_list(a,b):\n",
    "    '''\n",
    "    Returns the intersection of two lists a and b. \n",
    "    \n",
    "    '''\n",
    "    ..."
   ]
  },
  {
   "cell_type": "markdown",
   "id": "ef451ecd",
   "metadata": {
    "deletable": false,
    "editable": false
   },
   "source": [
    "### Question 2\n",
    "\n",
    "\n",
    "The scalar triple product of three vectors in $\\mathbb{R^3}$ is defined as:\n",
    "\n",
    "$$\n",
    "a.(b \\times c)\n",
    "$$\n",
    "\n",
    "In the above definition, '$.$' refers to a dot (scalar) product of two vectors in $\\mathbb{R}^3$ while '$\\times$' denotes a cross product of two vectors in $\\mathbb{R}^3$.\n",
    "\n",
    "Write a function that calculates the scalar triple product of three vectors, $a$, $b$, and $c$ that are in $\\mathbb{R}^3$."
   ]
  },
  {
   "cell_type": "code",
   "execution_count": null,
   "id": "7d159c41",
   "metadata": {
    "tags": []
   },
   "outputs": [],
   "source": [
    "def striple_prod(a,b,c):\n",
    "    '''Returns the scalar triple product of three vectors A, B, and C. \n",
    "    '''\n",
    "    ..."
   ]
  },
  {
   "cell_type": "markdown",
   "id": "62aa8d8c",
   "metadata": {
    "deletable": false,
    "editable": false
   },
   "source": [
    "### Question 3a\n",
    "\n",
    "Write a function that calculates the most frequently occurring letter given a piece of text supplied as a string.\n"
   ]
  },
  {
   "cell_type": "code",
   "execution_count": null,
   "id": "ce97689c",
   "metadata": {
    "tags": []
   },
   "outputs": [],
   "source": [
    "def freq_letters(text):\n",
    "    '''\n",
    "    For textual input, returns the most frequently occuring letter \n",
    "    (your function should be case-insensitive)\n",
    "    '''\n",
    "    ..."
   ]
  },
  {
   "cell_type": "markdown",
   "id": "8f17f893",
   "metadata": {
    "deletable": false,
    "editable": false
   },
   "source": [
    "### Question 3b\n",
    "\n",
    "\n",
    "Write a second function that returns the number of vowels and consonants in the text."
   ]
  },
  {
   "cell_type": "code",
   "execution_count": null,
   "id": "fecbf1c5-0733-4090-9be0-312dbf83ecab",
   "metadata": {
    "tags": []
   },
   "outputs": [],
   "source": [
    "def vowels(text):\n",
    "    '''\n",
    "    For textual input, returns the number of vowels and consonants.\n",
    "    Return a tuple with number of vowels as the first element and consonants\n",
    "    as the second element, i.e. (num_vowels, num_consonant)\n",
    "    '''\n",
    "    ..."
   ]
  },
  {
   "cell_type": "markdown",
   "id": "3eec5722",
   "metadata": {},
   "source": [
    "## Part C\n",
    "\n",
    "### Tasks\n",
    "\n",
    "#### 1. Data Loading\n",
    "- Read and load the dataset (spam.txt) into your program using Python's built-in libraries or by manually processing the text file.\n",
    "- Split the data into two arrays:\n",
    "  - **Labels**: Indicating whether a message is 'spam' or 'ham'.\n",
    "  - **Messages**: Containing the actual text of the messages.\n",
    "\n",
    "#### 2. Data Exploration\n",
    "- Calculate:\n",
    "  - The total number of messages in the dataset.\n",
    "  - The number of messages labeled as 'spam' and 'ham'.\n",
    "  - The percentage of spam messages in the dataset.\n",
    "\n",
    "#### 3. Text Analysis\n",
    "- Perform the following:\n",
    "  - Find the average number of words per message for both 'ham' and 'spam'.\n",
    "  - Identify the longest message (in terms of word count) in each category ('spam' and 'ham') and display it.\n",
    "\n",
    "#### 4. Data Visualization\n",
    "- Use Matplotlib to create the following visualizations:\n",
    "  - **Bar Chart**: Display the number of messages in each category ('spam' vs. 'ham').\n",
    "  - **Histogram**: Show the distribution of message lengths (word counts) for 'spam' and 'ham' messages.\n",
    "  - **Pie Chart**: Represent the proportion of 'spam' and 'ham' messages in the dataset.\n",
    "\n",
    "#### 5. Further Analysis\n",
    "- Perform further analysis using Numpy:\n",
    "  - Identify the top 10 most frequently occurring words in the 'spam' messages along with their counts.\n",
    "  - Plot a bar chart showing the frequency of these top 10 words.\n",
    "\n",
    "#### 6. Reflection\n",
    "- Write a short paragraph reflecting on:\n",
    "  - The challenges faced while analyzing the data.\n",
    "  - Insights gained about spam messages from the analysis.\n"
   ]
  },
  {
   "cell_type": "markdown",
   "id": "3f85726d",
   "metadata": {
    "deletable": false,
    "editable": false
   },
   "source": []
  },
  {
   "cell_type": "markdown",
   "id": "544fceda",
   "metadata": {},
   "source": [
    "_Type your answer here, replacing this text._"
   ]
  },
  {
   "cell_type": "code",
   "execution_count": null,
   "id": "21c217d9",
   "metadata": {},
   "outputs": [],
   "source": []
  }
 ],
 "metadata": {
  "kernelspec": {
   "display_name": "Python 3 (ipykernel)",
   "language": "python",
   "name": "python3"
  },
  "language_info": {
   "codemirror_mode": {
    "name": "ipython",
    "version": 3
   },
   "file_extension": ".py",
   "mimetype": "text/x-python",
   "name": "python",
   "nbconvert_exporter": "python",
   "pygments_lexer": "ipython3",
   "version": "3.11.6"
  },
  "otter": {
   "OK_FORMAT": true,
   "tests": {
    "q1_a": {
     "name": "q1_a",
     "points": 3,
     "suites": [
      {
       "cases": [
        {
         "code": ">>> cent_binomial_coef(0) == 1\nTrue",
         "failure_message": "Don't forget (0)! is 1.",
         "hidden": false,
         "locked": false,
         "points": 0
        },
        {
         "code": ">>> cent_binomial_coef(1) == 2\nTrue",
         "hidden": false,
         "locked": false,
         "points": 0
        }
       ],
       "scored": true,
       "setup": "",
       "teardown": "",
       "type": "doctest"
      }
     ]
    },
    "q1_b": {
     "name": "q1_b",
     "points": 5,
     "suites": [
      {
       "cases": [
        {
         "code": ">>> def testcase1(intersection_list):\n...     temp = intersection_list([2, 1, 2, 5, 3, 1], [2, 1, 7, 1])\n...     length = len(temp)\n...     ones = temp.count(1)\n...     twos = temp.count(2)\n...     assert (length, ones, twos) == (3, 2, 1)\n>>> testcase1(intersection_list)\n",
         "hidden": false,
         "locked": false,
         "points": 0
        }
       ],
       "scored": true,
       "setup": "",
       "teardown": "",
       "type": "doctest"
      }
     ]
    },
    "q2_a": {
     "name": "q2_a",
     "points": 5,
     "suites": [
      {
       "cases": [
        {
         "code": ">>> is_prime(2) == True\nTrue",
         "hidden": false,
         "locked": false,
         "points": 0
        },
        {
         "code": ">>> is_prime(3) == True\nTrue",
         "hidden": false,
         "locked": false,
         "points": 0
        },
        {
         "code": ">>> is_prime(4) == False\nTrue",
         "hidden": false,
         "locked": false,
         "points": 0
        }
       ],
       "scored": true,
       "setup": "",
       "teardown": "",
       "type": "doctest"
      }
     ]
    },
    "q2_b": {
     "name": "q2_b",
     "points": 3,
     "suites": [
      {
       "cases": [
        {
         "code": ">>> striple_prod([5, 1, 2], [-1] * 3, [2, 1, 0]) == 5\nTrue",
         "hidden": false,
         "locked": false,
         "points": 0
        }
       ],
       "scored": true,
       "setup": "",
       "teardown": "",
       "type": "doctest"
      }
     ]
    },
    "q3_a": {
     "name": "q3_a",
     "points": 3,
     "suites": [
      {
       "cases": [
        {
         "code": ">>> population(5.7) == 16\nTrue",
         "hidden": false,
         "locked": false,
         "points": 0
        },
        {
         "code": ">>> population(2.9) == 12\nTrue",
         "hidden": false,
         "locked": false,
         "points": 0
        }
       ],
       "scored": true,
       "setup": "",
       "teardown": "",
       "type": "doctest"
      }
     ]
    },
    "q3_b_a": {
     "name": "q3_b_a",
     "points": 5,
     "suites": [
      {
       "cases": [
        {
         "code": ">>> freq_letters('a!!!!!').lower() == 'a'\nTrue",
         "failure_message": "You should only count letters a-z and not numbers, punctuation, spaces, etc.",
         "hidden": false,
         "locked": false,
         "points": 0,
         "success_message": "Good job!"
        }
       ],
       "scored": true,
       "setup": "",
       "teardown": "",
       "type": "doctest"
      }
     ]
    },
    "q3_b_b": {
     "name": "q3_b_b",
     "points": 4,
     "suites": [
      {
       "cases": [
        {
         "code": ">>> vowels('I like banana!!') == (6, 5)\nTrue",
         "hidden": false,
         "locked": false,
         "points": 0
        }
       ],
       "scored": true,
       "setup": "",
       "teardown": "",
       "type": "doctest"
      }
     ]
    }
   }
  }
 },
 "nbformat": 4,
 "nbformat_minor": 5
}
