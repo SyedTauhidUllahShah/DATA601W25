{
 "cells": [
  {
   "cell_type": "code",
   "execution_count": null,
   "metadata": {
    "deletable": false,
    "editable": false
   },
   "outputs": [],
   "source": [
    "# Initialize Otter\n",
    "import otter\n",
    "grader = otter.Notebook(\"HW0.ipynb\")"
   ]
  },
  {
   "cell_type": "markdown",
   "metadata": {},
   "source": [
    "# DATA 601\n",
    "\n",
    "## Python Basics\n",
    "\n",
    "### HW0: Practice Problems\n",
    "\n",
    "**Learning Objectives**\n",
    "\n",
    "- Explore built-in data types in Python.\n",
    "- Review fundamental programming and problem solving concepts with Python.\n",
    "- Implement functions based on mathematical concepts and definitions.\n",
    "- Gain experience working with the Jupyter notebook environment."
   ]
  },
  {
   "cell_type": "code",
   "execution_count": null,
   "metadata": {},
   "outputs": [],
   "source": [
    "# Check that we are using a recent version of Jupyter.\n",
    "import IPython\n",
    "assert IPython.version_info[0] >= 3, \"Your version of IPython is too old, please update it.\""
   ]
  },
  {
   "cell_type": "markdown",
   "metadata": {},
   "source": [
    "## Part A\n",
    "\n",
    "This part focuses on scalar types. You should be able to complete the following questions without using any collection types."
   ]
  },
  {
   "cell_type": "markdown",
   "metadata": {},
   "source": [
    "### Question 1: Prime Number Check\n",
    "\n",
    "Write a function `isPrime(n)` that takes a positive integer `n` and returns `True` if `n` is a prime number, and `False` otherwise. A prime number is a number greater than 1 that has no positive divisors other than 1 and itself.\n",
    "\n",
    "#### Example:\n",
    "\n",
    "```python\n",
    "isPrime(11)  # Returns True\n",
    "isPrime(15)  # Returns False\n"
   ]
  },
  {
   "cell_type": "code",
   "execution_count": null,
   "metadata": {},
   "outputs": [],
   "source": [
    "def isPrime(n):\n",
    "    # write your code here\n",
    "    '''\n",
    "    '''"
   ]
  },
  {
   "attachments": {
    "image.png": {
     "image/png": "[encoded data removed]"
    }
   },
   "cell_type": "markdown",
   "metadata": {},
   "source": [
    "### Question 2: Arithmetic Sequence Sum\n",
    "\n",
    "Write a function `arithmetic_sum(a, d, n)` that returns the sum of the first `n` terms of an arithmetic sequence, where `a` is the first term, `d` is the common difference, and `n` is the number of terms.\n",
    "\n",
    "The sum of an arithmetic sequence is given by:\n",
    "\n",
    "![image.png](attachment:image.png)\n",
    "\n",
    "#### Example:\n",
    "\n",
    "```python\n",
    "arithmetic_sum(3, 2, 5)  # Returns 35\n"
   ]
  },
  {
   "cell_type": "code",
   "execution_count": null,
   "metadata": {},
   "outputs": [],
   "source": [
    "# Write your solution here"
   ]
  },
  {
   "cell_type": "markdown",
   "metadata": {},
   "source": [
    "### Question 3: Counting Set Bits\n",
    "\n",
    "Write a function `count_set_bits(n)` that takes a non-negative integer `n` and returns the number of `1` bits in the binary representation of `n`.\n"
   ]
  },
  {
   "cell_type": "code",
   "execution_count": null,
   "metadata": {},
   "outputs": [],
   "source": [
    "# Write your solution here"
   ]
  },
  {
   "cell_type": "markdown",
   "metadata": {},
   "source": [
    "### Question 4\n",
    "\n",
    "The $n$-th triangular number $T_n$ ($n \\ge 1$) is defined as:\n",
    "$$\n",
    "T_n := \\sum_{k=1}^n k = 1 + 2 + \\cdots + n = \\frac{n(n+1)}{2}\n",
    "$$\n",
    "\n",
    "In the cell below, please provide the code for the function `tri(n)` that returns the $n$-th triangular number as an integer.\n"
   ]
  },
  {
   "cell_type": "markdown",
   "metadata": {},
   "source": []
  },
  {
   "cell_type": "code",
   "execution_count": null,
   "metadata": {
    "nbgrader": {
     "grade": false,
     "grade_id": "tri",
     "locked": false,
     "schema_version": 3,
     "solution": true,
     "task": false
    },
    "tags": []
   },
   "outputs": [],
   "source": [
    "def tri(n):\n",
    "    '''Returns the n-th triangular number for an input\n",
    "    integer n.\n",
    "    '''\n",
    "    ..."
   ]
  },
  {
   "cell_type": "code",
   "execution_count": null,
   "metadata": {
    "deletable": false,
    "editable": false
   },
   "outputs": [],
   "source": [
    "grader.check(\"A1\")"
   ]
  },
  {
   "cell_type": "markdown",
   "metadata": {},
   "source": [
    "### Question 3\n",
    "\n",
    "The $n$-th Fibonacci number $F_n$ can be calculated using the following closed-form formula:\n",
    "$$\n",
    "F_n = \\frac{\\varphi^n - \\psi^n}{\\sqrt{5}},\n",
    "$$\n",
    "where $\\varphi = \\frac{1+\\sqrt{5}}{2}$ and $\\psi = \\frac{1-\\sqrt{5}}{2}$. Use this formula to compute $F_n$ in the function `fib(n)` below.\n",
    "\n",
    "Use `math.sqrt(5)` to calculate $\\sqrt{5}$.\n"
   ]
  },
  {
   "cell_type": "code",
   "execution_count": null,
   "metadata": {
    "nbgrader": {
     "grade": false,
     "grade_id": "fib",
     "locked": false,
     "schema_version": 3,
     "solution": true,
     "task": false
    },
    "tags": []
   },
   "outputs": [],
   "source": [
    "import math\n",
    "def fib(n):\n",
    "    '''Computes the n-th Fibonacci number for a positive \n",
    "    integer n and returns the answer as an integer.\n",
    "    '''\n",
    "    \n",
    "    ..."
   ]
  },
  {
   "cell_type": "markdown",
   "metadata": {},
   "source": [
    "## Part B\n",
    "\n",
    "Questions in this part rely on strings, lists and tuples."
   ]
  },
  {
   "cell_type": "markdown",
   "metadata": {},
   "source": [
    "### Question 1\n",
    "\n",
    "Write a function called `divisors` that takes a positive integer `n` as input and returuns a list of divisors of `n`. E.g. `divisors(10)` should return `[1, 2, 5, 10]`."
   ]
  },
  {
   "cell_type": "code",
   "execution_count": null,
   "metadata": {
    "tags": []
   },
   "outputs": [],
   "source": [
    "def divisors(n):\n",
    "    ''' \n",
    "    Returns a list containing the divisors of positive integer n.\n",
    "    '''\n",
    "    ..."
   ]
  },
  {
   "cell_type": "markdown",
   "metadata": {},
   "source": [
    "### Question 2\n",
    "\n",
    "Write a function called `isPalindrome` which takes a `string` as an input and returns `True` if the string is a palindrome, and `False` otherwise.\n"
   ]
  },
  {
   "cell_type": "code",
   "execution_count": null,
   "metadata": {
    "nbgrader": {
     "grade": false,
     "grade_id": "isPalindrome",
     "locked": false,
     "schema_version": 3,
     "solution": true,
     "task": false
    },
    "tags": []
   },
   "outputs": [],
   "source": [
    "def isPalindrome( str ):\n",
    "    '''\n",
    "    Returns True if str contains a string that is a palindrome,\n",
    "    False otherwise. Does not ignore whitespace characters.\n",
    "    '''\n",
    "    ..."
   ]
  },
  {
   "cell_type": "markdown",
   "metadata": {},
   "source": [
    "### Question 3\n",
    "\n",
    "Write a function called `transpose` that returns the transpose of an input matrix. You can assume that the input matrix has integer entries and is represented as a list of rows. Furthermore, you can assume that the input is a matrix and not a vector. \n"
   ]
  },
  {
   "cell_type": "code",
   "execution_count": null,
   "metadata": {
    "nbgrader": {
     "grade": false,
     "grade_id": "transpose",
     "locked": false,
     "schema_version": 3,
     "solution": true,
     "task": false
    },
    "tags": []
   },
   "outputs": [],
   "source": [
    "def transpose(A):\n",
    "    '''Returns the transpose of A as a list of lists. Each\n",
    "    column of A becomes a row in the returned matrix.\n",
    "    '''\n",
    "    ...\n",
    "    "
   ]
  },
  {
   "cell_type": "markdown",
   "metadata": {},
   "source": [
    "### Question 4\n",
    "\n",
    "Suppose you are given a list of floating point values in the range $[0.0,1.0)$. Write a function to compute a histogram of these values. Your function should take two input parameters, the list `L` and the number of equal-width bins `N` to split the range into. It should return a list containing the counts as integers.\n",
    "\n",
    "For each bin, the left end point is included but the right end-point is not. For example, if we have five bins, the boundaries would be as follows:\n",
    "$[0.0,0.2), [0.2, 0.4), [0.4, 0.6), [0.6, 0.8), [0.8, 1.0)$\n"
   ]
  },
  {
   "cell_type": "code",
   "execution_count": null,
   "metadata": {
    "nbgrader": {
     "grade": false,
     "grade_id": "hist",
     "locked": false,
     "schema_version": 3,
     "solution": true,
     "task": false
    },
    "tags": []
   },
   "outputs": [],
   "source": [
    "def hist(L, N=10):\n",
    "    '''For a list of values L, returns a histogram\n",
    "       consisting of N equal-width bins. The histogram is returned as \n",
    "       a list consisting of the counts in each bin. The values are \n",
    "       assumed to be in floating point format in the range [0.0,1.0).\n",
    "    '''\n",
    "    ..."
   ]
  },
  {
   "cell_type": "markdown",
   "metadata": {},
   "source": [
    "### Question 3: Transpose Matrix\n",
    "\n",
    "Write a function `transpose_matrix(matrix)` that takes a matrix represented as a list of lists (where each inner list is a row) and returns the transpose of the matrix.\n",
    "\n",
    "#### Example:\n",
    "\n",
    "```python\n",
    "transpose_matrix([[1, 2], [3, 4]])  # Returns [[1, 3], [2, 4]]\n"
   ]
  },
  {
   "cell_type": "code",
   "execution_count": null,
   "metadata": {},
   "outputs": [],
   "source": [
    "def transpose_matrix(matrix):\n",
    "    '''\n",
    "        \n",
    "    '''"
   ]
  }
 ],
 "metadata": {
  "celltoolbar": "Create Assignment",
  "kernelspec": {
   "display_name": "Python 3 (ipykernel)",
   "language": "python",
   "name": "python3"
  },
  "language_info": {
   "codemirror_mode": {
    "name": "ipython",
    "version": 3
   },
   "file_extension": ".py",
   "mimetype": "text/x-python",
   "name": "python",
   "nbconvert_exporter": "python",
   "pygments_lexer": "ipython3",
   "version": "3.10.8"
  },
  "otter": {
   "OK_FORMAT": true,
   "tests": {
    "A1": {
     "name": "A1",
     "points": 1,
     "suites": [
      {
       "cases": [
        {
         "code": ">>> assert tri(1) == 1\n>>> assert tri(5) == 15\n>>> assert tri(36) == 666\n>>> assert tri(10 ** 5) == 5000050000\n",
         "hidden": false,
         "locked": false
        }
       ],
       "scored": true,
       "setup": "",
       "teardown": "",
       "type": "doctest"
      }
     ]
    },
    "A2": {
     "name": "A2",
     "points": 3,
     "suites": [
      {
       "cases": [
        {
         "code": ">>> assert powerOfTwo(1) is True\n>>> assert powerOfTwo(2) is True\n>>> assert powerOfTwo(64) is True\n>>> assert powerOfTwo(96) is False\n>>> assert powerOfTwo(128) is True\n",
         "hidden": false,
         "locked": false
        }
       ],
       "scored": true,
       "setup": "",
       "teardown": "",
       "type": "doctest"
      }
     ]
    },
    "A3": {
     "name": "A3",
     "points": 2,
     "suites": [
      {
       "cases": [
        {
         "code": ">>> assert fib(1) == 1\n>>> assert fib(2) == 1\n>>> assert fib(5) == 5\n>>> assert fib(11) == 89\n",
         "hidden": false,
         "locked": false
        }
       ],
       "scored": true,
       "setup": "",
       "teardown": "",
       "type": "doctest"
      }
     ]
    },
    "A4": {
     "name": "A4",
     "points": 2,
     "suites": [
      {
       "cases": [
        {
         "code": ">>> assert onesInBinary(12) == 2\n>>> assert onesInBinary(0) == 0\n>>> assert onesInBinary(100) == 3\n>>> assert onesInBinary(101) == 4\n>>> assert onesInBinary(999) == 8\n>>> assert onesInBinary(123456789) == 16\n>>> assert onesInBinary(1234567890) == 12\n",
         "hidden": false,
         "locked": false
        }
       ],
       "scored": true,
       "setup": "",
       "teardown": "",
       "type": "doctest"
      }
     ]
    },
    "B1": {
     "name": "B1",
     "points": 2,
     "suites": [
      {
       "cases": [
        {
         "code": ">>> assert divisors(1) == [1]\n>>> assert divisors(13) == [1, 13]\n>>> assert divisors(25) == [1, 5, 25]\n>>> assert divisors(383) == [1, 383]\n>>> assert divisors(1000) == [1, 2, 4, 5, 8, 10, 20, 25, 40, 50, 100, 125, 200, 250, 500, 1000]\n",
         "hidden": false,
         "locked": false
        }
       ],
       "scored": true,
       "setup": "",
       "teardown": "",
       "type": "doctest"
      }
     ]
    },
    "B2": {
     "name": "B2",
     "points": 3,
     "suites": [
      {
       "cases": [
        {
         "code": ">>> assert isPalindrome(\"\") is True\n>>> assert isPalindrome(\"a\") is True\n>>> assert isPalindrome(\"ab\") is False\n>>> assert isPalindrome(\"aa\") is True\n>>> assert isPalindrome(\"racecar\") is True\n>>> assert isPalindrome(\"race car\") is False\n>>> assert isPalindrome(\"step on no pets\") is True\n",
         "hidden": false,
         "locked": false
        }
       ],
       "scored": true,
       "setup": "",
       "teardown": "",
       "type": "doctest"
      }
     ]
    },
    "B3": {
     "name": "B3",
     "points": 3,
     "suites": [
      {
       "cases": [
        {
         "code": ">>> assert transpose([[1,2],[3,4]]) == [[1,3],[2,4]]\n>>> assert transpose(transpose([[1,2],[3,4]])) == [[1,2],[3,4]]\n>>> assert transpose([[1,2,3],[4,5,6]]) == [[1,4],[2,5],[3,6]]\n>>> assert transpose([[1,4],[2,5],[3,6]]) == [[1,2,3],[4,5,6]]\n",
         "hidden": false,
         "locked": false
        }
       ],
       "scored": true,
       "setup": "",
       "teardown": "",
       "type": "doctest"
      }
     ]
    },
    "B4": {
     "name": "B4",
     "points": 4,
     "suites": [
      {
       "cases": [
        {
         "code": ">>> import random\n>>> SIZE = 10000\n>>> # Do not change the random number seed or tests will fail.\n>>> random.seed(a=601, version=2)\n>>> l1 = []\n>>> for i in range(SIZE):\n...     l1.append(random.random())\n>>> assert hist(l1) == [979,1011,991,1019,1004,1000,1050,971,1015,960]\n>>> assert hist(l1, N=5) == [1990, 2010, 2004, 2021, 1975]\n",
         "hidden": false,
         "locked": false
        }
       ],
       "scored": true,
       "setup": "",
       "teardown": "",
       "type": "doctest"
      }
     ]
    }
   }
  }
 },
 "nbformat": 4,
 "nbformat_minor": 4
}
