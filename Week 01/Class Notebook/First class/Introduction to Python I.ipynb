{
 "cells": [
  {
   "cell_type": "markdown",
   "metadata": {
    "slideshow": {
     "slide_type": "slide"
    }
   },
   "source": [
    "# Introduction to Python I\n",
    "\n",
    "## Language Basics \n",
    "\n",
    "### DATA 601\n",
    "\n",
    "**Syed Tauhid Ullah Shah ([Syed.tauhidullahshah@ucalgary.ca](mailto:Syed.tauhidullahshah@ucalgary.ca))** "
   ]
  },
  {
   "cell_type": "markdown",
   "metadata": {},
   "source": [
    "## Background\n",
    "\n",
    "Students taking this course come from a range of backgrounds. Many students will be transitioning to Python from other programing languages. Other students may have been away from programing for a while and will need some review. Your success in this course requires that you become comfortable with Python and its libraries early in the course.\n",
    "\n",
    "## Objectives of this Notebook\n",
    "\n",
    "- Introduce the basics of Python as a programing language\n",
    "- Review fundamental data types in python\n",
    "- Review control structures such as conditionals, loops, and functions.\n",
    "\n",
    "## Prerequisite Knowledge\n",
    "\n",
    "This practice has been designed with the following background knowledge assumed:\n",
    "\n",
    "- Knowledge of how to program in a procedural pregaming language including but not limited to: Java, C++, Object-C, or Visual Basic.\n",
    "- Basic problem-solving skills, introduced in an introductory programming course.\n",
    "\n",
    "If you satisfy these prerequisites than you are well equipped to connect your previous learning with the skills needed for programming in the Python ecosystem.\n",
    "\n",
    "A good way to check your understanding of the material is by solving the warmup exercises in this notebook. Solving these warm-up exercises will also help ensure that you are well prepared for this course. Additional practice problems are also provided in the form of HW0.\n",
    "\n",
    "## Additional Resources\n",
    "\n",
    "If you think that you need a more gentle introduction to Python, please consult the following resources.\n",
    "\n",
    "### Python Books:\n",
    "- [**Automate the Boring Stuff with Python**](https://automatetheboringstuff.com) by Al Sweigart.\n",
    "\n",
    "- **\"Learning Python\" by Mark Lutz** – A comprehensive guide for beginners to advanced users. It’s widely regarded as a staple in Python education.\n",
    "- **\"Fluent Python\" by Luciano Ramalho** – Excellent for intermediate to advanced Python programmers who want to deepen their understanding of Python’s advanced features.\n",
    "\n",
    "\n",
    "### Further Reading:\n",
    "- Chapter 2 of [Python for Data Analysis (3rd edition)](https://wesmckinney.com/book/python-basics), by Wes McKinney\n",
    "- [The Python Tutorial](https://docs.python.org/3/tutorial/index.html) by the Python Software Foundation. \n",
    "\n",
    "### Extra Practice\n",
    "\n",
    "For additional practice, try solving practice problems available at the following web sites.\n",
    "\n",
    "* [**edabit**](https://edabit.com/challenges/python3) - (look at problems rated 'Easy' and 'Medium')\n",
    "* [**PRACTICE PYTHON**](https://www.practicepython.org) - (look at problems rated 'one' and 'two' chillies)\n",
    "\n",
    "### Visual Tool\n",
    "* [**Python Tutor**](https://pythontutor.com/)\n",
    "\n",
    "\n",
    "\n",
    "### Interactive Learning Platforms:\n",
    "- **[Codecademy Python Track](https://www.codecademy.com/learn/learn-python-3)** – An interactive platform that offers a hands-on approach to learning Python from the basics to more advanced topics.\n",
    "- **[Real Python](https://realpython.com)** – A great resource for tutorials and articles on Python, offering both beginner and advanced material.\n",
    "\n",
    "### Practice Sites for Coding Challenges:\n",
    "- **[LeetCode](https://leetcode.com/problemset/all/)** – A platform focused on coding challenges that are especially useful for preparing for technical interviews.\n",
    "- **[HackerRank](https://www.hackerrank.com/domains/tutorials/10-days-of-python)** – Offers Python-specific challenges and tutorials, useful for honing problem-solving skills.\n",
    "\n",
    "\n",
    "### Cheat Sheets and References:\n",
    "- **[Python Cheatsheet](https://www.pythoncheatsheet.org/)** – A quick reference guide to common Python commands and syntax.\n",
    "- **[Python Official Documentation](https://docs.python.org/3/)** – Python’s official documentation, a great reference for understanding all the built-in functionality Python has to offer.\n",
    "\n"
   ]
  },
  {
   "cell_type": "markdown",
   "metadata": {
    "slideshow": {
     "slide_type": "slide"
    }
   },
   "source": [
    "## Outline\n",
    "\n",
    "- [Background](#bg)\n",
    "- [Language Basics](#basics)\n",
    "- [Scalar Types](#scalars) \n",
    "- [Binary Operators](#binaryOps)\n",
    "- [Control Structures](#controls)\n",
    "- [Local Functions](#functions)\n",
    "- [Warmup Exercises I](#exerciseI)\n",
    "- [Collection Types](#collections)\n",
    "- [Warmup Exercises II](#exerciseII)"
   ]
  },
  {
   "cell_type": "markdown",
   "metadata": {
    "slideshow": {
     "slide_type": "slide"
    }
   },
   "source": [
    "## <a name=\"bg\"></a>Bit of Background\n",
    "\n",
    "- First appeared in 1991. Created by [Guido van Rossum](https://en.wikipedia.org/wiki/Guido_van_Rossum).  \n",
    "\n",
    "- **Interpreted, high-level, cross-platform**:\n",
    "  - Rapid prototyping and sharing.\n",
    "  - No need to worry about variable declarations, memory management, etc.\n",
    "  - Not designed for performance, but interfaces nicely with low-level languages and APIs for multi-threading and GPU acceleration.\n",
    "\n",
    "- Used extensively in **web development**.  \n",
    "\n",
    "- Has also gained massive popularity in the **scientific computing**, **data science**, **Deep Learning (DL)**, **Machine Learning (ML)**, and **Natural Language Processing (NLP)** communities.\n",
    "  - Python is the go-to language for **ML** and **DL** tasks due to powerful libraries like TensorFlow, PyTorch, and scikit-learn.\n",
    "  - It’s widely used for **NLP** as well, with libraries such as NLTK, spaCy, and Hugging Face Transformers.\n",
    "\n",
    "- **Python 3** (released in 2008) is the current major version. As of January 1, 2020, **Python 2** has reached its _end-of-life_.\n",
    "  - We will use **Python 3** in this course, which is fully supported and receives ongoing updates.\n",
    "  - Our focus is on problem-solving in the context of **data exploration**. Python makes this easy, with libraries and frameworks that cater to both basic and advanced tasks in data analysis, machine learning, and deep learning.\n"
   ]
  },
  {
   "cell_type": "markdown",
   "metadata": {
    "slideshow": {
     "slide_type": "subslide"
    }
   },
   "source": [
    "## Python for Data Science\n",
    "\n",
    "- Many libraries are available that facilitate the **Data Science** workflow:\n",
    "  - **`NumPy`** and **`SciPy`** for numerical computation, enabling efficient handling of arrays, matrices, and advanced mathematical operations.\n",
    "  - **`pandas`** for working with tabular data, offering powerful data manipulation tools.\n",
    "  - **`matplotlib`**, **`plotly`**, and others for data visualization, helping you create insightful plots and interactive charts.\n",
    "  - **`scikit-learn`** for **Machine Learning (ML)**, enabling model creation, training, and evaluation.\n",
    "  - **`PyTorch`**, **`TensorFlow`** , and **`Keras`** for **Deep Learning (DL)**, widely used for building advanced neural networks.\n",
    "  - **`spaCy`**, **`NLTK`**, **`Hugging Face Transformers`**, and **`TextBlob`** for **Natural Language Processing (NLP)**, providing easy-to-use libraries for text processing, sentiment analysis, and language modeling.\n",
    "\n",
    "- **Jupyter**:\n",
    "  - Web-based, interactive computing notebook environment similar to Mathematica and Maple.\n",
    "  - Can run locally or on a server, making it versatile for various environments.\n",
    "  - We’ll use **Jupyter** for in-class exercises and homeworks, which is ideal for experimenting with code and visualizing data in real-time.\n",
    "  - Please use **Jupyter** for your course project as well, as it will facilitate an interactive and efficient workflow.\n"
   ]
  },
  {
   "cell_type": "markdown",
   "metadata": {},
   "source": [
    "## Language Features\n",
    "\n",
    "- **Object-oriented**, _strongly-typed_:\n",
    "  - Everything is an object in Python, which means that even simple data types like numbers and strings are treated as objects.\n",
    "  - All objects have specific types, making Python highly flexible and extensible while maintaining strict type consistency.\n",
    "\n",
    "- No braces, no semi-colons, **indentation** is used to structure code:\n",
    "  - Python eliminates the need for extra punctuation, such as braces or semi-colons, making the syntax clean and easy to read.\n",
    "  - This leads to **less typing** and results in more **readable code**, adhering to the principles of [**literate programming**](https://en.wikipedia.org/wiki/Literate_programming), where the focus is on writing code that is not only functional but also easy to understand for human readers.\n",
    "\n",
    "- High-level data types such as **tuples**, **lists**, and **dictionaries** are natively supported:\n",
    "  - These powerful data structures improve **abstraction** and allow for concise and efficient manipulation of data.\n",
    "  - However, **be wary of performance considerations** when working with large datasets, as Python’s high-level abstractions may introduce overhead in some cases, especially when dealing with massive data in **Deep Learning (DL)** or **Machine Learning (ML)** tasks.\n",
    "\n",
    "- Lots of **syntactic sugar**:\n",
    "  - Python offers a range of shortcuts, such as list comprehensions, which make code easier to write and understand without sacrificing functionality.\n",
    "  - This flexibility and clean syntax are key reasons why Python has become the preferred language for **Deep Learning (DL)**, **Machine Learning (ML)**, and **Natural Language Processing (NLP)**, as these tasks often require efficient, readable code for experimentation and deployment.\n"
   ]
  },
  {
   "cell_type": "markdown",
   "metadata": {
    "slideshow": {
     "slide_type": "slide"
    }
   },
   "source": [
    "## <a name=\"basics\"></a>Language Basics\n",
    "\n",
    "* **Variables**: \n",
    "A variable is used to store data values.\n",
    "* **References**\n",
    "How Python handles variable assignments. In Python, variables are references to objects in memory, rather than storing the actual data itself. When\n",
    "* **Objects**\n",
    "Everything in Python is an object, including strings, numbers, and even functions.\n",
    "* **Function calls**\n",
    "A function call invokes a method or a function."
   ]
  },
  {
   "cell_type": "code",
   "execution_count": 2,
   "metadata": {
    "slideshow": {
     "slide_type": "subslide"
    }
   },
   "outputs": [
    {
     "name": "stdout",
     "output_type": "stream",
     "text": [
      "Welcome to DATA 601\n",
      "welcome to data 601\n"
     ]
    },
    {
     "name": "stdout",
     "output_type": "stream",
     "text": [
      "\u001b[0;31mSignature:\u001b[0m \u001b[0ma\u001b[0m\u001b[0;34m.\u001b[0m\u001b[0mlower\u001b[0m\u001b[0;34m(\u001b[0m\u001b[0;34m)\u001b[0m\u001b[0;34m\u001b[0m\u001b[0;34m\u001b[0m\u001b[0m\n",
      "\u001b[0;31mDocstring:\u001b[0m Return a copy of the string converted to lowercase.\n",
      "\u001b[0;31mType:\u001b[0m      builtin_function_or_method"
     ]
    }
   ],
   "source": [
    "# Assignments, function calls and attributes. In an interactive environment, we can use tab-completion to \n",
    "# inspect attributes.\n",
    "\n",
    "a = \"Welcome to DATA 601\"\n",
    "print(a)\n",
    "b = a.lower()\n",
    "print(b)\n",
    "\n",
    "?a.lower"
   ]
  },
  {
   "cell_type": "code",
   "execution_count": 2,
   "metadata": {
    "slideshow": {
     "slide_type": "subslide"
    }
   },
   "outputs": [
    {
     "name": "stdout",
     "output_type": "stream",
     "text": [
      "['a', 'b', 'c', 'd']\n",
      "['a', 'b', 'c', 'd']\n"
     ]
    }
   ],
   "source": [
    "# Everything is an object. We use variables to refer to objects. Different variables can \n",
    "# refer to the same object (aliasing). \n",
    "x = ['a', 'b', 'c']\n",
    "y = x\n",
    "x.append('d')\n",
    "print(x)\n",
    "print(y)\n",
    "\n",
    "# In this example, there's only one object and both variables refer to the same object."
   ]
  },
  {
   "cell_type": "markdown",
   "metadata": {
    "slideshow": {
     "slide_type": "slide"
    }
   },
   "source": [
    "## <a name=\"scalars\"></a>Scalar Types\n",
    "\n",
    "**_Scalars_** are 'single value' types, meaning that each scalar type holds exactly one value. In Python, the following scalar types are commonly used:\n",
    "\n",
    "- **`bool`**: Represents boolean values, `True` or `False`.\n",
    "- **`int`**: Represents integer values, e.g., `10`, `-5`, `100`.\n",
    "- **`float`**: Represents floating-point numbers (decimals), e.g., `3.14`, `-2.5`, `0.0`.\n",
    "- **`complex`**: Represents complex numbers with a real and imaginary part, e.g., `1+2j`.\n",
    "- **`None`**: Represents the absence of a value or a null value.\n",
    "\n",
    "### Type Inspection and Casting:\n",
    "We can use **introspection** and functions like `type()` and `isinstance()` to determine the type of an object in Python:\n",
    "\n",
    "- **`type()`**: Returns the type of the object.\n",
    "  ```python\n",
    "  a = 10\n",
    "  print(type(a))  # Output: <class 'int'>\n",
    "\n",
    "\n",
    "We can use introspection (`?`) and the `isintance` function to determine the type of an object. Use _type casting_ to convert between types."
   ]
  },
  {
   "cell_type": "code",
   "execution_count": 3,
   "metadata": {
    "slideshow": {
     "slide_type": "subslide"
    }
   },
   "outputs": [
    {
     "name": "stdout",
     "output_type": "stream",
     "text": [
      "True\n",
      "False\n",
      "True\n",
      "False\n"
     ]
    }
   ],
   "source": [
    "# Booleans can be either True or False. We can perform Boolean algebra on them. Be careful \n",
    "# about operator precedence.\n",
    "\n",
    "print(True or False)\n",
    "print(True and False)\n",
    "print(not True or True)\n",
    "print(not(True or True))\n"
   ]
  },
  {
   "cell_type": "code",
   "execution_count": 4,
   "metadata": {
    "slideshow": {
     "slide_type": "subslide"
    }
   },
   "outputs": [
    {
     "name": "stdout",
     "output_type": "stream",
     "text": [
      "10\n",
      "100000000000000000000000000000000000000000000000000000000000000000000000000000000\n",
      "10000000000000000000000000000000000000000\n"
     ]
    }
   ],
   "source": [
    "# Integers in Python 3 have arbitrary precision, i.e. they can be arbitrarily large.\n",
    "\n",
    "a = 10\n",
    "b = 10 ** 80 # exponentiation\n",
    "print(a)\n",
    "print(b)\n",
    "print(b // a ** 40)"
   ]
  },
  {
   "cell_type": "code",
   "execution_count": 5,
   "metadata": {
    "slideshow": {
     "slide_type": "subslide"
    }
   },
   "outputs": [
    {
     "name": "stdout",
     "output_type": "stream",
     "text": [
      "3.142857142857143\n",
      "3.14\n",
      "3.143\n",
      "3.1429e+00\n"
     ]
    }
   ],
   "source": [
    "# Floats are used to represent double-precision (64-bit) floating point numbers. Integer \n",
    "# division not yielding a whole number will yield a floating point number. \n",
    "# We can format floating point numbers when displaying them as strings.\n",
    "\n",
    "pi = 22 / 7\n",
    "print(pi)\n",
    "print(\"{:.2f}\".format(pi))\n",
    "print(\"{:.3f}\".format(pi))\n",
    "print(\"{:.4e}\".format(pi))\n"
   ]
  },
  {
   "cell_type": "code",
   "execution_count": 6,
   "metadata": {
    "slideshow": {
     "slide_type": "subslide"
    }
   },
   "outputs": [
    {
     "name": "stdout",
     "output_type": "stream",
     "text": [
      "<class 'NoneType'>\n",
      "True\n",
      "False\n"
     ]
    }
   ],
   "source": [
    "# None is used for the null value in Python, i.e. an empty reference. \n",
    "\n",
    "x = None\n",
    "print(type(x))\n",
    "print(x is None)\n",
    "print(x is not None)"
   ]
  },
  {
   "cell_type": "code",
   "execution_count": 7,
   "metadata": {
    "slideshow": {
     "slide_type": "subslide"
    }
   },
   "outputs": [
    {
     "name": "stdout",
     "output_type": "stream",
     "text": [
      "3.14159\n",
      "3\n",
      "True\n",
      "True\n"
     ]
    },
    {
     "ename": "ValueError",
     "evalue": "invalid literal for int() with base 10: '3.14159'",
     "output_type": "error",
     "traceback": [
      "\u001b[0;31m---------------------------------------------------------------------------\u001b[0m",
      "\u001b[0;31mValueError\u001b[0m                                Traceback (most recent call last)",
      "\u001b[0;32m<ipython-input-7-61cf3920865c>\u001b[0m in \u001b[0;36m<module>\u001b[0;34m\u001b[0m\n\u001b[1;32m      8\u001b[0m \u001b[0mprint\u001b[0m\u001b[0;34m(\u001b[0m \u001b[0mbool\u001b[0m\u001b[0;34m(\u001b[0m\u001b[0mfloat\u001b[0m\u001b[0;34m(\u001b[0m\u001b[0mPi\u001b[0m\u001b[0;34m)\u001b[0m\u001b[0;34m)\u001b[0m\u001b[0;34m)\u001b[0m\u001b[0;34m\u001b[0m\u001b[0;34m\u001b[0m\u001b[0m\n\u001b[1;32m      9\u001b[0m \u001b[0;34m\u001b[0m\u001b[0m\n\u001b[0;32m---> 10\u001b[0;31m \u001b[0mprint\u001b[0m\u001b[0;34m(\u001b[0m\u001b[0mint\u001b[0m\u001b[0;34m(\u001b[0m\u001b[0mPi\u001b[0m\u001b[0;34m)\u001b[0m\u001b[0;34m)\u001b[0m\u001b[0;34m\u001b[0m\u001b[0;34m\u001b[0m\u001b[0m\n\u001b[0m",
      "\u001b[0;31mValueError\u001b[0m: invalid literal for int() with base 10: '3.14159'"
     ]
    }
   ],
   "source": [
    "# Type casting works nicely between str, bool, int and float types.\n",
    "\n",
    "Pi = \"3.14159\"\n",
    "print(float(Pi))\n",
    "print(int(float(Pi)))\n",
    "print(bool(int(float(Pi)))) # Any non-zero integer is True\n",
    "\n",
    "print( bool(float(Pi)))\n",
    "\n",
    "print(int(Pi))"
   ]
  },
  {
   "cell_type": "markdown",
   "metadata": {
    "slideshow": {
     "slide_type": "slide"
    }
   },
   "source": [
    "## <a name=\"binaryOps\"></a>Binary Operators\n",
    "\n",
    "The following binary operators are available in Python. Operators can be _overloaded_.\n",
    "\n",
    "Operation | Description\n",
    "----------|------------\n",
    "`a + b`   | Addition \n",
    "`a - b`   | Subtraction\n",
    "`a * b`   | Multiplication\n",
    "`a ** b`  | Exponentiation\n",
    "`a / b`   | Division\n",
    "`a // b`  | Floor-division\n",
    "`a & b`   | Bitwise AND for ints\n",
    "<code>a &#124; b</code>   | Bitwise OR for ints\n",
    "`a ^ b`   | Bitwise EXCLUSIVE OR for ints\n",
    "`a == b`  | True if `a` equals `b`\n",
    "`a != b`  | True if `a` is not equal to `b`\n",
    "`a < b`, `a <= b` | less-than, less-than-or-equal-to\n",
    "`a > b`, `a >= b` | greater-than, greater-than-or-equal-to\n",
    "`a is b` | True if `a` and `b` reference the same object\n",
    "`a is not b` | True if `a` and `b` reference different objects\n",
    "\n",
    "Note that this table is not exhaustive. \n",
    "\n"
   ]
  },
  {
   "cell_type": "code",
   "execution_count": 8,
   "metadata": {
    "slideshow": {
     "slide_type": "subslide"
    }
   },
   "outputs": [
    {
     "name": "stdout",
     "output_type": "stream",
     "text": [
      "False\n",
      "False\n",
      "2.5\n",
      "2\n",
      "2.4285714285714284\n",
      "2.0\n"
     ]
    }
   ],
   "source": [
    "# Binary operator examples\n",
    "\n",
    "x = 8\n",
    "y = 9\n",
    "print(x == y)\n",
    "print(x is y)\n",
    "\n",
    "print(5 / 2)\n",
    "print(5 // 2)\n",
    "print(5.1 / 2.1)\n",
    "print(5.1 // 2.1)\n"
   ]
  },
  {
   "cell_type": "markdown",
   "metadata": {
    "slideshow": {
     "slide_type": "slide"
    }
   },
   "source": [
    "## <a name=\"controls\"></a>Control Structures\n",
    "\n",
    "* **if elif else**\n",
    "* **Ternary expressions**\n",
    "* **while**\n",
    "* **for**\n",
    "* **Functions**"
   ]
  },
  {
   "cell_type": "markdown",
   "metadata": {},
   "source": [
    "# if, elif, else Statements\n",
    "\n",
    "## Purpose:\n",
    "\n",
    "The `if`, `elif`, and `else` statements are used for conditional execution. They allow you to specify different blocks of code to execute based on certain conditions.\n",
    "\n",
    "## How it works:\n",
    "\n",
    "- The `if` statement evaluates a condition (an expression that returns `True` or `False`).\n",
    "\n",
    "  - If the condition is `True`, the corresponding block of code is executed.\n",
    "  - If the condition is `False`, the program proceeds to the next condition (if any), or skips to the `else` block (if present).\n",
    "  \n",
    "- The `elif` (else if) is used to check multiple conditions. You can have many `elif` conditions after an `if` block. If the `if` condition is `False`, Python evaluates the next `elif` condition in sequence.\n",
    "\n",
    "- The `else` block is optional. If none of the `if` or `elif` conditions are `True`, Python will execute the code in the `else` block (if present).\n"
   ]
  },
  {
   "cell_type": "code",
   "execution_count": 9,
   "metadata": {
    "slideshow": {
     "slide_type": "subslide"
    }
   },
   "outputs": [
    {
     "name": "stdout",
     "output_type": "stream",
     "text": [
      "-11 is odd\n",
      "negative\n"
     ]
    }
   ],
   "source": [
    "# if statements are very readable in Python. Remember to indent!\n",
    "\n",
    "x = -11\n",
    "\n",
    "# A simple if-else block\n",
    "if x % 2 == 0:\n",
    "    print(\"{0:d} is even\".format(x))\n",
    "else:\n",
    "    print(\"{0:d} is odd\".format(x))\n",
    "    \n",
    "\n",
    "# A block with multiple cases    \n",
    "if x < 0:\n",
    "    print(\"negative\")\n",
    "elif x > 0:\n",
    "    print(\"positive\")\n",
    "else:\n",
    "    print(\"zero\")\n"
   ]
  },
  {
   "cell_type": "markdown",
   "metadata": {},
   "source": [
    "# Ternary Expressions\n",
    "\n",
    "## Purpose:\n",
    "\n",
    "A ternary expression is a concise way to express conditional logic in a single line of code, typically used for simple conditional assignments.\n",
    "\n",
    "## How it works:\n",
    "\n",
    "A ternary expression follows the pattern:\n",
    "\n",
    "```python\n",
    "value_if_true if condition else value_if_false\n",
    "\n",
    "\n",
    "The condition is evaluated first.\n",
    "If the condition is True, the first value (value_if_true) is returned or assigned.\n",
    "If the condition is False, the second value (value_if_false) is returned or assigned.\n",
    "\n",
    "```"
   ]
  },
  {
   "cell_type": "code",
   "execution_count": 10,
   "metadata": {
    "slideshow": {
     "slide_type": "subslide"
    }
   },
   "outputs": [
    {
     "name": "stdout",
     "output_type": "stream",
     "text": [
      "Odd\n"
     ]
    }
   ],
   "source": [
    "# Ternary expressions combine an if-else block into a single expression. This is useful syntactic sugar when \n",
    "# the expression in simple but can sacrifice readability when the conditionals are more involved.\n",
    "\n",
    "# Example\n",
    "x = 11\n",
    "print(\"Even\" if x % 2 == 0 else \"Odd\")"
   ]
  },
  {
   "cell_type": "markdown",
   "metadata": {},
   "source": [
    "# while Loop\n",
    "\n",
    "## Purpose:\n",
    "\n",
    "A `while` loop repeatedly executes a block of code as long as a specified condition remains `True`. It’s useful when the number of iterations is not predetermined and is based on dynamic conditions (e.g., user input, or waiting for some event).\n",
    "\n",
    "## How it works:\n",
    "\n",
    "- The loop starts by evaluating the condition. If the condition is `True`, the code block within the loop is executed.\n",
    "- After each iteration, the condition is re-evaluated.\n",
    "- If the condition is `False` at any point, the loop terminates and the program moves to the next statement after the loop.\n"
   ]
  },
  {
   "cell_type": "code",
   "execution_count": 3,
   "metadata": {
    "slideshow": {
     "slide_type": "subslide"
    }
   },
   "outputs": [
    {
     "name": "stdout",
     "output_type": "stream",
     "text": [
      "0\n",
      "\n"
     ]
    }
   ],
   "source": [
    "# Demonstration of while loop. You can 'break' out of a while loop or 'continue' to the next iteration. \n",
    "\n",
    "# A simple while loop\n",
    "x = 1\n",
    "count = 0\n",
    "while x != 1:\n",
    "    x = x // 2\n",
    "    count += 1\n",
    "print(str(count) + \"\\n\")\n",
    "\n",
    "    "
   ]
  },
  {
   "cell_type": "markdown",
   "metadata": {},
   "source": [
    "# break and continue\n",
    "\n",
    "## Purpose:\n",
    "\n",
    "- **`break`**: Used to immediately exit or \"break\" out of the nearest loop, regardless of the loop's condition. It stops the loop entirely, and the program continues with the next statement after the loop.\n",
    "- **`continue`**: Skips the current iteration of the loop and moves on to the next one. It doesn't exit the loop, but it stops the current iteration and checks the condition again.\n"
   ]
  },
  {
   "cell_type": "code",
   "execution_count": 4,
   "metadata": {},
   "outputs": [
    {
     "name": "stdout",
     "output_type": "stream",
     "text": [
      "9\n",
      "7\n",
      "5\n",
      "3\n",
      "1\n",
      "\n",
      "\n",
      "9\n",
      "8\n",
      "7\n",
      "6\n",
      "5\n"
     ]
    }
   ],
   "source": [
    "\n",
    "# Continue demonstration\n",
    "x = 10\n",
    "while x > 0:\n",
    "    x -= 1\n",
    "    if x % 2 == 0:\n",
    "        continue\n",
    "    print(x)\n",
    "\n",
    "print(\"\\n\")    \n",
    "\n",
    "\n",
    "# Break demonstration\n",
    "x = 10\n",
    "while x > 0:\n",
    "    x-=1\n",
    "    print(x)\n",
    "    if x <= 5:\n",
    "        break\n",
    "    \n",
    "    "
   ]
  },
  {
   "cell_type": "markdown",
   "metadata": {},
   "source": [
    "# For Loop\n",
    "\n",
    "### Purpose:\n",
    "The `for` loop is used to iterate over a sequence (like a list, tuple, string, or range) and execute a block of code for each item in that sequence. It is particularly useful when the number of iterations is predetermined or known (like iterating through the elements of a list or a range of numbers).\n",
    "\n",
    "### How it works:\n",
    "Python’s `for` loop iterates over items in a sequence and executes the code block once for each item.\n",
    "You can also use the `range()` function to generate a sequence of numbers for the loop to iterate over.\n"
   ]
  },
  {
   "cell_type": "markdown",
   "metadata": {},
   "source": []
  },
  {
   "cell_type": "code",
   "execution_count": 6,
   "metadata": {
    "slideshow": {
     "slide_type": "subslide"
    }
   },
   "outputs": [
    {
     "name": "stdout",
     "output_type": "stream",
     "text": [
      "<class 'range'>\n",
      "0\n",
      "1\n",
      "2\n",
      "3\n",
      "4\n",
      "5\n",
      "6\n",
      "7\n",
      "8\n",
      "9\n",
      "\n",
      "\n",
      "(0,0)\n",
      "(0,1)\n",
      "(0,2)\n",
      "(0,3)\n",
      "(1,1)\n",
      "(1,2)\n",
      "(1,3)\n",
      "(2,2)\n",
      "(2,3)\n",
      "(3,3)\n"
     ]
    }
   ],
   "source": [
    "# For loops in Python are sophisticated and powerful as they allow you to iterate over a collection or an iterator. \n",
    "# The syntax is quite simple.\n",
    "#\n",
    "# for var in collection:\n",
    "#    do something with var\n",
    "#\n",
    "# \n",
    "#\n",
    "# For loops also support 'continue' and 'break' statements. \n",
    "\n",
    "# We'll look at collections in more detail later, but for now, let's look at the built in 'range' command which\n",
    "# returns a sequence of intgers within a specified range.\n",
    "#The range() function returns a sequence of numbers, starting from 0 by default, and increments by 1 (by default), and stops before a specified number.\n",
    "\n",
    "seq = range(10) \n",
    "print(type(seq))\n",
    "\n",
    "# The `in` keyword is used to check if a value exists within a sequence\n",
    "for i in seq:\n",
    "    print(i)\n",
    "    \n",
    "print(\"\\n\")    \n",
    "    \n",
    "# Nested example\n",
    "seq = range(4)\n",
    "for i in seq:\n",
    "    for j in seq:\n",
    "        if i <= j:\n",
    "            print( \"({0:d},{1:d})\".format(i,j) )\n",
    "    \n",
    "\n"
   ]
  },
  {
   "cell_type": "markdown",
   "metadata": {
    "slideshow": {
     "slide_type": "slide"
    }
   },
   "source": [
    "## <a name=\"functions\"></a>Local Functions\n",
    "\n",
    "Like many other programming languages, functions in Python provide and important way of organizing and reusing code. They are packed with useful high-level features. \n",
    "In Python, functions are an essential way to organize and reuse code. They allow you to group related instructions under a single name, making your program more modular, readable, and easier to maintain. Python functions come with several high-level features that make them highly flexible and powerful.\n",
    "\n",
    "* _Arguments_ can be _positional_ or specified via _keywords_. \n",
    "* Keyword arguments can be _optional_ and one can also specify _default_ values for them.\n",
    "* Order of keyword arguments can be changed.\n",
    "* Functions can return multiple values."
   ]
  },
  {
   "cell_type": "markdown",
   "metadata": {
    "slideshow": {
     "slide_type": "subslide"
    }
   },
   "source": [
    "\n",
    "* Use the `def` keyword to define a function, and the `return` keyword to return the result.\n",
    "* Functions _parameters_ and any variables declared within the body of the function have _local_ scope.\n",
    "* You have access to variables in the enclosing scope.\n",
    "* An optional string literal can be used as the very first statement. This is the function's _docstring_. \n",
    "* Arguments are _passed by reference_. This has implications for mutable objects. \n",
    "* If `return` is used by itself or if the function falls off the end, `None` is returned."
   ]
  },
  {
   "cell_type": "code",
   "execution_count": 8,
   "metadata": {
    "slideshow": {
     "slide_type": "subslide"
    }
   },
   "outputs": [
    {
     "name": "stdout",
     "output_type": "stream",
     "text": [
      "3628800\n",
      "10\n"
     ]
    }
   ],
   "source": [
    "# Function definitions and scope.\n",
    "\n",
    "def factorial2(n):  # parameter\n",
    "    \"Returns n!, the factorial of a non-negative integer n\"\n",
    "    # The variables n and result have local scope.\n",
    "    \n",
    "    result = 1\n",
    "    while n > 0:\n",
    "        result *= n\n",
    "        n -= 1\n",
    "    return result\n",
    "\n",
    "num = 10\n",
    "print(factorial2(num))  # argument\n",
    "print(num) # Recall that integers are immutable"
   ]
  },
  {
   "cell_type": "markdown",
   "metadata": {},
   "source": [
    "## Positional Arguments\n",
    "\n",
    "### Purpose:\n",
    "Positional arguments are the most common type of arguments. They are provided in the order\n",
    " in which they are defined in the function. When calling a function, you must pass the arguments\n",
    " in the correct order to match the function's signature.\n",
    "\n",
    "### How it works:\n",
    " When calling a function that accepts positional arguments, the arguments must be passed in the\n",
    " same order they are defined in the function's parameter list.\n"
   ]
  },
  {
   "cell_type": "code",
   "execution_count": 9,
   "metadata": {},
   "outputs": [
    {
     "name": "stdout",
     "output_type": "stream",
     "text": [
      "8\n"
     ]
    }
   ],
   "source": [
    "def add(a, b):\n",
    "    return a + b\n",
    "\n",
    "result = add(5, 3)  # The first argument (5) is assigned to 'a', and the second argument (3) is assigned to 'b'\n",
    "print(result)  # Output: 8\n"
   ]
  },
  {
   "cell_type": "markdown",
   "metadata": {},
   "source": [
    "### Keyword Arguments:\n",
    "\n",
    "Keyword arguments allow you to specify values for parameters by name, rather than by position. This is particularly useful when a function has many parameters, or when you want to specify values for only some of the parameters.\n",
    "\n",
    "The order of keyword arguments does not matter because they are specified by name.\n"
   ]
  },
  {
   "cell_type": "code",
   "execution_count": 10,
   "metadata": {},
   "outputs": [
    {
     "name": "stdout",
     "output_type": "stream",
     "text": [
      "Hello, Alice!\n"
     ]
    }
   ],
   "source": [
    "def greet(name, greeting):\n",
    "    return f\"{greeting}, {name}!\"\n",
    "\n",
    "result = greet(name=\"Alice\", greeting=\"Hello\")  # Keyword arguments, order doesn't matter\n",
    "print(result)  # Output: \"Hello, Alice!\"\n"
   ]
  },
  {
   "cell_type": "markdown",
   "metadata": {},
   "source": [
    "### Optional Keyword Arguments & Default Values\n",
    "\n",
    "Keyword arguments can be optional if you provide default values for them. These default values are used when the caller does not provide a value for the corresponding parameter.\n",
    "\n",
    "Default values must be defined at the end of the function signature, after any required positional parameters.\n"
   ]
  },
  {
   "cell_type": "code",
   "execution_count": 11,
   "metadata": {},
   "outputs": [
    {
     "name": "stdout",
     "output_type": "stream",
     "text": [
      "Hello, Alice!\n",
      "Good morning, Alice!\n"
     ]
    }
   ],
   "source": [
    "def greet(name, greeting=\"Hello\"):\n",
    "    return f\"{greeting}, {name}!\"\n",
    "\n",
    "# With default greeting\n",
    "result = greet(\"Alice\")\n",
    "print(result)  # Output: \"Hello, Alice!\"\n",
    "\n",
    "# With custom greeting\n",
    "result = greet(\"Alice\", \"Good morning\")\n",
    "print(result)  # Output: \"Good morning, Alice!\"\n"
   ]
  },
  {
   "cell_type": "markdown",
   "metadata": {},
   "source": [
    "### Order of Keyword Arguments\n",
    "\n",
    "When calling a function, you can specify keyword arguments in any order. However, the order of positional arguments must be maintained, as they are matched by position.\n"
   ]
  },
  {
   "cell_type": "code",
   "execution_count": 12,
   "metadata": {},
   "outputs": [
    {
     "name": "stdout",
     "output_type": "stream",
     "text": [
      "Whiskers is a cat.\n"
     ]
    }
   ],
   "source": [
    "def describe_pet(name, animal_type=\"dog\"):\n",
    "    return f\"{name} is a {animal_type}.\"\n",
    "\n",
    "# Keyword arguments in any order\n",
    "result = describe_pet(animal_type=\"cat\", name=\"Whiskers\")\n",
    "print(result)  # Output: \"Whiskers is a cat.\"\n"
   ]
  },
  {
   "cell_type": "markdown",
   "metadata": {},
   "source": [
    "### Functions Returning Multiple Values\n",
    "\n",
    "In Python, a function can return multiple values using tuples. This is particularly useful when you need to return related information in a single call.\n",
    "\n",
    "Even though multiple values are returned, they are packed into a tuple automatically.\n"
   ]
  },
  {
   "cell_type": "code",
   "execution_count": 13,
   "metadata": {},
   "outputs": [
    {
     "name": "stdout",
     "output_type": "stream",
     "text": [
      "10 20\n"
     ]
    }
   ],
   "source": [
    "def get_coordinates():\n",
    "    return 10, 20  # Returning two values as a tuple\n",
    "\n",
    "x, y = get_coordinates()  # Tuple unpacking\n",
    "print(x, y)  # Output: 10 20\n"
   ]
  },
  {
   "cell_type": "markdown",
   "metadata": {
    "slideshow": {
     "slide_type": "slide"
    }
   },
   "source": [
    "## <a name=\"exerciseI\"></a>Warmup Exercises I\n",
    "\n",
    "- Write a function that takes three integers as input and returns the largest of the three.\n",
    "\n",
    "- Write a function that takes three integers as input and returns `True` if either all three integers are even or all three integers are odd, and `False` otherwise.\n",
    "\n",
    "- Write a function that takes an amount in dollars and cents -- passed in `int` format -- as input, performs penny rounding on the amount and returns the rounded amount as a result in `float` format.   \n",
    "\n",
    "  \n",
    "You are not allowed to use any built-in functions."
   ]
  },
  {
   "cell_type": "markdown",
   "metadata": {
    "slideshow": {
     "slide_type": "slide"
    }
   },
   "source": [
    "## <a name=\"collections\"></a>Built-in Collection Types\n",
    "\n",
    "- Data structures are fundamental components in programming used to store and organize data efficiently, enabling algorithms to work more effectively. Python provides a number of powerful built-in collection types that serve as data structures for storing and manipulating data.\n",
    "- A number of convenient collection types are available as first-class citizens in Python. These include:\n",
    "  - Strings\n",
    "  - bytes\n",
    "  - Tuples\n",
    "  - Lists\n",
    "  - Sets\n",
    "  - Dictionaries\n",
    "- All types are either mutable or immutable.\n",
    "- There are also a number of convenient ways of indexing, slicing and iterating over collections of data.\n",
    "\n"
   ]
  },
  {
   "cell_type": "markdown",
   "metadata": {},
   "source": [
    "### Strings\n",
    "\n",
    "Strings in Python are sequences of characters and are used to represent textual data.\n",
    "\n",
    "#### Immutable\n",
    "Once a string is created, it cannot be modified. Any operation on a string (such as concatenation or slicing) results in a new string.\n"
   ]
  },
  {
   "cell_type": "code",
   "execution_count": 15,
   "metadata": {
    "slideshow": {
     "slide_type": "subslide"
    }
   },
   "outputs": [
    {
     "name": "stdout",
     "output_type": "stream",
     "text": [
      "This is a string.\n",
      "This is also a string.\n",
      "\"This is\n",
      "a \n",
      "multi-line\n",
      "string.\"\n",
      "\n",
      "4\n",
      "This is a string. This is also a string.\n",
      "THIS IS A STRING.\n"
     ]
    }
   ],
   "source": [
    "# Strings are first-class citizens in Pyhton. Use single or double quotes to demarcate \n",
    "# strings. Multi-line strings can be demarcated by triple quotes (single or double). \n",
    "# Strings are immutable.\n",
    "\n",
    "a = 'This is a string.'\n",
    "b = \"This is also a string.\"\n",
    "c = '''\\\"This is\n",
    "a \n",
    "multi-line\n",
    "string.\\\"\n",
    "''' # this uses escape characters\n",
    "\n",
    "print(a)\n",
    "print(b)\n",
    "print(c)\n",
    "print(c.count('\\n'))\n",
    "\n",
    "print( a + ' ' + b )# string concatenation. \n",
    "print(a.upper())"
   ]
  },
  {
   "cell_type": "markdown",
   "metadata": {},
   "source": [
    "### Built-in String Functions\n",
    "\n",
    "| Function  | Description |\n",
    "|-----------|-------------|\n",
    "| `len()`   | Returns the length of a string. |\n",
    "| `str()`   | Converts an object to a string representation. |\n",
    "| `upper()` | Converts all characters in the string to uppercase. |\n",
    "| `lower()` | Converts all characters in the string to lowercase. |\n",
    "| `title()` | Capitalizes the first letter of each word in the string. |\n",
    "\n",
    "\n",
    "For detailed information on these functions, you can explore the full documentation [here](https://docs.python.org/3/library/stdtypes.html)."
   ]
  },
  {
   "cell_type": "markdown",
   "metadata": {},
   "source": [
    "### Bytes\n",
    "\n",
    "The `bytes` type is an immutable sequence of bytes, used to represent raw binary data.\n",
    "\n",
    "It is useful for working with binary files, networking, and encodings.\n"
   ]
  },
  {
   "cell_type": "code",
   "execution_count": 14,
   "metadata": {
    "slideshow": {
     "slide_type": "subslide"
    }
   },
   "outputs": [
    {
     "name": "stdout",
     "output_type": "stream",
     "text": [
      "<class 'str'>\n",
      "<class 'bytes'>\n",
      "b'fran\\xc3\\xa7ais'\n",
      "b'\\xd8\\xa7\\xd9\\x8f\\xd8\\xb1\\xd8\\xaf\\xd9\\x8f\\xd9\\x88'\n",
      "b'\\xff'\n"
     ]
    }
   ],
   "source": [
    "# Bytes are used for raw bytes. This is useful when working with files or unicode encodings.\n",
    "# Note that Python 3 strings support UTF-8.\n",
    "\n",
    "txt = \"français\"\n",
    "txt_utf8 = txt.encode('utf-8') # encodes the string into UTF-8 bytes using the encode() method. UTF-8 is a common encoding that represents characters in bytes.\n",
    "\n",
    "print(type(txt))\n",
    "print(type(txt_utf8))\n",
    "print(txt_utf8)\n",
    "\n",
    "foreign_txt = \"اُردُو\"\n",
    "print(foreign_txt.encode('utf-8'))\n",
    "\n",
    "print(bytes([255])) # an example of type casting\n"
   ]
  },
  {
   "cell_type": "markdown",
   "metadata": {},
   "source": [
    "### Common Byte Built-in Functions\n",
    "\n",
    "| Function          | Description                                                   |\n",
    "|-------------------|---------------------------------------------------------------|\n",
    "| `len()`           | Returns the number of bytes in a `bytes` object.              |\n",
    "| `bytes()`         | Converts an object to an immutable sequence of bytes.          |\n",
    "| `decode()`        | Decodes the byte object to a string using a specified encoding.|\n",
    "| `encode()`        | Encodes a string into a byte object using a specified encoding.|\n",
    "| `find()`          | Returns the lowest index of the byte where the byte is found. |\n",
    "| `join()`          | Joins a sequence of bytes with a specified separator byte.    |\n",
    "| `split()`         | Splits the byte object into a list of bytes using a separator.|\n",
    "| `replace()`       | Replaces occurrences of a byte with another byte in the object.|\n",
    "| `startswith()`    | Checks if the byte object starts with a specified byte.      |\n",
    "| `endswith()`      | Checks if the byte object ends with a specified byte.        |\n"
   ]
  },
  {
   "cell_type": "markdown",
   "metadata": {
    "slideshow": {
     "slide_type": "slide"
    }
   },
   "source": [
    "### Tuples\n",
    "\n",
    "- Ordered: The elements in a tuple have a specific order, meaning that you can access them by their index (just like in lists).\n",
    "- Immutable: Once a tuple is created, you cannot modify, add, or remove elements from it.\n",
    "- Can Contain Mixed Data Types: Tuples can hold elements of different data types, including integers, strings, lists, other tuples, etc.\n",
    "- Parentheses: Tuples are created using parentheses ().\n",
    "- A tuple is a *fixed-length*.\n",
    "- \n",
    "- Tuples can be nested.\n",
    "- Convenienct _unpacking_ operations."
   ]
  },
  {
   "cell_type": "code",
   "execution_count": 17,
   "metadata": {
    "slideshow": {
     "slide_type": "subslide"
    }
   },
   "outputs": [
    {
     "name": "stdout",
     "output_type": "stream",
     "text": [
      "(1, 2)\n",
      "(1, 2, 3)\n",
      "\n",
      "\n",
      "((1, 2), (1, 2, 3))\n",
      "\n",
      "\n",
      "('D', 'A', 'T', 'A', ' ', '6', '0', '1')\n",
      "\n",
      "\n",
      "1\n"
     ]
    },
    {
     "ename": "TypeError",
     "evalue": "'tuple' object does not support item assignment",
     "output_type": "error",
     "traceback": [
      "\u001b[0;31m---------------------------------------------------------------------------\u001b[0m",
      "\u001b[0;31mTypeError\u001b[0m                                 Traceback (most recent call last)",
      "\u001b[0;32m<ipython-input-17-91212dc484bd>\u001b[0m in \u001b[0;36m<module>\u001b[0;34m\u001b[0m\n\u001b[1;32m     19\u001b[0m \u001b[0mprint\u001b[0m\u001b[0;34m(\u001b[0m\u001b[0;34m\"\\n\"\u001b[0m\u001b[0;34m)\u001b[0m\u001b[0;34m\u001b[0m\u001b[0;34m\u001b[0m\u001b[0m\n\u001b[1;32m     20\u001b[0m \u001b[0mprint\u001b[0m\u001b[0;34m(\u001b[0m\u001b[0mpoint2d\u001b[0m\u001b[0;34m[\u001b[0m\u001b[0;36m0\u001b[0m\u001b[0;34m]\u001b[0m\u001b[0;34m)\u001b[0m\u001b[0;34m\u001b[0m\u001b[0;34m\u001b[0m\u001b[0m\n\u001b[0;32m---> 21\u001b[0;31m \u001b[0mpoint2d\u001b[0m\u001b[0;34m[\u001b[0m\u001b[0;36m0\u001b[0m\u001b[0;34m]\u001b[0m \u001b[0;34m=\u001b[0m \u001b[0;36m25\u001b[0m\u001b[0;34m\u001b[0m\u001b[0;34m\u001b[0m\u001b[0m\n\u001b[0m",
      "\u001b[0;31mTypeError\u001b[0m: 'tuple' object does not support item assignment"
     ]
    }
   ],
   "source": [
    "# Creating tuples\n",
    "\n",
    "point2d = (1, 2)\n",
    "point3d = (1, 2, 3)\n",
    "print(point2d)\n",
    "print(point3d)\n",
    "print(\"\\n\")\n",
    "\n",
    "# Tuples can be nested\n",
    "pair = (point2d, point3d)\n",
    "print(pair)\n",
    "print(\"\\n\")\n",
    "\n",
    "# Converting a string to a tuple\n",
    "str = \"DATA 601\"\n",
    "str_tup = tuple(str)\n",
    "print(str_tup)\n",
    "\n",
    "print(\"\\n\")\n",
    "print(point2d[0])\n",
    "point2d[0] = 25"
   ]
  },
  {
   "cell_type": "code",
   "execution_count": 18,
   "metadata": {
    "slideshow": {
     "slide_type": "subslide"
    }
   },
   "outputs": [
    {
     "name": "stdout",
     "output_type": "stream",
     "text": [
      "('a', 'b', [1, 2, 3])\n"
     ]
    }
   ],
   "source": [
    "# Once a tuple has been declared, we cannot mutate it. However, if a\n",
    "# mutable object stored in a particular slot is mutable, it can be \n",
    "# mutated.\n",
    "\n",
    "# Recall that lists are mutable\n",
    "tup = ('a', 'b',[1,2])\n",
    "\n",
    "# The following is not allowed\n",
    "# tup[0] = 'aa' \n",
    "\n",
    "# but this is ok\n",
    "tup[2].append(3)\n",
    "\n",
    "print(tup)"
   ]
  },
  {
   "cell_type": "markdown",
   "metadata": {},
   "source": [
    "### Common Tuple Built-in Functions\n",
    "\n",
    "| Function          | Description                                                   |\n",
    "|-------------------|---------------------------------------------------------------|\n",
    "| `len()`           | Returns the number of elements in a tuple.                    |\n",
    "| `tuple()`         | Converts an iterable to a tuple.                              |\n",
    "| `count()`         | Returns the number of occurrences of a specified element in the tuple. |\n",
    "| `index()`         | Returns the index of the first occurrence of a specified element in the tuple. |\n",
    "| `min()`           | Returns the smallest element in a tuple.                      |\n",
    "| `max()`           | Returns the largest element in a tuple.                       |\n",
    "| `sum()`           | Returns the sum of all elements in the tuple (if elements are numeric). |\n"
   ]
  },
  {
   "cell_type": "markdown",
   "metadata": {
    "slideshow": {
     "slide_type": "slide"
    }
   },
   "source": [
    "### Lists\n",
    "\n",
    "- A list is a *variable-length*, _mutable_ sequence of Python objects.\n",
    "- Declare a list using square brackets (`[]`).\n",
    "- Lists can be nested.\n",
    "- Convenient list modification operations:\n",
    "  - `append`, `extend`, `remove`, `pop` etc.\n",
    "- Can also _slice_ lists."
   ]
  },
  {
   "cell_type": "code",
   "execution_count": 19,
   "metadata": {
    "slideshow": {
     "slide_type": "subslide"
    }
   },
   "outputs": [
    {
     "name": "stdout",
     "output_type": "stream",
     "text": [
      "[0, 1, 2, 3]\n",
      "[2, 3]\n",
      "[0, 1, 2, 3]\n",
      "\n",
      "\n",
      "[0, 1, 2, -1, 3]\n",
      "-1\n",
      "[0, 1, 2, 3]\n",
      "\n",
      "\n",
      "[0, 1, 2, 4]\n",
      "[0, 1, 2, (1, 1)]\n"
     ]
    }
   ],
   "source": [
    "# Creating and modifying lists\n",
    "\n",
    "l1 = [0,1]\n",
    "l2 = [2,3]\n",
    "\n",
    "# Lists can be joined in two ways\n",
    "l3 = l1 + l2   # Creates a new list - slower\n",
    "l1.extend(l2) # Modifies an existing list - faster\n",
    "\n",
    "print(l1)\n",
    "print(l2)\n",
    "print(l3)\n",
    "print(\"\\n\")\n",
    "\n",
    "# Use insert and pop for positional insertion and deletion.\n",
    "# These operations change the list size\n",
    "\n",
    "l3.insert(3,-1)\n",
    "print(l3)\n",
    "print(l3.pop(3))\n",
    "print(l3)\n",
    "print(\"\\n\")\n",
    "\n",
    "# Ofcourse simple indexing is also possible\n",
    "l3[3] = 4\n",
    "print(l3)\n",
    "l3[3] = (1,1)\n",
    "print(l3)\n",
    "\n"
   ]
  },
  {
   "cell_type": "markdown",
   "metadata": {},
   "source": [
    "### Common List Built-in Functions\n",
    "\n",
    "| Function           | Description                                                   |\n",
    "|--------------------|---------------------------------------------------------------|\n",
    "| `len()`            | Returns the number of elements in the list.                   |\n",
    "| `list()`           | Converts an iterable (e.g., tuple, string) to a list.         |\n",
    "| `append()`         | Adds a single element to the end of the list.                 |\n",
    "| `extend()`         | Adds all elements of an iterable to the end of the list.      |\n",
    "| `insert()`         | Inserts an element at a specified index in the list.          |\n",
    "| `remove()`         | Removes the first occurrence of a specified element from the list. |\n",
    "| `pop()`            | Removes and returns the element at the specified index (or the last item if no index is provided). |\n",
    "| `clear()`          | Removes all elements from the list.                           |\n",
    "| `index()`          | Returns the index of the first occurrence of a specified element in the list. |\n",
    "| `count()`          | Returns the number of occurrences of a specified element in the list. |\n",
    "| `sort()`           | Sorts the elements of the list in ascending order (modifies the list in place). |\n",
    "| `reverse()`        | Reverses the order of the list in place.                      |\n",
    "| `copy()`           | Returns a shallow copy of the list.                           |\n",
    "| `join()`           | Joins a list of strings into a single string, with a specified separator. |\n",
    "| `min()`            | Returns the smallest element in the list.                     |\n",
    "| `max()`            | Returns the largest element in the list.                      |\n",
    "| `sum()`            | Returns the sum of all elements in the list (if elements are numeric). |\n",
    "| `all()`            | Returns `True` if all elements of the list are true (or if the list is empty). |\n",
    "| `any()`            | Returns `True` if any element of the list is true.            |\n",
    "| `copy()`           | Creates a shallow copy of the list.                           |\n"
   ]
  },
  {
   "cell_type": "markdown",
   "metadata": {
    "slideshow": {
     "slide_type": "slide"
    }
   },
   "source": [
    "## <a name=\"exerciseII\"></a>Warmup Exercises II\n",
    "\n",
    "- Write a function that takes a list as an input and returns a new list that contains the items in the input list _reversed_. You are not allowed to use any built-in reversal functions. \n",
    "\n",
    "  You may use `list.insert`\n",
    "  \n",
    "  \n",
    "- Write the following functions that take a list of numbers as input and return:\n",
    "  - the maximum\n",
    "  - the minimum\n",
    "  - the sum\n",
    "  \n",
    "  You are not allowed to use any built-in functions."
   ]
  },
  {
   "cell_type": "code",
   "execution_count": null,
   "metadata": {},
   "outputs": [],
   "source": []
  }
 ],
 "metadata": {
  "celltoolbar": "Slideshow",
  "kernelspec": {
   "display_name": "Python 3 (ipykernel)",
   "language": "python",
   "name": "python3"
  },
  "language_info": {
   "codemirror_mode": {
    "name": "ipython",
    "version": 3
   },
   "file_extension": ".py",
   "mimetype": "text/x-python",
   "name": "python",
   "nbconvert_exporter": "python",
   "pygments_lexer": "ipython3",
   "version": "3.12.7"
  }
 },
 "nbformat": 4,
 "nbformat_minor": 4
}
