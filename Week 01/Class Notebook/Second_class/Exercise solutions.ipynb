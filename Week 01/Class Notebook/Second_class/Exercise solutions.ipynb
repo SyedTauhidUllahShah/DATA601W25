{
 "cells": [
  {
   "cell_type": "code",
   "execution_count": null,
   "metadata": {},
   "outputs": [],
   "source": [
    "# Maximum in Each 3-Tuple:\n",
    "tuples = [(1, 4, 2), (7, 3, 5), (0, -1, 8)]\n",
    "max_values = [max(t) for t in tuples]\n",
    "print(max_values)  # Output: [4, 7, 8]\n"
   ]
  },
  {
   "cell_type": "code",
   "execution_count": 1,
   "metadata": {},
   "outputs": [
    {
     "name": "stdout",
     "output_type": "stream",
     "text": [
      "[1, 2, 3, 4, 6, 12]\n"
     ]
    }
   ],
   "source": [
    "# Divisors of a Positive Integer n:\n",
    "\n",
    "n = 12\n",
    "divisors = [i for i in range(1, n + 1) if n % i == 0]\n",
    "print(divisors)  # Output: [1, 2, 3, 4, 6, 12]\n",
    "\n"
   ]
  },
  {
   "cell_type": "code",
   "execution_count": 2,
   "metadata": {},
   "outputs": [
    {
     "name": "stdout",
     "output_type": "stream",
     "text": [
      "[1, 2, 3, 4, 5]\n"
     ]
    }
   ],
   "source": [
    "# Flatten a List of Lists:\n",
    "nested_list = [[1, 2], [3, 4], [5]]\n",
    "flat_list = [item for sublist in nested_list for item in sublist]\n",
    "print(flat_list)  # Output: [1, 2, 3, 4, 5]\n"
   ]
  },
  {
   "cell_type": "code",
   "execution_count": 3,
   "metadata": {},
   "outputs": [
    {
     "name": "stdout",
     "output_type": "stream",
     "text": [
      "['abc', 'abcd']\n"
     ]
    }
   ],
   "source": [
    "# Remove Strings with Less Than 3 Characters:\n",
    "\n",
    "strings = [\"a\", \"ab\", \"abc\", \"abcd\"]\n",
    "filtered_strings = [s for s in strings if len(s) >= 3]\n",
    "print(filtered_strings)  # Output: [\"abc\", \"abcd\"]\n"
   ]
  },
  {
   "cell_type": "code",
   "execution_count": 4,
   "metadata": {},
   "outputs": [
    {
     "name": "stdout",
     "output_type": "stream",
     "text": [
      "[(1, 3), (1, 4), (2, 3), (2, 4)]\n"
     ]
    }
   ],
   "source": [
    "# Pairs of Numbers from Two Lists:\n",
    "\n",
    "list1 = [1, 2]\n",
    "list2 = [3, 4]\n",
    "pairs = [(x, y) for x in list1 for y in list2]\n",
    "print(pairs)  # Output: [(1, 3), (1, 4), (2, 3), (2, 4)]\n"
   ]
  },
  {
   "cell_type": "code",
   "execution_count": 6,
   "metadata": {},
   "outputs": [
    {
     "name": "stdout",
     "output_type": "stream",
     "text": [
      "['banana', 'apple', 'cherry']\n"
     ]
    }
   ],
   "source": [
    "# Sort Strings by Last Character:\n",
    "\n",
    "strings = [\"apple\", \"banana\", \"cherry\"]\n",
    "\n",
    "# Sort using lambda\n",
    "sorted_strings = sorted(strings, key=lambda x: x[-1])\n",
    "\n",
    "print(sorted_strings)  # Output: [\"banana\", \"apple\", \"cherry\"]\n"
   ]
  },
  {
   "cell_type": "code",
   "execution_count": 7,
   "metadata": {},
   "outputs": [
    {
     "name": "stdout",
     "output_type": "stream",
     "text": [
      "[(2, 2), (3, 2), (1, 3), (4, 3)]\n"
     ]
    }
   ],
   "source": [
    "# Sort Tuples by Second Element (and First Element if Tie)\n",
    "\n",
    "# Input list of tuples\n",
    "tuples = [(1, 3), (3, 2), (2, 2), (4, 3)]\n",
    "\n",
    "# Sort using lambda\n",
    "sorted_tuples = sorted(tuples, key=lambda x: (x[1], x[0]))\n",
    "\n",
    "print(sorted_tuples)  # Output: [(2, 2), (3, 2), (1, 3), (4, 3)]\n"
   ]
  },
  {
   "cell_type": "code",
   "execution_count": 1,
   "metadata": {},
   "outputs": [],
   "source": [
    "# Recursive Power Function\n",
    "\n",
    "def power_recursive(a, b):\n",
    "    if b == 0:\n",
    "        return 1\n",
    "    return a * power_recursive(a, b - 1)\n"
   ]
  },
  {
   "cell_type": "code",
   "execution_count": 2,
   "metadata": {},
   "outputs": [],
   "source": [
    "# Sum of First 𝑛 Natural Numbers:\n",
    "\n",
    "def sum_recursive(n):\n",
    "    if n == 1:\n",
    "        return 1\n",
    "    return n + sum_recursive(n - 1)\n"
   ]
  },
  {
   "cell_type": "code",
   "execution_count": 3,
   "metadata": {},
   "outputs": [],
   "source": [
    "# Optimized Recursive Power Function\n",
    "def optimized_power(x, n):\n",
    "    if n == 0:\n",
    "        return 1\n",
    "    elif n == 1:\n",
    "        return x\n",
    "    elif n % 2 == 0:  # Even\n",
    "        half_power = optimized_power(x, n // 2)\n",
    "        return half_power * half_power\n",
    "    else:  # Odd\n",
    "        half_power = optimized_power(x, (n - 1) // 2)\n",
    "        return x * half_power * half_power\n"
   ]
  },
  {
   "cell_type": "code",
   "execution_count": null,
   "metadata": {},
   "outputs": [],
   "source": []
  }
 ],
 "metadata": {
  "kernelspec": {
   "display_name": "nlp",
   "language": "python",
   "name": "python3"
  },
  "language_info": {
   "codemirror_mode": {
    "name": "ipython",
    "version": 3
   },
   "file_extension": ".py",
   "mimetype": "text/x-python",
   "name": "python",
   "nbconvert_exporter": "python",
   "pygments_lexer": "ipython3",
   "version": "3.12.7"
  }
 },
 "nbformat": 4,
 "nbformat_minor": 2
}
