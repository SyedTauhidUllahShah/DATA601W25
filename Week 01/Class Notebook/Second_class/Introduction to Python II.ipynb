{
 "cells": [
  {
   "cell_type": "markdown",
   "metadata": {
    "slideshow": {
     "slide_type": "slide"
    }
   },
   "source": [
    "# Introduction to Python II\n",
    "\n",
    "## Intermediate Programming Constructs\n",
    "\n",
    "### DATA 601\n",
    "\n",
    "**Syed Tauhid Ullah Shah ([Syed.Tauhidullahshah@ucalgary.ca](mailto:Syed.Tauhidullahshahi@ucalgary.ca))** \n",
    "\n",
    "Further Reading:\n",
    "\n",
    "* **Python for Data Analysis** (third edition), by _Wes McKinney_ (Chapter 3). ([Open Edition](https://wesmckinney.com/book/))\n",
    "* [**The Python Tutorial**](https://docs.python.org/3/tutorial/index.html) by the Python Software Foundation.\n"
   ]
  },
  {
   "cell_type": "markdown",
   "metadata": {
    "slideshow": {
     "slide_type": "slide"
    }
   },
   "source": [
    "## Outline\n",
    "\n",
    "- [Sets and Dictionaries](#sets)\n",
    "- [Tuple Packing and List Slicing](#packingAndSlicing)\n",
    "- [Comprehensions](#comprehensions)\n",
    "- [Anonymous Functions and Generators](#lambdas)"
   ]
  },
  {
   "cell_type": "markdown",
   "metadata": {
    "slideshow": {
     "slide_type": "slide"
    }
   },
   "source": [
    "## <a name=\"sets\"></a>Sets\n",
    "\n",
    "\n",
    "### What is a Set?\n",
    "\n",
    "In Python, a set is:\n",
    "\n",
    "- **Unordered**:  \n",
    "  The elements in a set do not have a specific order.  \n",
    "  When you print or access a set, the order of elements may differ from the order in which they were added.\n",
    "\n",
    "- **Unique**:  \n",
    "  A set cannot contain duplicate elements.  \n",
    "  If duplicates are added, they are automatically removed.\n",
    "\n",
    "- **Mutable**:  \n",
    "  You can add or remove elements from a set after it is created.\n",
    "\n",
    "- **Set-Like Behavior**:  \n",
    "  Python sets support common mathematical set operations such as union, intersection, and difference.\n",
    "\n",
    "### Declaring a Set\n",
    "\n",
    "You can create a set using curly braces (`{}`) or the `set()` function.\n",
    "\n"
   ]
  },
  {
   "cell_type": "code",
   "execution_count": 1,
   "metadata": {
    "slideshow": {
     "slide_type": "subslide"
    }
   },
   "outputs": [
    {
     "name": "stdout",
     "output_type": "stream",
     "text": [
      "{0, 1, 2, 3, 4, 5, 6, 7, 8, 9}\n",
      "set()\n",
      "\n",
      "\n",
      "False\n",
      "False\n",
      "True\n",
      "\n",
      "\n",
      "[0, 2, 4, 6, 8]\n"
     ]
    }
   ],
   "source": [
    "# Sets and set operations\n",
    "\n",
    "A = {0,2,4,6,8}\n",
    "B = {1,3,5,7,9}\n",
    "\n",
    "print( A | B ) # set union, can also use A.union(B)\n",
    "print( A & B ) # set intersection, can also use A.intersection(B)\n",
    "print(\"\\n\")\n",
    "\n",
    "# subset, superset and disjoint sets\n",
    "print(A.issubset(B))\n",
    "print(A.issuperset(B))\n",
    "print(A.isdisjoint(B))\n",
    "print(\"\\n\")\n",
    "\n",
    "# We cannot index sets, the following is not allowed.\n",
    "# A[0]\n",
    "print(list(A))\n"
   ]
  },
  {
   "cell_type": "code",
   "execution_count": 3,
   "metadata": {},
   "outputs": [
    {
     "name": "stdout",
     "output_type": "stream",
     "text": [
      "{1, 2, 3, 4}\n"
     ]
    }
   ],
   "source": [
    "# unordered\n",
    "example_set = {3, 1, 4, 2}\n",
    "print(example_set)  # Output may vary: {1, 2, 3, 4} or {4, 1, 2, 3}\n"
   ]
  },
  {
   "cell_type": "code",
   "execution_count": 2,
   "metadata": {
    "slideshow": {
     "slide_type": "subslide"
    }
   },
   "outputs": [
    {
     "name": "stdout",
     "output_type": "stream",
     "text": [
      "{0, 1, 2, 3, 4, 5, 6, 7, 8, 9}\n",
      "{0, 2, 4, 6, 8}\n",
      "\n",
      "\n",
      "{1, 3, 5, 7, 9}\n",
      "{1, 3, 4, 5, 2, 7, 0, 9, 6, 8}\n",
      "\n",
      "\n",
      "(1, 2, 3, 4, 5)\n",
      "[1, 2, 3, 4, 5]\n"
     ]
    }
   ],
   "source": [
    "# Duplicates are automatically removed when constructing sets\n",
    "A = set(range(10))\n",
    "B = {0,2,2,4,6,8}\n",
    "\n",
    "print(A)\n",
    "print(B)\n",
    "print(\"\\n\")\n",
    "\n",
    "# sets are mutable, we can do a set operation and an assignment together \n",
    "A -= B # A = A - B\n",
    "print(A)\n",
    "A |= B # A = A | B\n",
    "print(A)\n",
    "print(\"\\n\")\n",
    "\n",
    "# A set can be converted to a list or a tuple\n",
    "X = {5,4,3,2,1}\n",
    "print(tuple(X))\n",
    "print(list(X))"
   ]
  },
  {
   "cell_type": "markdown",
   "metadata": {},
   "source": [
    "### Set Functions and Operations\n",
    "\n",
    "| **Function/Operation**               | **Description**                                                                                   | **Example**                                | **Output**               |\n",
    "|---------------------------------------|---------------------------------------------------------------------------------------------------|--------------------------------------------|--------------------------|\n",
    "| `set()`                               | Creates a new set.                                                                                | `set([1, 2, 3])`                           | `{1, 2, 3}`              |\n",
    "| `{}`                                  | Creates a set with elements.                                                                      | `{1, 2, 3}`                                | `{1, 2, 3}`              |\n",
    "| `add()`                               | Adds an element to the set.                                                                       | `my_set.add(4)`                            | `{1, 2, 3, 4}`           |\n",
    "| `remove()`                            | Removes an element. Raises KeyError if the element is not present.                                | `my_set.remove(2)`                         | `{1, 3}`                 |\n",
    "| `discard()`                           | Removes an element. Does nothing if the element is not present.                                   | `my_set.discard(5)`                        | `{1, 3}`                 |\n",
    "| `pop()`                               | Removes and returns an arbitrary element. Raises KeyError if the set is empty.                    | `my_set.pop()`                             | `1` (and set changes)    |\n",
    "| `clear()`                             | Removes all elements from the set.                                                                | `my_set.clear()`                           | `set()`                  |\n",
    "| `copy()`                              | Returns a shallow copy of the set.                                                                | `my_set.copy()`                            | `{1, 2, 3}`              |\n",
    "| `union()` or `|`                      | Returns a set containing all elements from both sets (no duplicates).                             | `set1.union(set2)` or `set1 | set2`        | `{1, 2, 3, 4}`          |\n",
    "| `intersection()` or `&`               | Returns a set containing elements common to both sets.                                            | `set1.intersection(set2)` or `set1 & set2` | `{2, 3}`                 |\n",
    "| `difference()` or `-`                 | Returns a set containing elements in the first set but not in the second.                         | `set1.difference(set2)` or `set1 - set2`   | `{1}`                   |\n",
    "| `symmetric_difference()` or `^`       | Returns a set containing elements in either set, but not both.                                    | `set1.symmetric_difference(set2)` or `set1 ^ set2` | `{1, 4}`      |\n",
    "| `isdisjoint()`                        | Checks if two sets have no elements in common.                                                    | `set1.isdisjoint(set2)`                    | `False`                 |\n",
    "| `issubset()` or `<=`                  | Checks if all elements of one set are in another set.                                             | `set1.issubset(set2)` or `set1 <= set2`    | `True`                  |\n",
    "| `issuperset()` or `>=`                | Checks if all elements of another set are in the current set.                                     | `set1.issuperset(set2)` or `set1 >= set2`  | `False`                 |\n",
    "| `len()`                               | Returns the number of elements in the set.                                                        | `len(my_set)`                              | `3`                     |\n",
    "| `in`                                  | Checks if an element exists in the set.                                                           | `2 in my_set`                              | `True`                  |\n",
    "| `not in`                              | Checks if an element does not exist in the set.                                                   | `5 not in my_set`                          | `True`                  |\n",
    "| `frozenset()`                         | Creates an immutable version of a set.                                                           | `frozenset([1, 2, 3])`                     | `frozenset({1, 2, 3})`  |\n",
    "| `update()` or `|=`                    | Updates a set with elements from another set or iterable (union in place).                        | `set1.update(set2)` or `set1 |= set2`      | `{1, 2, 3, 4}`          |\n",
    "| `intersection_update()` or `&=`       | Updates a set with elements common to it and another set (intersection in place).                 | `set1.intersection_update(set2)` or `set1 &= set2` | `{2, 3}` |\n",
    "| `difference_update()` or `-=`         | Updates a set, removing elements found in another set (difference in place).                      | `set1.difference_update(set2)` or `set1 -= set2` | `{1}`       |\n",
    "| `symmetric_difference_update()` or `^=` | Updates a set with elements in either set but not both (symmetric difference in place).           | `set1.symmetric_difference_update(set2)` or `set1 ^= set2` | `{1, 4}` |\n",
    "| `max()`                               | Returns the maximum value in the set.                                                             | `max(my_set)`                              | `3`                     |\n",
    "| `min()`                               | Returns the minimum value in the set.                                                             | `min(my_set)`                              | `1`                     |\n",
    "| `sum()`                               | Returns the sum of all elements in the set.                                                       | `sum(my_set)`                              | `6`                     |\n",
    "| `sorted()`                            | Returns a sorted list of elements from the set.                                                   | `sorted(my_set)`                           | `[1, 2, 3]`             |\n"
   ]
  },
  {
   "cell_type": "markdown",
   "metadata": {
    "slideshow": {
     "slide_type": "slide"
    }
   },
   "source": [
    "### Dictionaries\n",
    "\n",
    "- A *dictionary* is a collection of *key*,  *value* pairs where both the  **key**  and the **value** are Python objects. Each element in a dictionary consists of a key (used for identification) and a value (data associated with the key).\n",
    "- A dictionary is an associative array, a key is mapped to a value. A dictionary maps a key to a value, similar to an associative array or a hash table in other programming languages.\n",
    "- Declare a `dict` using curly braces (`{}`) and separate keys using a colon (`:`).\n",
    "- Dictionaries are variable-length. Dictionaries can grow or shrink dynamically as elements are added or removed.\n",
    "- Keys are _immutable_ while the associated values are _mutable_.\n",
    "- Keys in a dictionary must be unique.\n",
    "- Any _hashable_ object can be used as a key. Dictionaries provide fast lookup, insertion, and deletion operations."
   ]
  },
  {
   "cell_type": "code",
   "execution_count": 6,
   "metadata": {
    "slideshow": {
     "slide_type": "subslide"
    }
   },
   "outputs": [
    {
     "name": "stdout",
     "output_type": "stream",
     "text": [
      "{'susan': 23, 'brian': 25, 'joe': 28, 'al': 21}\n",
      "\n",
      "\n",
      "{'susan': 22, 'brian': 25, 'joe': 28, 'al': 21}\n",
      "\n",
      "\n",
      "{'susan': 22, 'joe': 29, 'al': 21, 'frank': 30, 'salim': 27}\n",
      "\n",
      "\n",
      "False\n",
      "-1\n"
     ]
    },
    {
     "ename": "KeyError",
     "evalue": "'alim'",
     "output_type": "error",
     "traceback": [
      "\u001b[0;31m---------------------------------------------------------------------------\u001b[0m",
      "\u001b[0;31mKeyError\u001b[0m                                  Traceback (most recent call last)",
      "Cell \u001b[0;32mIn[6], line 22\u001b[0m\n\u001b[1;32m     20\u001b[0m \u001b[38;5;28mprint\u001b[39m(\u001b[38;5;124m'\u001b[39m\u001b[38;5;124malim\u001b[39m\u001b[38;5;124m'\u001b[39m \u001b[38;5;129;01min\u001b[39;00m ages)\n\u001b[1;32m     21\u001b[0m \u001b[38;5;28mprint\u001b[39m(ages\u001b[38;5;241m.\u001b[39mget(\u001b[38;5;124m'\u001b[39m\u001b[38;5;124malim\u001b[39m\u001b[38;5;124m'\u001b[39m, \u001b[38;5;241m-\u001b[39m\u001b[38;5;241m1\u001b[39m)) \u001b[38;5;66;03m# Returns a specified default value or None \u001b[39;00m\n\u001b[0;32m---> 22\u001b[0m \u001b[38;5;28mprint\u001b[39m(ages[\u001b[38;5;124m'\u001b[39m\u001b[38;5;124malim\u001b[39m\u001b[38;5;124m'\u001b[39m])\n",
      "\u001b[0;31mKeyError\u001b[0m: 'alim'"
     ]
    }
   ],
   "source": [
    "# Working with dictionaries\n",
    "\n",
    "ages = {'susan':23, 'brian':25, 'joe':28, 'al':21} \n",
    "print(ages)\n",
    "print(\"\\n\")\n",
    "\n",
    "# Keys are used for indexing\n",
    "ages['susan'] = 22\n",
    "print(ages)\n",
    "print(\"\\n\")\n",
    "\n",
    "# Adding, deleting and modifying key-value pairs\n",
    "ages['frank'] = 30  # A new key-value pair is created\n",
    "del ages['brian']\n",
    "ages.update({'salim':27, 'joe':29})\n",
    "print(ages) \n",
    "print(\"\\n\")\n",
    "\n",
    "# Check for membership by the key\n",
    "print('alim' in ages)\n",
    "print(ages.get('alim', -1)) # Returns a specified default value or None \n",
    "print(ages['alim']) # Throws an exception"
   ]
  },
  {
   "cell_type": "code",
   "execution_count": 8,
   "metadata": {
    "slideshow": {
     "slide_type": "subslide"
    }
   },
   "outputs": [
    {
     "name": "stdout",
     "output_type": "stream",
     "text": [
      "('susan', 22)\n",
      "('joe', 29)\n",
      "('al', 21)\n",
      "('frank', 30)\n",
      "('salim', 27)\n",
      "\n",
      "\n",
      "22\n",
      "29\n",
      "21\n",
      "30\n",
      "27\n",
      "\n",
      "\n",
      "('susan', 22)\n",
      "('joe', 29)\n",
      "('al', 21)\n",
      "('frank', 30)\n",
      "('salim', 27)\n",
      "\n",
      "\n"
     ]
    }
   ],
   "source": [
    "# More dictionary examples\n",
    "\n",
    "# Iterating over elements in a dictionary\n",
    "for k in ages:\n",
    "    print( (k,ages[k]) )\n",
    "print(\"\\n\")\n",
    "\n",
    "# Iterating over values in a dictionary\n",
    "for v in ages.values():\n",
    "    print(v)\n",
    "print(\"\\n\")\n",
    "\n",
    "# Iterating over key-value pairs as tuples\n",
    "for i in ages.items():\n",
    "    print(i)\n",
    "print(\"\\n\")\n",
    "\n"
   ]
  },
  {
   "attachments": {
    "image.png": {
     "image/png": "[encoded data removed]"
    }
   },
   "cell_type": "markdown",
   "metadata": {},
   "source": [
    "#### Zip\n",
    "The zip() function returns a zip object, which is an iterator of tuples where the first item in each passed iterator is paired together, and then the second item in each passed iterator are paired together etc.\n",
    "\n",
    "If the passed iterables have different lengths, the iterable with the least items decides the length of the new iterator.\n",
    "\n",
    "![image.png](attachment:image.png)"
   ]
  },
  {
   "cell_type": "code",
   "execution_count": 14,
   "metadata": {},
   "outputs": [
    {
     "name": "stdout",
     "output_type": "stream",
     "text": [
      "[('John', 'Jenny'), ('Charles', 'Christy'), ('Mike', 'Monica')]\n"
     ]
    }
   ],
   "source": [
    "a = (\"John\", \"Charles\", \"Mike\")\n",
    "b = (\"Jenny\", \"Christy\", \"Monica\")\n",
    "x = zip(a, b)\n",
    "\n",
    "# Convert to list to see all pairs at once\n",
    "print(list(x))\n"
   ]
  },
  {
   "cell_type": "code",
   "execution_count": 9,
   "metadata": {},
   "outputs": [
    {
     "name": "stdout",
     "output_type": "stream",
     "text": [
      "{'susan': 'Calgary', 'joe': 'Calgary', 'al': 'Vancouver', 'frank': 'Toronto', 'salim': 'Beirut'}\n"
     ]
    }
   ],
   "source": [
    "# using zip()\n",
    "cities = dict( zip(ages.keys(),['Calgary', 'Calgary', 'Vancouver', 'Toronto', 'Beirut']) )\n",
    "print(cities)"
   ]
  },
  {
   "cell_type": "code",
   "execution_count": 25,
   "metadata": {
    "slideshow": {
     "slide_type": "subslide"
    }
   },
   "outputs": [],
   "source": [
    "# Exercise:\n",
    "# Make sure the previous cell is evaluated so that we can work with\n",
    "# the ages and cities dictionaries.\n",
    "#\n",
    "# Make a new dictionary that maps a student name (key) to a \n",
    "# 2-tuple (value) consisting of the student's age\n",
    "# and the city they are from, i.e. the dictionary should be \n",
    "# of the form:\n",
    "# {'susan' : (22, 'Calgary'), 'joe' : (29, 'Calgary'), ... }\n",
    "\n",
    "# Iterate over the dictionary and print out each student's information \n",
    "# in the format:\n",
    "#\n",
    "# name  age   city"
   ]
  },
  {
   "cell_type": "markdown",
   "metadata": {
    "slideshow": {
     "slide_type": "slide"
    }
   },
   "source": [
    "## <a name=\"packingAndSlicing\"></a>Packing and Slicing\n",
    "\n",
    "- Python provides convenient mechanisms for packing/unpacking tuples in assignment statements, for loops and function return values.\n",
    "- Lists can be sliced and diced in a number of ways to get sublists."
   ]
  },
  {
   "cell_type": "code",
   "execution_count": 28,
   "metadata": {
    "slideshow": {
     "slide_type": "subslide"
    }
   },
   "outputs": [
    {
     "name": "stdout",
     "output_type": "stream",
     "text": [
      "a\n",
      "['b', (1, 2)]\n"
     ]
    }
   ],
   "source": [
    "# Unpacking tuples (or lists)\n",
    "\n",
    "# If a tuple appears on the RHS of an assignment expression and\n",
    "# variables appear on the left, the tuple gets unpacked. This requires \n",
    "# that there are as many variables on the left side of the equals sign \n",
    "# as there are elements in the tuple.\n",
    "\n",
    "tup = ('a', 'b', (1,2))\n",
    "a = tup\n",
    "p, q, r = tup\n",
    "\n",
    "# keep the first, discard the rest or keep the last discard the rest. An underscore is \n",
    "# conventionally used to collect all unwanted variables in a tuple.\n",
    "x, *_ = tup \n",
    "#*_, y = tup\n",
    "print(x)\n",
    "print(_)\n",
    "\n",
    "#print(a)\n",
    "#print(r)\n",
    "#print(x)\n",
    "#print(y)\n",
    "\n",
    "#print(\"\\n\")\n",
    "#print(_)\n",
    "\n"
   ]
  },
  {
   "cell_type": "code",
   "execution_count": 29,
   "metadata": {
    "slideshow": {
     "slide_type": "subslide"
    }
   },
   "outputs": [
    {
     "name": "stdout",
     "output_type": "stream",
     "text": [
      "x=0, y=1, z=2\n",
      "x=1, y=2, z=3\n",
      "x=3, y=4, z=5\n",
      "\n",
      "\n",
      "(1, 2)\n",
      "1\n",
      "2\n"
     ]
    }
   ],
   "source": [
    "# Tuple unpacking in for loops and functions\n",
    "\n",
    "# We can unpack a tuple in a for loop to get access to individual\n",
    "# scalars, e.g.\n",
    "\n",
    "for x, y, z in ((0,1,2), (1,2,3), (3,4,5)):\n",
    "    #print(x)\n",
    "    print(\"x={0}, y={1}, z={2}\".format(x,y,z))\n",
    "    \n",
    "print(\"\\n\")\n",
    "    \n",
    "# Another use is to return multiple values from a function, e.g.\n",
    "\n",
    "def fun():\n",
    "    return (1, 2)\n",
    "    \n",
    "a = fun()\n",
    "x, y = fun()\n",
    "\n",
    "print(a)\n",
    "print(x)\n",
    "print(y)\n",
    "\n",
    "    "
   ]
  },
  {
   "cell_type": "markdown",
   "metadata": {},
   "source": [
    "\n",
    "### Using Tuple Unpacking in Functions with Arbitrary Arguments\n",
    "\n",
    "- Python allows the use of the unpacking operator `*` in function definitions to accept an arbitrary number of arguments.\n",
    "- These arguments are collected into a tuple within the function."
   ]
  },
  {
   "cell_type": "code",
   "execution_count": 30,
   "metadata": {
    "slideshow": {
     "slide_type": "subslide"
    }
   },
   "outputs": [
    {
     "name": "stdout",
     "output_type": "stream",
     "text": [
      "55\n"
     ]
    }
   ],
   "source": [
    "\n",
    "\n",
    "def dist2(x, y, *args):\n",
    "    \"Returns the Euclidean squared distance of a two or higher dimensional point\"\n",
    "    result = x**2 + y**2\n",
    "    #print(args)\n",
    "    for v in args:\n",
    "        result += v**2\n",
    "    return result\n",
    "\n",
    "#print(dist2(1,1))\n",
    "#print(dist2(1,1,1))\n",
    "print(dist2(1,2,3,4,5))\n",
    "#dist2(1,1)"
   ]
  },
  {
   "cell_type": "code",
   "execution_count": 33,
   "metadata": {
    "slideshow": {
     "slide_type": "subslide"
    }
   },
   "outputs": [
    {
     "name": "stdout",
     "output_type": "stream",
     "text": [
      "[0, 1, 2, 3, 4]\n",
      "\n",
      "\n",
      "[0, 1, 2, 3, 4]\n",
      "[5, 6, 7, 8, 9]\n",
      "\n",
      "\n",
      "[5, 6, 7, 8]\n",
      "[5, 6, 7, 8, 9]\n",
      "\n",
      "\n",
      "[0, 2, 4, 6, 8]\n",
      "\n",
      "\n",
      "[9, 8, 7, 6, 5, 4, 3, 2, 1, 0]\n",
      "[9, 8, 7, 6]\n"
     ]
    }
   ],
   "source": [
    "# Slicing is used to extract portions of lists (or tuples).\n",
    "# Use the colon (:) operator\n",
    "\n",
    "\n",
    "x = list(range(10))\n",
    "\n",
    "# The last index is exclusive but the first is inclusive.\n",
    "print(x[0:5]) \n",
    "print(\"\\n\")\n",
    "\n",
    "# First and last can be omitted.\n",
    "print(x[:5])\n",
    "print(x[5:])\n",
    "print(\"\\n\")\n",
    "\n",
    "# Negative indices are used to index relative to the end\n",
    "print(x[-5:-1])\n",
    "print(x[-5:])\n",
    "print(\"\\n\")\n",
    "\n",
    "# We can also specify a step size with a second colon\n",
    "print(x[0:10:2])\n",
    "print(\"\\n\")\n",
    "\n",
    "# Conveniently, the step can be negative\n",
    "print(x[::-1])\n",
    "print(x[9:5:-1])"
   ]
  },
  {
   "cell_type": "code",
   "execution_count": 36,
   "metadata": {
    "slideshow": {
     "slide_type": "subslide"
    }
   },
   "outputs": [
    {
     "name": "stdout",
     "output_type": "stream",
     "text": [
      "[0, 1, 0, 3, 0, 5, 0, 7, 0, 9]\n",
      "\n",
      "\n",
      "(0, 2, 4, 6, 8)\n",
      "(9, 7, 5, 3, 1)\n"
     ]
    }
   ],
   "source": [
    "# Slicing can be used in assignments\n",
    "\n",
    "x = list(range(10))\n",
    "x[::2] = [0,0,0,0,0]\n",
    "print(x)\n",
    "print(\"\\n\")\n",
    "\n",
    "# The following is not allowed. Size on LHS and RHS must be the same\n",
    "# x[::2] = []\n",
    "\n",
    "# Slicing can be used to slice tuples. However, since tuples are\n",
    "# immutable, we cannot do assignments.\n",
    "\n",
    "x = tuple(range(10))\n",
    "print(x[::2])\n",
    "print(x[::-2])\n",
    "# The following is not allowed.\n",
    "# x[::2] = (1,3,5,7)"
   ]
  },
  {
   "cell_type": "markdown",
   "metadata": {
    "slideshow": {
     "slide_type": "slide"
    }
   },
   "source": [
    "## <a name=\"comprehensions\"></a>Comprehensions\n",
    "\n",
    "- Comprehensions are a convenient (syntactically) and preferred (for efficiency reasons) way to filter items in a collection and create a new collection as a result.\n",
    "- A comprehension is a filter+map operation.\n",
    "- Comprehensions work with lists, sets and dicts.\n",
    "- The syntax for a list comprehension is as follows:\n",
    "\n",
    "  `[<expr> for v in collection if <condition>]` \n",
    "  \n",
    "  \n",
    "- Set and dict comrehensions are similar. "
   ]
  },
  {
   "cell_type": "code",
   "execution_count": 39,
   "metadata": {
    "slideshow": {
     "slide_type": "subslide"
    }
   },
   "outputs": [
    {
     "name": "stdout",
     "output_type": "stream",
     "text": [
      "[1, 3, 5, 7, 9, 11, 13, 15, 17, 19]\n",
      "[1, 9, 25, 49, 81, 121, 169, 225, 289, 361]\n",
      "\n",
      "\n",
      "{0, 2, 4, 6, 8, 10, 12, 14, 16, 18}\n",
      "\n",
      "\n",
      "{'SUSAN': 22, 'JOE': 29, 'AL': 21, 'SALIM': 27}\n"
     ]
    }
   ],
   "source": [
    "# List comprehensions\n",
    "odds = [el for el in range(20) if el % 2 == 1]\n",
    "odds2 = [v**2 for v in range(20) if v % 2 == 1]\n",
    "print(odds)\n",
    "print(odds2)\n",
    "print(\"\\n\")\n",
    "\n",
    "# Set comprehensions are similar, just use curly braces\n",
    "evens = {v for v in list(range(20)) if v % 2 == 0}\n",
    "print(evens)\n",
    "print(\"\\n\")\n",
    "\n",
    "# For a dict comprehension, use a key-expr and a value-expr\n",
    "# separated by a colon. The entire expression is wrapped inside \n",
    "# curly braces. For example:\n",
    "Ages = {v.upper() : ages[v] for v in ages if ages[v] < 30}\n",
    "print(Ages)"
   ]
  },
  {
   "cell_type": "code",
   "execution_count": 17,
   "metadata": {},
   "outputs": [
    {
     "name": "stdout",
     "output_type": "stream",
     "text": [
      "[1, 2]\n",
      "[1, 2]\n"
     ]
    }
   ],
   "source": [
    "# Comprehensions can also be arbitrarily nested. Two levels of nesting \n",
    "# are common but additional levels can make the code hard to read. \n",
    "\n",
    "\n",
    "\n",
    "\n",
    "my_list = [[0,1,2], [3,4,5,6], [6,7,8]]\n",
    "flattened = []\n",
    "\n",
    "# First loop: iterate through sublists that have length 3\n",
    "for l in my_list:\n",
    "    # Check if the sublist has exactly 3 elements\n",
    "    if len(l) == 3:\n",
    "        # Second loop: iterate through numbers in the valid sublists\n",
    "        for x in l:\n",
    "            # Check if the number is between 0 and 5 (exclusive)\n",
    "            if 0 < x < 5:\n",
    "                flattened.append(x)\n",
    "\n",
    "print(flattened)\n",
    "\n",
    "\n",
    "flattened = [x for l in my_list if len(l) == 3 for x in l if 0 < x < 5]\n",
    "print(flattened)"
   ]
  },
  {
   "cell_type": "code",
   "execution_count": 41,
   "metadata": {
    "slideshow": {
     "slide_type": "subslide"
    }
   },
   "outputs": [
    {
     "name": "stdout",
     "output_type": "stream",
     "text": [
      "[1, 2]\n",
      "[1, 2]\n",
      "\n",
      "\n",
      "[[1, 2], [3, 4], []]\n"
     ]
    }
   ],
   "source": [
    "# A nested comprehension and a comprehension as an expression in\n",
    "# another comprehension are different.\n",
    "test = [[p for p in li if 0 < p < 5] for li in my_list]\n",
    "print(test)\n",
    "\n",
    "\n",
    "test = []\n",
    "for li in my_list:\n",
    "    filtered_sublist = []\n",
    "    for p in li:\n",
    "        if 0 < p < 5:\n",
    "            filtered_sublist.append(p)\n",
    "    test.append(filtered_sublist)"
   ]
  },
  {
   "cell_type": "markdown",
   "metadata": {
    "slideshow": {
     "slide_type": "subslide"
    }
   },
   "source": [
    "### Exercises:\n",
    "\n",
    "- Write code for a comprehension that iterates over a list of 3-tuples and returns a list consisting of the maximum in each tuple.\n",
    "- Write a list comprehension to determine all the divisors of a positive integer $n$.\n",
    "- Write a list comprehension to flatten a list of lists into a single list. Example: [[1, 2], [3, 4], [5]] → [1, 2, 3, 4, 5]\n",
    "- Remove Strings with Less Than 3 Characters: Write a list comprehension that removes all strings with less than three characters from a list of strings. Example: [\"a\", \"ab\", \"abc\", \"abcd\"] → [\"abc\", \"abcd\"]\n",
    "\n",
    "- Pairs of Numbers from Two Lists: Write a nested list comprehension to generate all pairs of numbers (x, y) where x comes from the first list and y comes from the second list. Example: [1, 2] and [3, 4] → [(1, 3), (1, 4), (2, 3), (2, 4)]"
   ]
  },
  {
   "cell_type": "markdown",
   "metadata": {
    "slideshow": {
     "slide_type": "slide"
    }
   },
   "source": [
    "## <a name=\"lambdas\"></a>Anonymous Functions (Lambdas)\n",
    "\n",
    "- Recall that everything in Python is an object. So are functions, we can pass them around as arguments.\n",
    "- We can also create functions __on-the-fly__ where a function is expected as an argument. These functions have no name and are not accessible from anywhere else. They are used when you need a function for a short period and do not want to formally define it using the `def` keyword.\n",
    "- Use the `lambda` keyword to define an anonymous function. An anonymous function consists of a single statement the result of which is returned. They can have any number of parameters.\n",
    "\n",
    "### Syntax\n",
    "\n",
    "```python\n",
    "lambda arguments: expression\n"
   ]
  },
  {
   "cell_type": "code",
   "execution_count": 43,
   "metadata": {
    "slideshow": {
     "slide_type": "subslide"
    }
   },
   "outputs": [
    {
     "name": "stdout",
     "output_type": "stream",
     "text": [
      "[0, 1, 4, 9, 16, 25, 36, 49, 64, 81]\n",
      "\n",
      "\n",
      "[0, 1, 4, 9, 16, 25, 36, 49, 64, 81]\n",
      "[0, 1, 4, 9, 16, 25, 36, 49, 64, 81]\n"
     ]
    }
   ],
   "source": [
    "# A function as an argument\n",
    "\n",
    "def apply_to_list( f, l ):\n",
    "    return [f(v) for v in l]\n",
    "    \n",
    "def square(x):\n",
    "    return x**2\n",
    "\n",
    "print(apply_to_list(square, list(range(10))))\n",
    "print(\"\\n\")\n",
    "\n",
    "# The above can be achieved with an anonymous function\n",
    "print(apply_to_list( lambda x: x**2 , list(range(10))))\n",
    "\n",
    "print([(lambda y: y**2)(x) for x in range(10)])\n",
    "    "
   ]
  },
  {
   "cell_type": "code",
   "execution_count": 44,
   "metadata": {
    "slideshow": {
     "slide_type": "subslide"
    }
   },
   "outputs": [
    {
     "name": "stdout",
     "output_type": "stream",
     "text": [
      "15\n",
      "\n",
      "\n",
      "[(0, 0), (0, 1), (0, 2), (0, 3), (1, 0), (1, 1), (1, 2), (1, 3), (2, 0), (2, 1), (2, 2), (2, 3)]\n",
      "\n",
      "\n",
      "[(0, 0), (0, 1), (0, 2), (0, 3), (1, 0), (1, 1), (1, 2), (1, 3), (2, 0), (2, 1), (2, 2), (2, 3)]\n",
      "[(0, 0), (1, 0), (2, 0), (0, 1), (1, 1), (2, 1), (0, 2), (1, 2), (2, 2), (0, 3), (1, 3), (2, 3)]\n"
     ]
    }
   ],
   "source": [
    "# Function currying\n",
    "\n",
    "# Currying is a way to derive a new function from an existing function by\n",
    "# partial argument application. For example:\n",
    "\n",
    "def adder(x,y):\n",
    "    return x + y\n",
    "\n",
    "adder_ten = lambda x: adder(x,10)\n",
    "\n",
    "print(adder_ten(5))\n",
    "print(\"\\n\")\n",
    "\n",
    "# The builtin 'sorted' function optionally takes a key function\n",
    "# that specifies how keys are to be sorted.\n",
    "\n",
    "tab = [(i,j) for i in range(3) for j in range(4)]\n",
    "print(tab)\n",
    "print(\"\\n\")\n",
    "print(sorted(tab, key = lambda x: x[0])) # sort based on first component\n",
    "print(sorted(tab, key = lambda x: x[1])) # sort based on second component\n"
   ]
  },
  {
   "cell_type": "markdown",
   "metadata": {
    "slideshow": {
     "slide_type": "slide"
    }
   },
   "source": [
    "## Generators and Generator Expressions\n",
    "\n",
    "- Python allows you to iterate over objects that are _iterable_. Tuples, Lists, Sets and Dicts are all iterable.\n",
    "- A _generator_ is a way to construct iterable objects in Python so that they can be used inside the context of a `for` loop.\n",
    "- Defining a generator is similar to defining a function. Use `yield` instead of `return` to yield the next item in the iteration. The generator will remember the state of the iterator between subsequent calls. \n",
    "- _Generator expressions_ provide syntatic sugar for creating generators. Their syntax is smilar to comprehensions. \n"
   ]
  },
  {
   "cell_type": "code",
   "execution_count": 1,
   "metadata": {
    "slideshow": {
     "slide_type": "subslide"
    }
   },
   "outputs": [
    {
     "name": "stdout",
     "output_type": "stream",
     "text": [
      "1\n",
      "2\n",
      "3\n",
      "4\n",
      "5\n"
     ]
    }
   ],
   "source": [
    "def count_up_to(n):\n",
    "    \"\"\"Yield numbers from 1 up to n.\"\"\"\n",
    "    i = 1\n",
    "    while i <= n:\n",
    "        yield i\n",
    "        i += 1\n",
    "\n",
    "for number in count_up_to(5):\n",
    "    print(number)\n",
    "# Output:\n",
    "# 1\n",
    "# 2\n",
    "# 3\n",
    "# 4\n",
    "# 5\n"
   ]
  },
  {
   "cell_type": "markdown",
   "metadata": {},
   "source": [
    "How Generators Work:"
   ]
  },
  {
   "cell_type": "code",
   "execution_count": 2,
   "metadata": {},
   "outputs": [
    {
     "name": "stdout",
     "output_type": "stream",
     "text": [
      "1\n",
      "2\n",
      "3\n"
     ]
    }
   ],
   "source": [
    "gen = count_up_to(3)  # Create the generator object\n",
    "print(next(gen))      # Output: 1\n",
    "print(next(gen))      # Output: 2\n",
    "print(next(gen))      # Output: 3\n",
    "# print(next(gen))    # Raises StopIteration (No more items to yield)\n"
   ]
  },
  {
   "cell_type": "markdown",
   "metadata": {},
   "source": [
    "Generator Expression:"
   ]
  },
  {
   "cell_type": "code",
   "execution_count": 4,
   "metadata": {},
   "outputs": [
    {
     "name": "stdout",
     "output_type": "stream",
     "text": [
      "0\n",
      "1\n",
      "[4, 9, 16]\n"
     ]
    }
   ],
   "source": [
    "squares = (x ** 2 for x in range(5))\n",
    "print(next(squares))  # Output: 0\n",
    "print(next(squares))  # Output: 1\n",
    "print(list(squares))  # Output: [4, 9, 16] (Remaining elements)\n"
   ]
  },
  {
   "cell_type": "markdown",
   "metadata": {
    "slideshow": {
     "slide_type": "subslide"
    }
   },
   "source": [
    "### Exercise\n",
    "\n",
    "\n",
    "- Write a lambda function that sorts a list of strings based on the last character of each string using the sorted function.\n",
    "\n",
    "Example:\n",
    "Input: [\"apple\", \"banana\", \"cherry\"]\n",
    "\n",
    "\n",
    "Output: [\"banana\", \"apple\", \"cherry\"]\n",
    "\n",
    " - Write a lambda function that sorts a list of tuples based on the second element of each tuple. If the second element is the same, sort by the first element.\n",
    "\n",
    "Example:\n",
    "Input: [(1, 3), (3, 2), (2, 2), (4, 3)]\n",
    "\n",
    "\n",
    "Output: [(2, 2), (3, 2), (1, 3), (4, 3)]\n",
    "\n",
    " "
   ]
  },
  {
   "cell_type": "markdown",
   "metadata": {},
   "source": []
  }
 ],
 "metadata": {
  "celltoolbar": "Slideshow",
  "kernelspec": {
   "display_name": "Python 3 (ipykernel)",
   "language": "python",
   "name": "python3"
  },
  "language_info": {
   "codemirror_mode": {
    "name": "ipython",
    "version": 3
   },
   "file_extension": ".py",
   "mimetype": "text/x-python",
   "name": "python",
   "nbconvert_exporter": "python",
   "pygments_lexer": "ipython3",
   "version": "3.12.7"
  }
 },
 "nbformat": 4,
 "nbformat_minor": 4
}
